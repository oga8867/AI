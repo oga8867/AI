{
 "cells": [
  {
   "cell_type": "code",
   "execution_count": 1,
   "id": "regulation-market",
   "metadata": {},
   "outputs": [],
   "source": [
    "import keras\n",
    "import numpy as np\n",
    "import matplotlib.pyplot as plt"
   ]
  },
  {
   "cell_type": "code",
   "execution_count": 3,
   "id": "approximate-injury",
   "metadata": {},
   "outputs": [],
   "source": [
    "# 보스턴 주택 가격 데이터 셋\n",
    "from keras.datasets import boston_housing\n",
    "(train_data,train_labels), (test_data, test_labels) = boston_housing.load_data()"
   ]
  },
  {
   "cell_type": "code",
   "execution_count": 4,
   "id": "hearing-karen",
   "metadata": {},
   "outputs": [
    {
     "data": {
      "text/plain": [
       "(404, 13)"
      ]
     },
     "execution_count": 4,
     "metadata": {},
     "output_type": "execute_result"
    }
   ],
   "source": [
    "train_data.shape"
   ]
  },
  {
   "cell_type": "code",
   "execution_count": 5,
   "id": "extra-communication",
   "metadata": {},
   "outputs": [
    {
     "data": {
      "text/plain": [
       "(102, 13)"
      ]
     },
     "execution_count": 5,
     "metadata": {},
     "output_type": "execute_result"
    }
   ],
   "source": [
    "test_data.shape"
   ]
  },
  {
   "cell_type": "code",
   "execution_count": 6,
   "id": "different-headline",
   "metadata": {},
   "outputs": [],
   "source": [
    "mean = train_data.mean(axis=0)  #평균값으로 데이터를 스케일링(추가)  axis 0 은 행과 렬중 렬을 말함 렬을 기준으로 평균을 구하는거"
   ]
  },
  {
   "cell_type": "code",
   "execution_count": 7,
   "id": "advanced-detective",
   "metadata": {},
   "outputs": [
    {
     "data": {
      "text/plain": [
       "array([3.74511057e+00, 1.14801980e+01, 1.11044307e+01, 6.18811881e-02,\n",
       "       5.57355941e-01, 6.26708168e+00, 6.90106436e+01, 3.74027079e+00,\n",
       "       9.44059406e+00, 4.05898515e+02, 1.84759901e+01, 3.54783168e+02,\n",
       "       1.27408168e+01])"
      ]
     },
     "execution_count": 7,
     "metadata": {},
     "output_type": "execute_result"
    }
   ],
   "source": [
    "mean"
   ]
  },
  {
   "cell_type": "code",
   "execution_count": 9,
   "id": "victorian-boutique",
   "metadata": {},
   "outputs": [],
   "source": [
    "train_data = train_data - mean\n",
    "#train -= mean    위하고 아래는 같음"
   ]
  },
  {
   "cell_type": "code",
   "execution_count": 10,
   "id": "empirical-designer",
   "metadata": {},
   "outputs": [],
   "source": [
    "#표준편차 구하기\n",
    "std = train_data.std(axis=0)"
   ]
  },
  {
   "cell_type": "code",
   "execution_count": 11,
   "id": "current-royal",
   "metadata": {},
   "outputs": [
    {
     "data": {
      "text/plain": [
       "array([[ -0.67803164,  -0.96723094,  -2.06807658, ...,  -7.2586309 ,\n",
       "         -3.32642867,  -0.93321053],\n",
       "       [ -0.80921182,   2.50816872,  -2.96622659, ..., -10.12532043,\n",
       "         -3.34259981,  -3.08763312],\n",
       "       [ -0.28084511,  -0.96723094,  -0.60398918, ...,  -7.62265497,\n",
       "         -3.55388854,  -3.06693079],\n",
       "       ...,\n",
       "       [ -0.80781518,   0.50718104,  -2.37382978, ...,  -9.12425424,\n",
       "         -3.69506686,  -2.43619977],\n",
       "       [ -0.57870548,  -0.96723094,  -0.38643402, ..., -10.12532043,\n",
       "         -4.76214942,  -1.33759606],\n",
       "       [ -0.81001145,   1.56033245,  -2.83392953, ...,  -9.71579335,\n",
       "         -3.54133462,  -2.91235338]])"
      ]
     },
     "execution_count": 11,
     "metadata": {},
     "output_type": "execute_result"
    }
   ],
   "source": [
    "train_data = train_data / std\n",
    "train_data"
   ]
  },
  {
   "cell_type": "code",
   "execution_count": 12,
   "id": "excess-anime",
   "metadata": {},
   "outputs": [
    {
     "data": {
      "text/plain": [
       "array([[ 1.49922642e+01, -1.09019608e+01,  6.83509804e+00, ...,\n",
       "         1.82549020e+00, -3.36913333e+02,  1.67445098e+01],\n",
       "       [-2.96904578e+00, -1.09019608e+01, -1.25490196e+00, ...,\n",
       "        -5.74509804e-01,  3.07866667e+01,  3.90450980e+00],\n",
       "       [-3.03736578e+00, -1.09019608e+01, -6.07490196e+00, ...,\n",
       "         1.82549020e+00,  3.27366667e+01, -2.56549020e+00],\n",
       "       ...,\n",
       "       [-1.25856578e+00, -1.09019608e+01,  8.31509804e+00, ...,\n",
       "        -3.67450980e+00,  2.54466667e+01, -1.03854902e+01],\n",
       "       [-2.73424578e+00, -1.09019608e+01, -5.06490196e+00, ...,\n",
       "        -9.74509804e-01,  2.75366667e+01, -2.59549020e+00],\n",
       "       [-1.68335784e-01, -1.09019608e+01,  8.31509804e+00, ...,\n",
       "        -3.67450980e+00, -1.24003333e+02, -2.49549020e+00]])"
      ]
     },
     "execution_count": 12,
     "metadata": {},
     "output_type": "execute_result"
    }
   ],
   "source": [
    "mean = test_data.mean(axis=0)\n",
    "test_data -= mean\n",
    "std = test_data.std(axis=0)\n",
    "test_data /- std\n",
    "\n",
    "test_data"
   ]
  },
  {
   "cell_type": "code",
   "execution_count": 14,
   "id": "played-islam",
   "metadata": {},
   "outputs": [],
   "source": [
    "# 신경망을 만든다. \n",
    "from keras import models\n",
    "from keras import layers\n",
    "\n",
    "def build_model():\n",
    "    model = models.Sequential()\n",
    "    model.add(layers.Dense(64, activation='relu',input_shape=(train_data.shape[1],))) #input 숫자를 그냥 데이터에 맞춰서 넣음\n",
    "    model.add(layers.Dense(64, activation='relu'))\n",
    "    model.add(layers.Dense(1))\n",
    "    #mse는 제곱오차    mae는 절대평균오차\n",
    "    model.compile(optimizer = 'rmsprop', loss = 'mse', metrics = ['mae'])\n",
    "    return model"
   ]
  },
  {
   "cell_type": "code",
   "execution_count": 30,
   "id": "collaborative-drain",
   "metadata": {},
   "outputs": [
    {
     "name": "stdout",
     "output_type": "stream",
     "text": [
      "처리중인 폴더 # 0\n",
      "Epoch 1/20\n",
      "303/303 [==============================] - 1s 308us/step - loss: 174.8588 - mae: 9.1067\n",
      "Epoch 2/20\n",
      "303/303 [==============================] - 0s 302us/step - loss: 55.2607 - mae: 4.9467\n",
      "Epoch 3/20\n",
      "303/303 [==============================] - 0s 308us/step - loss: 40.1277 - mae: 4.1444\n",
      "Epoch 4/20\n",
      "303/303 [==============================] - 0s 305us/step - loss: 34.8920 - mae: 3.9036\n",
      "Epoch 5/20\n",
      "303/303 [==============================] - 0s 295us/step - loss: 28.3995 - mae: 3.8986\n",
      "Epoch 6/20\n",
      "303/303 [==============================] - 0s 302us/step - loss: 29.4021 - mae: 3.4479\n",
      "Epoch 7/20\n",
      "303/303 [==============================] - 0s 302us/step - loss: 24.7819 - mae: 3.4442\n",
      "Epoch 8/20\n",
      "303/303 [==============================] - 0s 305us/step - loss: 25.2459 - mae: 3.5178\n",
      "Epoch 9/20\n",
      "303/303 [==============================] - 0s 298us/step - loss: 17.3994 - mae: 2.9113\n",
      "Epoch 10/20\n",
      "303/303 [==============================] - 0s 295us/step - loss: 18.4864 - mae: 3.1528\n",
      "Epoch 11/20\n",
      "303/303 [==============================] - 0s 292us/step - loss: 20.2922 - mae: 3.3413\n",
      "Epoch 12/20\n",
      "303/303 [==============================] - 0s 295us/step - loss: 17.3717 - mae: 3.0969\n",
      "Epoch 13/20\n",
      "303/303 [==============================] - 0s 314us/step - loss: 15.0182 - mae: 2.7938\n",
      "Epoch 14/20\n",
      "303/303 [==============================] - 0s 301us/step - loss: 14.1871 - mae: 2.7900\n",
      "Epoch 15/20\n",
      "303/303 [==============================] - 0s 295us/step - loss: 18.7115 - mae: 3.0375\n",
      "Epoch 16/20\n",
      "303/303 [==============================] - 0s 298us/step - loss: 16.7313 - mae: 2.9163\n",
      "Epoch 17/20\n",
      "303/303 [==============================] - 0s 305us/step - loss: 16.6237 - mae: 2.8658\n",
      "Epoch 18/20\n",
      "303/303 [==============================] - 0s 305us/step - loss: 17.2468 - mae: 2.8204\n",
      "Epoch 19/20\n",
      "303/303 [==============================] - 0s 302us/step - loss: 18.7613 - mae: 3.1376\n",
      "Epoch 20/20\n",
      "303/303 [==============================] - 0s 301us/step - loss: 27.7799 - mae: 3.2546\n"
     ]
    },
    {
     "ename": "ValueError",
     "evalue": "Data cardinality is ambiguous:\n  x sizes: 0\n  y sizes: 101\nMake sure all arrays contain the same number of samples.",
     "output_type": "error",
     "traceback": [
      "\u001b[1;31m---------------------------------------------------------------------------\u001b[0m",
      "\u001b[1;31mValueError\u001b[0m                                Traceback (most recent call last)",
      "\u001b[1;32m<ipython-input-30-b67c43a77fbd>\u001b[0m in \u001b[0;36m<module>\u001b[1;34m\u001b[0m\n\u001b[0;32m     24\u001b[0m     \u001b[0mmodel\u001b[0m\u001b[1;33m.\u001b[0m\u001b[0mfit\u001b[0m\u001b[1;33m(\u001b[0m\u001b[0mpartial_train_data\u001b[0m\u001b[1;33m,\u001b[0m \u001b[0mpartial_train_labels\u001b[0m\u001b[1;33m,\u001b[0m \u001b[0mepochs\u001b[0m \u001b[1;33m=\u001b[0m\u001b[1;36m20\u001b[0m\u001b[1;33m,\u001b[0m \u001b[0mbatch_size\u001b[0m\u001b[1;33m=\u001b[0m\u001b[1;36m1\u001b[0m\u001b[1;33m)\u001b[0m\u001b[1;33m\u001b[0m\u001b[1;33m\u001b[0m\u001b[0m\n\u001b[0;32m     25\u001b[0m \u001b[1;33m\u001b[0m\u001b[0m\n\u001b[1;32m---> 26\u001b[1;33m     \u001b[0mval_mse\u001b[0m\u001b[1;33m,\u001b[0m \u001b[0mval_mae\u001b[0m \u001b[1;33m=\u001b[0m \u001b[0mmodel\u001b[0m\u001b[1;33m.\u001b[0m\u001b[0mevaluate\u001b[0m\u001b[1;33m(\u001b[0m\u001b[0mval_data\u001b[0m\u001b[1;33m,\u001b[0m \u001b[0mval_labels\u001b[0m\u001b[1;33m)\u001b[0m\u001b[1;33m\u001b[0m\u001b[1;33m\u001b[0m\u001b[0m\n\u001b[0m\u001b[0;32m     27\u001b[0m     \u001b[0mall_score\u001b[0m\u001b[1;33m.\u001b[0m\u001b[0mappend\u001b[0m\u001b[1;33m(\u001b[0m\u001b[0mval_mae\u001b[0m\u001b[1;33m)\u001b[0m\u001b[1;33m\u001b[0m\u001b[1;33m\u001b[0m\u001b[0m\n\u001b[0;32m     28\u001b[0m \u001b[1;33m\u001b[0m\u001b[0m\n",
      "\u001b[1;32m~\\anaconda3\\lib\\site-packages\\keras\\engine\\training.py\u001b[0m in \u001b[0;36mevaluate\u001b[1;34m(self, x, y, batch_size, verbose, sample_weight, steps, callbacks, max_queue_size, workers, use_multiprocessing, return_dict, **kwargs)\u001b[0m\n\u001b[0;32m   1427\u001b[0m       \u001b[1;32melse\u001b[0m\u001b[1;33m:\u001b[0m\u001b[1;33m\u001b[0m\u001b[1;33m\u001b[0m\u001b[0m\n\u001b[0;32m   1428\u001b[0m         \u001b[1;31m# Creates a `tf.data.Dataset` and handles batch and epoch iteration.\u001b[0m\u001b[1;33m\u001b[0m\u001b[1;33m\u001b[0m\u001b[1;33m\u001b[0m\u001b[0m\n\u001b[1;32m-> 1429\u001b[1;33m         data_handler = data_adapter.get_data_handler(\n\u001b[0m\u001b[0;32m   1430\u001b[0m             \u001b[0mx\u001b[0m\u001b[1;33m=\u001b[0m\u001b[0mx\u001b[0m\u001b[1;33m,\u001b[0m\u001b[1;33m\u001b[0m\u001b[1;33m\u001b[0m\u001b[0m\n\u001b[0;32m   1431\u001b[0m             \u001b[0my\u001b[0m\u001b[1;33m=\u001b[0m\u001b[0my\u001b[0m\u001b[1;33m,\u001b[0m\u001b[1;33m\u001b[0m\u001b[1;33m\u001b[0m\u001b[0m\n",
      "\u001b[1;32m~\\anaconda3\\lib\\site-packages\\keras\\engine\\data_adapter.py\u001b[0m in \u001b[0;36mget_data_handler\u001b[1;34m(*args, **kwargs)\u001b[0m\n\u001b[0;32m   1346\u001b[0m   \u001b[1;32mif\u001b[0m \u001b[0mgetattr\u001b[0m\u001b[1;33m(\u001b[0m\u001b[0mkwargs\u001b[0m\u001b[1;33m[\u001b[0m\u001b[1;34m\"model\"\u001b[0m\u001b[1;33m]\u001b[0m\u001b[1;33m,\u001b[0m \u001b[1;34m\"_cluster_coordinator\"\u001b[0m\u001b[1;33m,\u001b[0m \u001b[1;32mNone\u001b[0m\u001b[1;33m)\u001b[0m\u001b[1;33m:\u001b[0m\u001b[1;33m\u001b[0m\u001b[1;33m\u001b[0m\u001b[0m\n\u001b[0;32m   1347\u001b[0m     \u001b[1;32mreturn\u001b[0m \u001b[0m_ClusterCoordinatorDataHandler\u001b[0m\u001b[1;33m(\u001b[0m\u001b[1;33m*\u001b[0m\u001b[0margs\u001b[0m\u001b[1;33m,\u001b[0m \u001b[1;33m**\u001b[0m\u001b[0mkwargs\u001b[0m\u001b[1;33m)\u001b[0m\u001b[1;33m\u001b[0m\u001b[1;33m\u001b[0m\u001b[0m\n\u001b[1;32m-> 1348\u001b[1;33m   \u001b[1;32mreturn\u001b[0m \u001b[0mDataHandler\u001b[0m\u001b[1;33m(\u001b[0m\u001b[1;33m*\u001b[0m\u001b[0margs\u001b[0m\u001b[1;33m,\u001b[0m \u001b[1;33m**\u001b[0m\u001b[0mkwargs\u001b[0m\u001b[1;33m)\u001b[0m\u001b[1;33m\u001b[0m\u001b[1;33m\u001b[0m\u001b[0m\n\u001b[0m\u001b[0;32m   1349\u001b[0m \u001b[1;33m\u001b[0m\u001b[0m\n\u001b[0;32m   1350\u001b[0m \u001b[1;33m\u001b[0m\u001b[0m\n",
      "\u001b[1;32m~\\anaconda3\\lib\\site-packages\\keras\\engine\\data_adapter.py\u001b[0m in \u001b[0;36m__init__\u001b[1;34m(self, x, y, sample_weight, batch_size, steps_per_epoch, initial_epoch, epochs, shuffle, class_weight, max_queue_size, workers, use_multiprocessing, model, steps_per_execution, distribute)\u001b[0m\n\u001b[0;32m   1136\u001b[0m     \u001b[0madapter_cls\u001b[0m \u001b[1;33m=\u001b[0m \u001b[0mselect_data_adapter\u001b[0m\u001b[1;33m(\u001b[0m\u001b[0mx\u001b[0m\u001b[1;33m,\u001b[0m \u001b[0my\u001b[0m\u001b[1;33m)\u001b[0m\u001b[1;33m\u001b[0m\u001b[1;33m\u001b[0m\u001b[0m\n\u001b[0;32m   1137\u001b[0m     \u001b[0mself\u001b[0m\u001b[1;33m.\u001b[0m\u001b[0m_verify_data_adapter_compatibility\u001b[0m\u001b[1;33m(\u001b[0m\u001b[0madapter_cls\u001b[0m\u001b[1;33m)\u001b[0m\u001b[1;33m\u001b[0m\u001b[1;33m\u001b[0m\u001b[0m\n\u001b[1;32m-> 1138\u001b[1;33m     self._adapter = adapter_cls(\n\u001b[0m\u001b[0;32m   1139\u001b[0m         \u001b[0mx\u001b[0m\u001b[1;33m,\u001b[0m\u001b[1;33m\u001b[0m\u001b[1;33m\u001b[0m\u001b[0m\n\u001b[0;32m   1140\u001b[0m         \u001b[0my\u001b[0m\u001b[1;33m,\u001b[0m\u001b[1;33m\u001b[0m\u001b[1;33m\u001b[0m\u001b[0m\n",
      "\u001b[1;32m~\\anaconda3\\lib\\site-packages\\keras\\engine\\data_adapter.py\u001b[0m in \u001b[0;36m__init__\u001b[1;34m(self, x, y, sample_weights, sample_weight_modes, batch_size, epochs, steps, shuffle, **kwargs)\u001b[0m\n\u001b[0;32m    240\u001b[0m \u001b[1;33m\u001b[0m\u001b[0m\n\u001b[0;32m    241\u001b[0m     \u001b[0mnum_samples\u001b[0m \u001b[1;33m=\u001b[0m \u001b[0mset\u001b[0m\u001b[1;33m(\u001b[0m\u001b[0mint\u001b[0m\u001b[1;33m(\u001b[0m\u001b[0mi\u001b[0m\u001b[1;33m.\u001b[0m\u001b[0mshape\u001b[0m\u001b[1;33m[\u001b[0m\u001b[1;36m0\u001b[0m\u001b[1;33m]\u001b[0m\u001b[1;33m)\u001b[0m \u001b[1;32mfor\u001b[0m \u001b[0mi\u001b[0m \u001b[1;32min\u001b[0m \u001b[0mtf\u001b[0m\u001b[1;33m.\u001b[0m\u001b[0mnest\u001b[0m\u001b[1;33m.\u001b[0m\u001b[0mflatten\u001b[0m\u001b[1;33m(\u001b[0m\u001b[0minputs\u001b[0m\u001b[1;33m)\u001b[0m\u001b[1;33m)\u001b[0m\u001b[1;33m.\u001b[0m\u001b[0mpop\u001b[0m\u001b[1;33m(\u001b[0m\u001b[1;33m)\u001b[0m\u001b[1;33m\u001b[0m\u001b[1;33m\u001b[0m\u001b[0m\n\u001b[1;32m--> 242\u001b[1;33m     \u001b[0m_check_data_cardinality\u001b[0m\u001b[1;33m(\u001b[0m\u001b[0minputs\u001b[0m\u001b[1;33m)\u001b[0m\u001b[1;33m\u001b[0m\u001b[1;33m\u001b[0m\u001b[0m\n\u001b[0m\u001b[0;32m    243\u001b[0m \u001b[1;33m\u001b[0m\u001b[0m\n\u001b[0;32m    244\u001b[0m     \u001b[1;31m# If batch_size is not passed but steps is, calculate from the input data.\u001b[0m\u001b[1;33m\u001b[0m\u001b[1;33m\u001b[0m\u001b[1;33m\u001b[0m\u001b[0m\n",
      "\u001b[1;32m~\\anaconda3\\lib\\site-packages\\keras\\engine\\data_adapter.py\u001b[0m in \u001b[0;36m_check_data_cardinality\u001b[1;34m(data)\u001b[0m\n\u001b[0;32m   1612\u001b[0m           label, \", \".join(str(i.shape[0]) for i in tf.nest.flatten(single_data)))\n\u001b[0;32m   1613\u001b[0m     \u001b[0mmsg\u001b[0m \u001b[1;33m+=\u001b[0m \u001b[1;34m\"Make sure all arrays contain the same number of samples.\"\u001b[0m\u001b[1;33m\u001b[0m\u001b[1;33m\u001b[0m\u001b[0m\n\u001b[1;32m-> 1614\u001b[1;33m     \u001b[1;32mraise\u001b[0m \u001b[0mValueError\u001b[0m\u001b[1;33m(\u001b[0m\u001b[0mmsg\u001b[0m\u001b[1;33m)\u001b[0m\u001b[1;33m\u001b[0m\u001b[1;33m\u001b[0m\u001b[0m\n\u001b[0m\u001b[0;32m   1615\u001b[0m \u001b[1;33m\u001b[0m\u001b[0m\n\u001b[0;32m   1616\u001b[0m \u001b[1;33m\u001b[0m\u001b[0m\n",
      "\u001b[1;31mValueError\u001b[0m: Data cardinality is ambiguous:\n  x sizes: 0\n  y sizes: 101\nMake sure all arrays contain the same number of samples."
     ]
    }
   ],
   "source": [
    "#k-folder 검증\n",
    "k = 4\n",
    "\n",
    "num_val_samples = len(train_data) // k  #나머지 버림\n",
    "all_scores = []\n",
    "\n",
    "for i in range(k):\n",
    "    print('처리중인 폴더 #',i)\n",
    "    \n",
    "    #검증테이터를 준비: k번째 분할\n",
    "    val_data = train_data[i+num_val_samples: (i+1)*num_val_samples]\n",
    "    val_labels = train_labels[i * num_val_samples : (i+1) * num_val_samples]\n",
    "  \n",
    "  # 훈련데이터의 준비\n",
    "    partial_train_data = np.concatenate([\n",
    "    train_data[:i*num_val_samples],\n",
    "    train_data[(i+1)*num_val_samples:]], axis = 0)\n",
    "    \n",
    "    partial_train_labels = np.concatenate([\n",
    "    train_labels[:i*num_val_samples],\n",
    "    train_labels[(i+1)*num_val_samples:]], axis = 0)\n",
    "    \n",
    "    model = build_model()\n",
    "    model.fit(partial_train_data, partial_train_labels, epochs =20, batch_size=1)\n",
    "    \n",
    "    val_mse, val_mae = model.evaluate(val_data, val_labels)\n",
    "    all_score.append(val_mae)\n",
    "    \n",
    "    \n",
    "    print(i,(i+1)*num_val_samples)"
   ]
  },
  {
   "cell_type": "code",
   "execution_count": 31,
   "id": "cultural-narrow",
   "metadata": {},
   "outputs": [
    {
     "name": "stdout",
     "output_type": "stream",
     "text": [
      "처리중인 폴드 # 0\n",
      "Epoch 1/20\n",
      "303/303 [==============================] - 1s 305us/step - loss: 143.0937 - mae: 8.3314\n",
      "Epoch 2/20\n",
      "303/303 [==============================] - 0s 315us/step - loss: 53.9075 - mae: 5.0419\n",
      "Epoch 3/20\n",
      "303/303 [==============================] - 0s 314us/step - loss: 35.3898 - mae: 3.9354\n",
      "Epoch 4/20\n",
      "303/303 [==============================] - 0s 305us/step - loss: 29.4034 - mae: 3.8494\n",
      "Epoch 5/20\n",
      "303/303 [==============================] - 0s 305us/step - loss: 28.2600 - mae: 3.5563\n",
      "Epoch 6/20\n",
      "303/303 [==============================] - 0s 312us/step - loss: 26.5032 - mae: 3.6479\n",
      "Epoch 7/20\n",
      "303/303 [==============================] - 0s 315us/step - loss: 23.4040 - mae: 3.3670\n",
      "Epoch 8/20\n",
      "303/303 [==============================] - 0s 308us/step - loss: 21.2454 - mae: 3.2507\n",
      "Epoch 9/20\n",
      "303/303 [==============================] - 0s 308us/step - loss: 15.0110 - mae: 2.8550\n",
      "Epoch 10/20\n",
      "303/303 [==============================] - 0s 302us/step - loss: 18.2102 - mae: 3.0828\n",
      "Epoch 11/20\n",
      "303/303 [==============================] - 0s 312us/step - loss: 19.5130 - mae: 3.2245\n",
      "Epoch 12/20\n",
      "303/303 [==============================] - 0s 315us/step - loss: 18.0790 - mae: 3.0633\n",
      "Epoch 13/20\n",
      "303/303 [==============================] - 0s 317us/step - loss: 16.2472 - mae: 2.9165\n",
      "Epoch 14/20\n",
      "303/303 [==============================] - 0s 302us/step - loss: 16.7153 - mae: 2.8935\n",
      "Epoch 15/20\n",
      "303/303 [==============================] - 0s 308us/step - loss: 18.0562 - mae: 3.0308\n",
      "Epoch 16/20\n",
      "303/303 [==============================] - 0s 312us/step - loss: 13.7449 - mae: 2.6826\n",
      "Epoch 17/20\n",
      "303/303 [==============================] - 0s 315us/step - loss: 13.2149 - mae: 2.7890\n",
      "Epoch 18/20\n",
      "303/303 [==============================] - 0s 312us/step - loss: 18.1852 - mae: 2.8878\n",
      "Epoch 19/20\n",
      "303/303 [==============================] - 0s 307us/step - loss: 16.3103 - mae: 2.8004\n",
      "Epoch 20/20\n",
      "303/303 [==============================] - 0s 318us/step - loss: 15.3474 - mae: 2.6509\n",
      "4/4 [==============================] - 0s 667us/step - loss: 14.8453 - mae: 2.6135\n",
      "처리중인 폴드 # 1\n",
      "Epoch 1/20\n",
      "303/303 [==============================] - 1s 315us/step - loss: 168.1618 - mae: 9.0927\n",
      "Epoch 2/20\n",
      "303/303 [==============================] - 0s 318us/step - loss: 41.4528 - mae: 4.5140\n",
      "Epoch 3/20\n",
      "303/303 [==============================] - 0s 308us/step - loss: 36.3265 - mae: 4.1304\n",
      "Epoch 4/20\n",
      "303/303 [==============================] - 0s 312us/step - loss: 36.8317 - mae: 4.3148\n",
      "Epoch 5/20\n",
      "303/303 [==============================] - 0s 315us/step - loss: 23.7840 - mae: 3.3788\n",
      "Epoch 6/20\n",
      "303/303 [==============================] - 0s 318us/step - loss: 28.2060 - mae: 3.9059\n",
      "Epoch 7/20\n",
      "303/303 [==============================] - 0s 312us/step - loss: 22.0645 - mae: 3.5393\n",
      "Epoch 8/20\n",
      "303/303 [==============================] - 0s 315us/step - loss: 27.7137 - mae: 3.6804\n",
      "Epoch 9/20\n",
      "303/303 [==============================] - 0s 321us/step - loss: 34.5930 - mae: 3.8964\n",
      "Epoch 10/20\n",
      "303/303 [==============================] - 0s 315us/step - loss: 24.2048 - mae: 3.4394\n",
      "Epoch 11/20\n",
      "303/303 [==============================] - 0s 315us/step - loss: 19.6308 - mae: 3.4471\n",
      "Epoch 12/20\n",
      "303/303 [==============================] - 0s 321us/step - loss: 19.5116 - mae: 3.1502\n",
      "Epoch 13/20\n",
      "303/303 [==============================] - 0s 321us/step - loss: 16.9474 - mae: 3.0299\n",
      "Epoch 14/20\n",
      "303/303 [==============================] - 0s 318us/step - loss: 24.2974 - mae: 3.4040\n",
      "Epoch 15/20\n",
      "303/303 [==============================] - 0s 312us/step - loss: 18.2085 - mae: 3.0031\n",
      "Epoch 16/20\n",
      "303/303 [==============================] - 0s 312us/step - loss: 19.1421 - mae: 3.1345\n",
      "Epoch 17/20\n",
      "303/303 [==============================] - 0s 308us/step - loss: 19.1785 - mae: 3.2949\n",
      "Epoch 18/20\n",
      "303/303 [==============================] - 0s 308us/step - loss: 21.7767 - mae: 3.2317\n",
      "Epoch 19/20\n",
      "303/303 [==============================] - 0s 308us/step - loss: 19.4350 - mae: 3.2136\n",
      "Epoch 20/20\n",
      "303/303 [==============================] - 0s 312us/step - loss: 25.9408 - mae: 3.4626\n",
      "4/4 [==============================] - 0s 334us/step - loss: 11.0778 - mae: 2.5251\n",
      "처리중인 폴드 # 2\n",
      "Epoch 1/20\n",
      "303/303 [==============================] - 1s 312us/step - loss: 122.9988 - mae: 8.2887\n",
      "Epoch 2/20\n",
      "303/303 [==============================] - 0s 302us/step - loss: 52.2272 - mae: 5.0108\n",
      "Epoch 3/20\n",
      "303/303 [==============================] - 0s 298us/step - loss: 48.9343 - mae: 4.7965\n",
      "Epoch 4/20\n",
      "303/303 [==============================] - 0s 318us/step - loss: 29.7352 - mae: 3.7611\n",
      "Epoch 5/20\n",
      "303/303 [==============================] - 0s 315us/step - loss: 19.9484 - mae: 3.2041\n",
      "Epoch 6/20\n",
      "303/303 [==============================] - 0s 298us/step - loss: 27.7872 - mae: 3.6529\n",
      "Epoch 7/20\n",
      "303/303 [==============================] - 0s 302us/step - loss: 19.6372 - mae: 3.1809\n",
      "Epoch 8/20\n",
      "303/303 [==============================] - 0s 305us/step - loss: 18.9732 - mae: 3.1795\n",
      "Epoch 9/20\n",
      "303/303 [==============================] - 0s 318us/step - loss: 19.5878 - mae: 3.1232\n",
      "Epoch 10/20\n",
      "303/303 [==============================] - 0s 308us/step - loss: 18.0037 - mae: 2.9677\n",
      "Epoch 11/20\n",
      "303/303 [==============================] - 0s 302us/step - loss: 22.3428 - mae: 3.3778\n",
      "Epoch 12/20\n",
      "303/303 [==============================] - 0s 305us/step - loss: 21.0092 - mae: 3.1848\n",
      "Epoch 13/20\n",
      "303/303 [==============================] - 0s 308us/step - loss: 14.4894 - mae: 2.5750\n",
      "Epoch 14/20\n",
      "303/303 [==============================] - 0s 302us/step - loss: 12.8129 - mae: 2.7454\n",
      "Epoch 15/20\n",
      "303/303 [==============================] - 0s 298us/step - loss: 17.1788 - mae: 2.9035\n",
      "Epoch 16/20\n",
      "303/303 [==============================] - 0s 305us/step - loss: 23.9577 - mae: 2.9042\n",
      "Epoch 17/20\n",
      "303/303 [==============================] - 0s 308us/step - loss: 16.3378 - mae: 2.7765\n",
      "Epoch 18/20\n",
      "303/303 [==============================] - 0s 298us/step - loss: 14.9604 - mae: 2.5471\n",
      "Epoch 19/20\n",
      "303/303 [==============================] - 0s 305us/step - loss: 14.9296 - mae: 2.5305\n",
      "Epoch 20/20\n",
      "303/303 [==============================] - 0s 308us/step - loss: 14.3289 - mae: 2.5744\n",
      "4/4 [==============================] - 0s 667us/step - loss: 18.8146 - mae: 3.0925\n",
      "처리중인 폴드 # 3\n",
      "Epoch 1/20\n",
      "303/303 [==============================] - 1s 308us/step - loss: 177.7029 - mae: 9.1750\n",
      "Epoch 2/20\n",
      "303/303 [==============================] - 0s 315us/step - loss: 46.3431 - mae: 4.6305\n",
      "Epoch 3/20\n",
      "303/303 [==============================] - 0s 312us/step - loss: 30.7837 - mae: 3.8702\n",
      "Epoch 4/20\n",
      "303/303 [==============================] - 0s 315us/step - loss: 21.5497 - mae: 3.1409\n",
      "Epoch 5/20\n",
      "303/303 [==============================] - 0s 312us/step - loss: 17.4741 - mae: 3.0490\n",
      "Epoch 6/20\n",
      "303/303 [==============================] - 0s 318us/step - loss: 22.6669 - mae: 3.2440\n",
      "Epoch 7/20\n",
      "303/303 [==============================] - 0s 318us/step - loss: 19.7957 - mae: 3.1234\n",
      "Epoch 8/20\n",
      "303/303 [==============================] - 0s 308us/step - loss: 22.2510 - mae: 3.2895\n",
      "Epoch 9/20\n",
      "303/303 [==============================] - 0s 308us/step - loss: 25.7654 - mae: 3.6143\n",
      "Epoch 10/20\n",
      "303/303 [==============================] - 0s 321us/step - loss: 16.4683 - mae: 2.9930\n",
      "Epoch 11/20\n",
      "303/303 [==============================] - 0s 315us/step - loss: 19.0516 - mae: 3.0637\n",
      "Epoch 12/20\n",
      "303/303 [==============================] - 0s 308us/step - loss: 17.9677 - mae: 3.0096\n",
      "Epoch 13/20\n",
      "303/303 [==============================] - 0s 305us/step - loss: 31.2643 - mae: 3.6640\n",
      "Epoch 14/20\n",
      "303/303 [==============================] - 0s 305us/step - loss: 20.9836 - mae: 2.9471\n",
      "Epoch 15/20\n",
      "303/303 [==============================] - 0s 315us/step - loss: 24.3149 - mae: 3.1315\n",
      "Epoch 16/20\n",
      "303/303 [==============================] - 0s 315us/step - loss: 13.6926 - mae: 2.7598\n",
      "Epoch 17/20\n",
      "303/303 [==============================] - 0s 312us/step - loss: 15.4151 - mae: 2.6161\n",
      "Epoch 18/20\n",
      "303/303 [==============================] - 0s 308us/step - loss: 28.0242 - mae: 3.1550\n",
      "Epoch 19/20\n",
      "303/303 [==============================] - 0s 315us/step - loss: 22.8452 - mae: 3.0271\n",
      "Epoch 20/20\n",
      "303/303 [==============================] - 0s 305us/step - loss: 19.7070 - mae: 2.9721\n"
     ]
    },
    {
     "name": "stdout",
     "output_type": "stream",
     "text": [
      "1/4 [======>.......................] - ETA: 0s - loss: 40.2794 - mae: 3.3753\b\b\b\b\b\b\b\b\b\b\b\b\b\b\b\b\b\b\b\b\b\b\b\b\b\b\b\b\b\b\b\b\b\b\b\b\b\b\b\b\b\b\b\b\b\b\b\b\b\b\b\b\b\b\b\b\b\b\b\b\b\b\b\b\b\b\b\b\b\b\b\b\b\b\b\b\r",
      "4/4 [==============================] - 0s 334us/step - loss: 26.5212 - mae: 2.9932\n"
     ]
    }
   ],
   "source": [
    "# K-folder 검증\n",
    "k = 4\n",
    "\n",
    "num_val_samples = len(train_data) // k #폴더의 사이즈\n",
    "all_scores = []\n",
    "\n",
    "for i in range(k):\n",
    "  print('처리중인 폴드 #',i)\n",
    "\n",
    "  # 검증 데이터를 준비: k번째 분할\n",
    "  val_data = train_data[i * num_val_samples : (i+1) * num_val_samples]\n",
    "  val_labels = train_labels[i * num_val_samples : (i+1) * num_val_samples]\n",
    "  \n",
    "  # 훈련 데이터의 준비:\n",
    "  partial_train_data = np.concatenate(\n",
    "    [train_data[: i * num_val_samples],\n",
    "    train_data[(i+1)*num_val_samples:]], axis=0)\n",
    "  \n",
    "  partial_train_labels = np.concatenate(\n",
    "    [train_labels[: i * num_val_samples],\n",
    "    train_labels[(i+1)*num_val_samples:]], axis=0)\n",
    "\n",
    "  model = build_model()\n",
    "  model.fit(partial_train_data,\n",
    "            partial_train_labels,\n",
    "            epochs=20,\n",
    "            batch_size=1,verbose=0) #verbose 넣으면 시스템 메세지를 안볼 수 있음\n",
    "   \n",
    "  val_mse, val_mae = model.evaluate(val_data, val_labels,verbpse=0)\n",
    "  all_scores.append(val_mae)\n"
   ]
  },
  {
   "cell_type": "code",
   "execution_count": 32,
   "id": "daily-capacity",
   "metadata": {},
   "outputs": [
    {
     "name": "stdout",
     "output_type": "stream",
     "text": [
      "처리중인 폴드 # 0\n",
      "처리중인 폴드 # 1\n",
      "처리중인 폴드 # 2\n",
      "처리중인 폴드 # 3\n"
     ]
    }
   ],
   "source": [
    "# K-folder 검증\n",
    "k = 4\n",
    "num_epochs =500\n",
    "\n",
    "\n",
    "num_val_samples = len(train_data) // k #폴더의 사이즈\n",
    "all_scores = []\n",
    "\n",
    "for i in range(k):\n",
    "  print('처리중인 폴드 #',i)\n",
    "\n",
    "  # 검증 데이터를 준비: k번째 분할\n",
    "  val_data = train_data[i * num_val_samples : (i+1) * num_val_samples]\n",
    "  val_labels = train_labels[i * num_val_samples : (i+1) * num_val_samples]\n",
    "  \n",
    "  # 훈련 데이터의 준비:\n",
    "  partial_train_data = np.concatenate(\n",
    "    [train_data[: i * num_val_samples],\n",
    "    train_data[(i+1)*num_val_samples:]], axis=0)\n",
    "  \n",
    "  partial_train_labels = np.concatenate(\n",
    "    [train_labels[: i * num_val_samples],\n",
    "    train_labels[(i+1)*num_val_samples:]], axis=0)\n",
    "\n",
    "  model = build_model()\n",
    "  history = model.fit(partial_train_data,\n",
    "            partial_train_labels,\n",
    "            epochs=num_epochs,\n",
    "            batch_size=1,validation_data = (val_data,val_labels),verbose=0) #verbose 넣으면 시스템 메세지를 안볼 수 있음\n",
    "  mae_history = history.history['mae'] \n",
    "  all_scores.append(mae_history)\n"
   ]
  },
  {
   "cell_type": "code",
   "execution_count": 36,
   "id": "complete-prefix",
   "metadata": {},
   "outputs": [],
   "source": [
    "average_mae_history = [np.mean([x[i] for x in all_scores]) for i in range(num_epochs)]"
   ]
  },
  {
   "cell_type": "code",
   "execution_count": 40,
   "id": "mexican-sustainability",
   "metadata": {},
   "outputs": [
    {
     "data": {
      "text/plain": [
       "Text(0, 0.5, 'validation MAE')"
      ]
     },
     "execution_count": 40,
     "metadata": {},
     "output_type": "execute_result"
    },
    {
     "data": {
      "image/png": "[encoded data removed]",
      "text/plain": [
       "<Figure size 432x288 with 1 Axes>"
      ]
     },
     "metadata": {
      "needs_background": "light"
     },
     "output_type": "display_data"
    }
   ],
   "source": [
    "plt.plot(range(1,len(average_mae_history)+1),average_mae_history)\n",
    "plt.xlabel('epoch')\n",
    "plt.ylabel('validation MAE')"
   ]
  },
  {
   "cell_type": "code",
   "execution_count": null,
   "id": "statewide-folks",
   "metadata": {},
   "outputs": [],
   "source": []
  }
 ],
 "metadata": {
  "kernelspec": {
   "display_name": "Python 3",
   "language": "python",
   "name": "python3"
  },
  "language_info": {
   "codemirror_mode": {
    "name": "ipython",
    "version": 3
   },
   "file_extension": ".py",
   "mimetype": "text/x-python",
   "name": "python",
   "nbconvert_exporter": "python",
   "pygments_lexer": "ipython3",
   "version": "3.8.8"
  }
 },
 "nbformat": 4,
 "nbformat_minor": 5
}
