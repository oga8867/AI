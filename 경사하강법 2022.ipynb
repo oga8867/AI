{
 "cells": [
  {
   "cell_type": "code",
   "execution_count": 5,
   "id": "textile-perth",
   "metadata": {},
   "outputs": [],
   "source": [
    "import numpy as np\n",
    "import pandas as pd\n",
    "import sklearn\n",
    "import matplotlib.pyplot as plt\n",
    "\n",
    "import warnings\n",
    "warnings.filterwarnings('ignore')  #경고 무시"
   ]
  },
  {
   "cell_type": "code",
   "execution_count": 6,
   "id": "parliamentary-glenn",
   "metadata": {},
   "outputs": [],
   "source": [
    "from sklearn.datasets import load_boston\n",
    "boston = load_boston()"
   ]
  },
  {
   "cell_type": "code",
   "execution_count": 8,
   "id": "secret-philadelphia",
   "metadata": {},
   "outputs": [
    {
     "name": "stdout",
     "output_type": "stream",
     "text": [
      ".. _boston_dataset:\n",
      "\n",
      "Boston house prices dataset\n",
      "---------------------------\n",
      "\n",
      "**Data Set Characteristics:**  \n",
      "\n",
      "    :Number of Instances: 506 \n",
      "\n",
      "    :Number of Attributes: 13 numeric/categorical predictive. Median Value (attribute 14) is usually the target.\n",
      "\n",
      "    :Attribute Information (in order):\n",
      "        - CRIM     per capita crime rate by town\n",
      "        - ZN       proportion of residential land zoned for lots over 25,000 sq.ft.\n",
      "        - INDUS    proportion of non-retail business acres per town\n",
      "        - CHAS     Charles River dummy variable (= 1 if tract bounds river; 0 otherwise)\n",
      "        - NOX      nitric oxides concentration (parts per 10 million)\n",
      "        - RM       average number of rooms per dwelling\n",
      "        - AGE      proportion of owner-occupied units built prior to 1940\n",
      "        - DIS      weighted distances to five Boston employment centres\n",
      "        - RAD      index of accessibility to radial highways\n",
      "        - TAX      full-value property-tax rate per $10,000\n",
      "        - PTRATIO  pupil-teacher ratio by town\n",
      "        - B        1000(Bk - 0.63)^2 where Bk is the proportion of blacks by town\n",
      "        - LSTAT    % lower status of the population\n",
      "        - MEDV     Median value of owner-occupied homes in $1000's\n",
      "\n",
      "    :Missing Attribute Values: None\n",
      "\n",
      "    :Creator: Harrison, D. and Rubinfeld, D.L.\n",
      "\n",
      "This is a copy of UCI ML housing dataset.\n",
      "https://archive.ics.uci.edu/ml/machine-learning-databases/housing/\n",
      "\n",
      "\n",
      "This dataset was taken from the StatLib library which is maintained at Carnegie Mellon University.\n",
      "\n",
      "The Boston house-price data of Harrison, D. and Rubinfeld, D.L. 'Hedonic\n",
      "prices and the demand for clean air', J. Environ. Economics & Management,\n",
      "vol.5, 81-102, 1978.   Used in Belsley, Kuh & Welsch, 'Regression diagnostics\n",
      "...', Wiley, 1980.   N.B. Various transformations are used in the table on\n",
      "pages 244-261 of the latter.\n",
      "\n",
      "The Boston house-price data has been used in many machine learning papers that address regression\n",
      "problems.   \n",
      "     \n",
      ".. topic:: References\n",
      "\n",
      "   - Belsley, Kuh & Welsch, 'Regression diagnostics: Identifying Influential Data and Sources of Collinearity', Wiley, 1980. 244-261.\n",
      "   - Quinlan,R. (1993). Combining Instance-Based and Model-Based Learning. In Proceedings on the Tenth International Conference of Machine Learning, 236-243, University of Massachusetts, Amherst. Morgan Kaufmann.\n",
      "\n"
     ]
    }
   ],
   "source": [
    "print(boston['DESCR'])"
   ]
  },
  {
   "cell_type": "code",
   "execution_count": 9,
   "id": "global-senior",
   "metadata": {},
   "outputs": [],
   "source": [
    "data = boston.data\n",
    "label = boston.target\n",
    "columns = boston.feature_names"
   ]
  },
  {
   "cell_type": "code",
   "execution_count": 11,
   "id": "aquatic-european",
   "metadata": {},
   "outputs": [
    {
     "data": {
      "text/html": [
       "<div>\n",
       "<style scoped>\n",
       "    .dataframe tbody tr th:only-of-type {\n",
       "        vertical-align: middle;\n",
       "    }\n",
       "\n",
       "    .dataframe tbody tr th {\n",
       "        vertical-align: top;\n",
       "    }\n",
       "\n",
       "    .dataframe thead th {\n",
       "        text-align: right;\n",
       "    }\n",
       "</style>\n",
       "<table border=\"1\" class=\"dataframe\">\n",
       "  <thead>\n",
       "    <tr style=\"text-align: right;\">\n",
       "      <th></th>\n",
       "      <th>CRIM</th>\n",
       "      <th>ZN</th>\n",
       "      <th>INDUS</th>\n",
       "      <th>CHAS</th>\n",
       "      <th>NOX</th>\n",
       "      <th>RM</th>\n",
       "      <th>AGE</th>\n",
       "      <th>DIS</th>\n",
       "      <th>RAD</th>\n",
       "      <th>TAX</th>\n",
       "      <th>PTRATIO</th>\n",
       "      <th>B</th>\n",
       "      <th>LSTAT</th>\n",
       "    </tr>\n",
       "  </thead>\n",
       "  <tbody>\n",
       "    <tr>\n",
       "      <th>0</th>\n",
       "      <td>0.00632</td>\n",
       "      <td>18.0</td>\n",
       "      <td>2.31</td>\n",
       "      <td>0.0</td>\n",
       "      <td>0.538</td>\n",
       "      <td>6.575</td>\n",
       "      <td>65.2</td>\n",
       "      <td>4.0900</td>\n",
       "      <td>1.0</td>\n",
       "      <td>296.0</td>\n",
       "      <td>15.3</td>\n",
       "      <td>396.90</td>\n",
       "      <td>4.98</td>\n",
       "    </tr>\n",
       "    <tr>\n",
       "      <th>1</th>\n",
       "      <td>0.02731</td>\n",
       "      <td>0.0</td>\n",
       "      <td>7.07</td>\n",
       "      <td>0.0</td>\n",
       "      <td>0.469</td>\n",
       "      <td>6.421</td>\n",
       "      <td>78.9</td>\n",
       "      <td>4.9671</td>\n",
       "      <td>2.0</td>\n",
       "      <td>242.0</td>\n",
       "      <td>17.8</td>\n",
       "      <td>396.90</td>\n",
       "      <td>9.14</td>\n",
       "    </tr>\n",
       "    <tr>\n",
       "      <th>2</th>\n",
       "      <td>0.02729</td>\n",
       "      <td>0.0</td>\n",
       "      <td>7.07</td>\n",
       "      <td>0.0</td>\n",
       "      <td>0.469</td>\n",
       "      <td>7.185</td>\n",
       "      <td>61.1</td>\n",
       "      <td>4.9671</td>\n",
       "      <td>2.0</td>\n",
       "      <td>242.0</td>\n",
       "      <td>17.8</td>\n",
       "      <td>392.83</td>\n",
       "      <td>4.03</td>\n",
       "    </tr>\n",
       "    <tr>\n",
       "      <th>3</th>\n",
       "      <td>0.03237</td>\n",
       "      <td>0.0</td>\n",
       "      <td>2.18</td>\n",
       "      <td>0.0</td>\n",
       "      <td>0.458</td>\n",
       "      <td>6.998</td>\n",
       "      <td>45.8</td>\n",
       "      <td>6.0622</td>\n",
       "      <td>3.0</td>\n",
       "      <td>222.0</td>\n",
       "      <td>18.7</td>\n",
       "      <td>394.63</td>\n",
       "      <td>2.94</td>\n",
       "    </tr>\n",
       "    <tr>\n",
       "      <th>4</th>\n",
       "      <td>0.06905</td>\n",
       "      <td>0.0</td>\n",
       "      <td>2.18</td>\n",
       "      <td>0.0</td>\n",
       "      <td>0.458</td>\n",
       "      <td>7.147</td>\n",
       "      <td>54.2</td>\n",
       "      <td>6.0622</td>\n",
       "      <td>3.0</td>\n",
       "      <td>222.0</td>\n",
       "      <td>18.7</td>\n",
       "      <td>396.90</td>\n",
       "      <td>5.33</td>\n",
       "    </tr>\n",
       "  </tbody>\n",
       "</table>\n",
       "</div>"
      ],
      "text/plain": [
       "      CRIM    ZN  INDUS  CHAS    NOX     RM   AGE     DIS  RAD    TAX  \\\n",
       "0  0.00632  18.0   2.31   0.0  0.538  6.575  65.2  4.0900  1.0  296.0   \n",
       "1  0.02731   0.0   7.07   0.0  0.469  6.421  78.9  4.9671  2.0  242.0   \n",
       "2  0.02729   0.0   7.07   0.0  0.469  7.185  61.1  4.9671  2.0  242.0   \n",
       "3  0.03237   0.0   2.18   0.0  0.458  6.998  45.8  6.0622  3.0  222.0   \n",
       "4  0.06905   0.0   2.18   0.0  0.458  7.147  54.2  6.0622  3.0  222.0   \n",
       "\n",
       "   PTRATIO       B  LSTAT  \n",
       "0     15.3  396.90   4.98  \n",
       "1     17.8  396.90   9.14  \n",
       "2     17.8  392.83   4.03  \n",
       "3     18.7  394.63   2.94  \n",
       "4     18.7  396.90   5.33  "
      ]
     },
     "execution_count": 11,
     "metadata": {},
     "output_type": "execute_result"
    }
   ],
   "source": [
    "data = pd.DataFrame(data, columns=columns)\n",
    "data.head()"
   ]
  },
  {
   "cell_type": "code",
   "execution_count": 12,
   "id": "lesser-mailman",
   "metadata": {},
   "outputs": [
    {
     "data": {
      "text/plain": [
       "(506, 13)"
      ]
     },
     "execution_count": 12,
     "metadata": {},
     "output_type": "execute_result"
    }
   ],
   "source": [
    "data.shape"
   ]
  },
  {
   "cell_type": "code",
   "execution_count": 16,
   "id": "immediate-party",
   "metadata": {},
   "outputs": [
    {
     "data": {
      "text/plain": [
       "490    5.093\n",
       "379    6.223\n",
       "399    5.852\n",
       "234    6.726\n",
       "127    5.693\n",
       "       ...  \n",
       "177    6.315\n",
       "112    5.913\n",
       "173    6.416\n",
       "220    6.951\n",
       "381    6.545\n",
       "Name: RM, Length: 430, dtype: float64"
      ]
     },
     "execution_count": 16,
     "metadata": {},
     "output_type": "execute_result"
    }
   ],
   "source": [
    "#simple linear regression 간단한 선형회귀\n",
    "#sklearn은 2차원 데이터만 인식함 1차원데이터, 배열을 인식하지못함 예를들어 [10,20,30]이런거\n",
    "from sklearn.model_selection import train_test_split\n",
    "x_train, x_test, y_train, y_test = train_test_split(data,label, train_size =0.85, random_state=2022)\n",
    "x_train['RM']\n"
   ]
  },
  {
   "cell_type": "code",
   "execution_count": 18,
   "id": "cardiovascular-mounting",
   "metadata": {},
   "outputs": [
    {
     "data": {
      "text/plain": [
       "array([[5.093],\n",
       "       [6.223],\n",
       "       [5.852],\n",
       "       [6.726],\n",
       "       [5.693],\n",
       "       [6.794],\n",
       "       [6.226],\n",
       "       [5.56 ],\n",
       "       [6.051],\n",
       "       [5.036],\n",
       "       [6.77 ],\n",
       "       [5.608],\n",
       "       [6.343],\n",
       "       [7.206],\n",
       "       [6.122],\n",
       "       [7.061],\n",
       "       [6.127],\n",
       "       [5.95 ],\n",
       "       [6.411],\n",
       "       [6.405],\n",
       "       [6.635],\n",
       "       [5.709],\n",
       "       [6.193],\n",
       "       [6.312],\n",
       "       [6.982],\n",
       "       [6.208],\n",
       "       [7.454],\n",
       "       [6.315],\n",
       "       [6.382],\n",
       "       [5.942],\n",
       "       [8.247],\n",
       "       [6.604],\n",
       "       [5.414],\n",
       "       [7.148],\n",
       "       [6.525],\n",
       "       [6.38 ],\n",
       "       [5.683],\n",
       "       [5.871],\n",
       "       [6.8  ],\n",
       "       [6.162],\n",
       "       [6.101],\n",
       "       [6.122],\n",
       "       [6.12 ],\n",
       "       [7.041],\n",
       "       [7.765],\n",
       "       [6.606],\n",
       "       [6.631],\n",
       "       [6.012],\n",
       "       [6.781],\n",
       "       [5.927],\n",
       "       [6.152],\n",
       "       [6.376],\n",
       "       [6.749],\n",
       "       [6.301],\n",
       "       [5.88 ],\n",
       "       [6.174],\n",
       "       [5.856],\n",
       "       [6.333],\n",
       "       [6.415],\n",
       "       [7.61 ],\n",
       "       [6.182],\n",
       "       [5.935],\n",
       "       [6.86 ],\n",
       "       [6.461],\n",
       "       [7.691],\n",
       "       [7.686],\n",
       "       [6.826],\n",
       "       [5.888],\n",
       "       [5.277],\n",
       "       [6.556],\n",
       "       [5.99 ],\n",
       "       [6.824],\n",
       "       [6.142],\n",
       "       [5.895],\n",
       "       [6.219],\n",
       "       [7.024],\n",
       "       [8.704],\n",
       "       [6.216],\n",
       "       [8.259],\n",
       "       [6.031],\n",
       "       [6.728],\n",
       "       [6.286],\n",
       "       [7.274],\n",
       "       [6.358],\n",
       "       [6.153],\n",
       "       [6.144],\n",
       "       [5.565],\n",
       "       [5.949],\n",
       "       [6.474],\n",
       "       [7.393],\n",
       "       [6.326],\n",
       "       [5.987],\n",
       "       [6.975],\n",
       "       [6.727],\n",
       "       [6.421],\n",
       "       [5.747],\n",
       "       [5.762],\n",
       "       [3.863],\n",
       "       [6.047],\n",
       "       [6.437],\n",
       "       [6.202],\n",
       "       [7.287],\n",
       "       [6.108],\n",
       "       [5.468],\n",
       "       [5.869],\n",
       "       [6.395],\n",
       "       [6.02 ],\n",
       "       [5.663],\n",
       "       [6.245],\n",
       "       [6.066],\n",
       "       [6.164],\n",
       "       [4.973],\n",
       "       [7.185],\n",
       "       [6.482],\n",
       "       [6.595],\n",
       "       [5.879],\n",
       "       [6.405],\n",
       "       [6.009],\n",
       "       [6.417],\n",
       "       [5.878],\n",
       "       [5.713],\n",
       "       [6.655],\n",
       "       [5.822],\n",
       "       [6.431],\n",
       "       [6.563],\n",
       "       [6.03 ],\n",
       "       [5.854],\n",
       "       [5.936],\n",
       "       [7.163],\n",
       "       [6.24 ],\n",
       "       [6.727],\n",
       "       [6.433],\n",
       "       [6.015],\n",
       "       [5.594],\n",
       "       [6.319],\n",
       "       [6.453],\n",
       "       [5.983],\n",
       "       [6.373],\n",
       "       [7.236],\n",
       "       [6.976],\n",
       "       [7.412],\n",
       "       [6.438],\n",
       "       [6.14 ],\n",
       "       [6.112],\n",
       "       [6.625],\n",
       "       [5.813],\n",
       "       [5.807],\n",
       "       [6.113],\n",
       "       [6.251],\n",
       "       [6.037],\n",
       "       [6.739],\n",
       "       [5.57 ],\n",
       "       [6.114],\n",
       "       [6.021],\n",
       "       [6.98 ],\n",
       "       [6.169],\n",
       "       [6.326],\n",
       "       [6.616],\n",
       "       [6.485],\n",
       "       [7.47 ],\n",
       "       [7.82 ],\n",
       "       [6.879],\n",
       "       [7.831],\n",
       "       [6.459],\n",
       "       [6.618],\n",
       "       [6.185],\n",
       "       [5.985],\n",
       "       [7.802],\n",
       "       [5.412],\n",
       "       [6.957],\n",
       "       [6.842],\n",
       "       [5.628],\n",
       "       [6.816],\n",
       "       [6.758],\n",
       "       [5.186],\n",
       "       [6.471],\n",
       "       [6.417],\n",
       "       [6.425],\n",
       "       [6.968],\n",
       "       [5.854],\n",
       "       [7.185],\n",
       "       [5.885],\n",
       "       [6.065],\n",
       "       [6.29 ],\n",
       "       [6.715],\n",
       "       [5.877],\n",
       "       [5.928],\n",
       "       [6.041],\n",
       "       [5.891],\n",
       "       [5.597],\n",
       "       [6.162],\n",
       "       [6.273],\n",
       "       [6.629],\n",
       "       [5.961],\n",
       "       [6.998],\n",
       "       [5.272],\n",
       "       [6.086],\n",
       "       [7.333],\n",
       "       [6.137],\n",
       "       [6.127],\n",
       "       [6.871],\n",
       "       [6.266],\n",
       "       [6.152],\n",
       "       [6.092],\n",
       "       [7.079],\n",
       "       [6.794],\n",
       "       [6.302],\n",
       "       [7.007],\n",
       "       [6.383],\n",
       "       [5.898],\n",
       "       [5.856],\n",
       "       [7.014],\n",
       "       [8.266],\n",
       "       [7.42 ],\n",
       "       [5.706],\n",
       "       [6.861],\n",
       "       [6.251],\n",
       "       [5.841],\n",
       "       [6.317],\n",
       "       [5.966],\n",
       "       [5.851],\n",
       "       [6.13 ],\n",
       "       [6.115],\n",
       "       [6.31 ],\n",
       "       [5.741],\n",
       "       [8.398],\n",
       "       [5.631],\n",
       "       [5.986],\n",
       "       [5.933],\n",
       "       [5.887],\n",
       "       [5.39 ],\n",
       "       [4.963],\n",
       "       [6.027],\n",
       "       [6.249],\n",
       "       [6.657],\n",
       "       [6.312],\n",
       "       [6.495],\n",
       "       [5.926],\n",
       "       [6.854],\n",
       "       [6.167],\n",
       "       [7.107],\n",
       "       [4.97 ],\n",
       "       [6.436],\n",
       "       [6.209],\n",
       "       [6.63 ],\n",
       "       [6.059],\n",
       "       [6.951],\n",
       "       [6.232],\n",
       "       [5.875],\n",
       "       [6.376],\n",
       "       [6.968],\n",
       "       [7.203],\n",
       "       [5.876],\n",
       "       [6.072],\n",
       "       [7.52 ],\n",
       "       [5.884],\n",
       "       [6.064],\n",
       "       [6.43 ],\n",
       "       [5.757],\n",
       "       [5.957],\n",
       "       [5.935],\n",
       "       [6.575],\n",
       "       [5.803],\n",
       "       [5.96 ],\n",
       "       [6.442],\n",
       "       [5.875],\n",
       "       [5.52 ],\n",
       "       [7.241],\n",
       "       [5.968],\n",
       "       [6.674],\n",
       "       [6.552],\n",
       "       [7.416],\n",
       "       [4.519],\n",
       "       [6.003],\n",
       "       [5.926],\n",
       "       [5.403],\n",
       "       [6.023],\n",
       "       [4.138],\n",
       "       [6.096],\n",
       "       [6.389],\n",
       "       [5.787],\n",
       "       [6.019],\n",
       "       [6.127],\n",
       "       [6.635],\n",
       "       [7.645],\n",
       "       [6.348],\n",
       "       [5.637],\n",
       "       [6.167],\n",
       "       [5.757],\n",
       "       [7.249],\n",
       "       [7.82 ],\n",
       "       [6.406],\n",
       "       [5.362],\n",
       "       [5.837],\n",
       "       [6.121],\n",
       "       [5.604],\n",
       "       [6.487],\n",
       "       [6.069],\n",
       "       [7.875],\n",
       "       [5.682],\n",
       "       [6.195],\n",
       "       [6.484],\n",
       "       [5.708],\n",
       "       [7.313],\n",
       "       [8.034],\n",
       "       [6.083],\n",
       "       [6.579],\n",
       "       [6.458],\n",
       "       [6.782],\n",
       "       [6.54 ],\n",
       "       [5.963],\n",
       "       [6.593],\n",
       "       [5.727],\n",
       "       [5.617],\n",
       "       [8.375],\n",
       "       [5.888],\n",
       "       [5.914],\n",
       "       [6.833],\n",
       "       [5.67 ],\n",
       "       [6.513],\n",
       "       [6.229],\n",
       "       [4.628],\n",
       "       [5.707],\n",
       "       [6.03 ],\n",
       "       [5.936],\n",
       "       [5.857],\n",
       "       [8.725],\n",
       "       [5.713],\n",
       "       [8.337],\n",
       "       [6.481],\n",
       "       [5.731],\n",
       "       [5.952],\n",
       "       [6.372],\n",
       "       [6.25 ],\n",
       "       [6.193],\n",
       "       [6.212],\n",
       "       [6.456],\n",
       "       [6.229],\n",
       "       [6.642],\n",
       "       [7.327],\n",
       "       [6.129],\n",
       "       [6.434],\n",
       "       [5.981],\n",
       "       [6.103],\n",
       "       [6.454],\n",
       "       [6.495],\n",
       "       [7.016],\n",
       "       [6.546],\n",
       "       [5.813],\n",
       "       [6.943],\n",
       "       [7.489],\n",
       "       [8.04 ],\n",
       "       [6.516],\n",
       "       [5.605],\n",
       "       [6.718],\n",
       "       [7.104],\n",
       "       [6.75 ],\n",
       "       [5.782],\n",
       "       [6.398],\n",
       "       [5.983],\n",
       "       [5.859],\n",
       "       [6.004],\n",
       "       [6.426],\n",
       "       [5.304],\n",
       "       [5.786],\n",
       "       [7.853],\n",
       "       [5.759],\n",
       "       [5.966],\n",
       "       [5.965],\n",
       "       [5.85 ],\n",
       "       [6.812],\n",
       "       [6.762],\n",
       "       [6.701],\n",
       "       [7.178],\n",
       "       [5.998],\n",
       "       [6.345],\n",
       "       [6.511],\n",
       "       [6.316],\n",
       "       [5.92 ],\n",
       "       [6.163],\n",
       "       [6.242],\n",
       "       [6.279],\n",
       "       [6.417],\n",
       "       [6.095],\n",
       "       [6.59 ],\n",
       "       [5.889],\n",
       "       [5.404],\n",
       "       [6.98 ],\n",
       "       [6.38 ],\n",
       "       [5.818],\n",
       "       [5.593],\n",
       "       [6.006],\n",
       "       [6.375],\n",
       "       [6.696],\n",
       "       [6.619],\n",
       "       [5.404],\n",
       "       [5.834],\n",
       "       [6.209],\n",
       "       [4.652],\n",
       "       [8.069],\n",
       "       [6.151],\n",
       "       [5.427],\n",
       "       [6.538],\n",
       "       [6.939],\n",
       "       [5.453],\n",
       "       [5.868],\n",
       "       [7.929],\n",
       "       [5.454],\n",
       "       [5.399],\n",
       "       [6.081],\n",
       "       [6.49 ],\n",
       "       [5.613],\n",
       "       [4.926],\n",
       "       [6.009],\n",
       "       [7.923],\n",
       "       [6.565],\n",
       "       [5.79 ],\n",
       "       [5.972],\n",
       "       [4.903],\n",
       "       [5.924],\n",
       "       [5.456],\n",
       "       [6.874],\n",
       "       [5.627],\n",
       "       [6.897],\n",
       "       [5.794],\n",
       "       [6.315],\n",
       "       [5.913],\n",
       "       [6.416],\n",
       "       [6.951],\n",
       "       [6.545]])"
      ]
     },
     "execution_count": 18,
     "metadata": {},
     "output_type": "execute_result"
    }
   ],
   "source": [
    "#rm 은 집인데 이게 1차원 데이터기 때문에 2차원 데이터로 바꿔줘야함\n",
    "x_train['RM'].values.reshape(430,1)   #430개의 2차원으로 바꿈 근데 저것은 (-1,1)하고 같음.  -1이 왜 전체냐면 언더플로우가 되서 -1이 제일 큰값이 됨\n",
    "\n"
   ]
  },
  {
   "cell_type": "code",
   "execution_count": 20,
   "id": "changing-proposal",
   "metadata": {},
   "outputs": [
    {
     "data": {
      "text/plain": [
       "array([[5.093],\n",
       "       [6.223],\n",
       "       [5.852],\n",
       "       [6.726],\n",
       "       [5.693]])"
      ]
     },
     "execution_count": 20,
     "metadata": {},
     "output_type": "execute_result"
    }
   ],
   "source": [
    "x_train['RM'].values.reshape(-1,1)[:5]\n",
    "\n",
    "#-1, 1의 비밀을 이해해야함"
   ]
  },
  {
   "cell_type": "code",
   "execution_count": 22,
   "id": "million-lender",
   "metadata": {},
   "outputs": [],
   "source": [
    "from sklearn.linear_model import LinearRegression\n",
    "sim_lr = LinearRegression()"
   ]
  },
  {
   "cell_type": "code",
   "execution_count": 24,
   "id": "excess-frank",
   "metadata": {},
   "outputs": [
    {
     "data": {
      "text/plain": [
       "LinearRegression()"
      ]
     },
     "execution_count": 24,
     "metadata": {},
     "output_type": "execute_result"
    }
   ],
   "source": [
    "sim_lr.fit(x_train['RM'].values.reshape((-1,1)),y_train) #룸의 개수로 학습"
   ]
  },
  {
   "cell_type": "code",
   "execution_count": 27,
   "id": "ultimate-calcium",
   "metadata": {},
   "outputs": [],
   "source": [
    "y_pred = sim_lr.predict(x_test['RM'].values.reshape(-1,1))\n",
    "#룸의 개수로 예측"
   ]
  },
  {
   "cell_type": "code",
   "execution_count": 31,
   "id": "impossible-stuart",
   "metadata": {},
   "outputs": [
    {
     "name": "stdout",
     "output_type": "stream",
     "text": [
      "단순 선형회귀, R2: 0.1901\n"
     ]
    }
   ],
   "source": [
    "#결과 살펴보기\n",
    "from sklearn.metrics import r2_score\n",
    "print('단순 선형회귀, R2: {:.4f}'.format(r2_score(y_test, y_pred)))\n",
    "\n",
    "#:.4f 는 전체데이터중 소수점 4번쨰 자리까지 출력"
   ]
  },
  {
   "cell_type": "code",
   "execution_count": 40,
   "id": "offshore-technical",
   "metadata": {},
   "outputs": [
    {
     "data": {
      "text/plain": [
       "<matplotlib.legend.Legend at 0x2857e953c40>"
      ]
     },
     "execution_count": 40,
     "metadata": {},
     "output_type": "execute_result"
    },
    {
     "data": {
      "image/png": "[encoded data removed]",
      "text/plain": [
       "<Figure size 432x288 with 1 Axes>"
      ]
     },
     "metadata": {
      "needs_background": "light"
     },
     "output_type": "display_data"
    }
   ],
   "source": [
    "#결과 시각화    10은 점의 개수, x범위는 가장 방이 작은곳부터 가장 큰곳까지\n",
    "line_x = np.linspace(np.min(x_test['RM']), np.max(x_test['RM']), 10)\n",
    "line_y = sim_lr.predict(line_x.reshape(-1,1))\n",
    "\n",
    "plt.scatter(x_test['RM'], y_test, s=10, c='black')\n",
    "plt.plot(line_x, line_y, c='red')\n",
    "plt.legend(['regression line','tess data sample'],loc ='upper left')"
   ]
  },
  {
   "cell_type": "code",
   "execution_count": 41,
   "id": "front-distributor",
   "metadata": {},
   "outputs": [],
   "source": [
    "#multiple Linear regression\n",
    "mul_lr = LinearRegression()"
   ]
  },
  {
   "cell_type": "code",
   "execution_count": 47,
   "id": "material-trading",
   "metadata": {},
   "outputs": [
    {
     "data": {
      "text/plain": [
       "LinearRegression()"
      ]
     },
     "execution_count": 47,
     "metadata": {},
     "output_type": "execute_result"
    }
   ],
   "source": [
    "mul_lr.fit(x_train,y_train)"
   ]
  },
  {
   "cell_type": "code",
   "execution_count": 49,
   "id": "anticipated-numbers",
   "metadata": {},
   "outputs": [
    {
     "name": "stdout",
     "output_type": "stream",
     "text": [
      "다중 선형 회귀, R2: 0.6210\n"
     ]
    }
   ],
   "source": [
    "y_pred = mul_lr.predict(x_test)\n",
    "print('다중 선형 회귀, R2: {:.4f}'.format(r2_score(y_test, y_pred)))"
   ]
  },
  {
   "cell_type": "code",
   "execution_count": 69,
   "id": "incomplete-willow",
   "metadata": {},
   "outputs": [],
   "source": [
    "# Decision Tree Regressor\n",
    "from sklearn.tree import DecisionTreeRegressor\n",
    "dt_regr = DecisionTreeRegressor(max_depth=2)"
   ]
  },
  {
   "cell_type": "code",
   "execution_count": 70,
   "id": "north-trinity",
   "metadata": {},
   "outputs": [
    {
     "data": {
      "text/plain": [
       "DecisionTreeRegressor(max_depth=2)"
      ]
     },
     "execution_count": 70,
     "metadata": {},
     "output_type": "execute_result"
    }
   ],
   "source": [
    "dt_regr.fit(x_train['RM'].values.reshape((-1,1)), y_train)"
   ]
  },
  {
   "cell_type": "code",
   "execution_count": 71,
   "id": "emerging-basketball",
   "metadata": {},
   "outputs": [],
   "source": [
    "y_pred = dt_regr.predict(x_test['RM'].values.reshape(-1,1))"
   ]
  },
  {
   "cell_type": "code",
   "execution_count": 72,
   "id": "coral-chemical",
   "metadata": {},
   "outputs": [
    {
     "name": "stdout",
     "output_type": "stream",
     "text": [
      "단순 결정 트리 회귀 R2: 0.3533858103059573\n"
     ]
    }
   ],
   "source": [
    "print('단순 결정 트리 회귀 R2:',r2_score(y_test, y_pred))"
   ]
  },
  {
   "cell_type": "code",
   "execution_count": 73,
   "id": "reduced-aviation",
   "metadata": {},
   "outputs": [
    {
     "data": {
      "text/plain": [
       "array([ 1,  2,  3,  4,  5,  6,  7,  8,  9, 10])"
      ]
     },
     "execution_count": 73,
     "metadata": {},
     "output_type": "execute_result"
    }
   ],
   "source": [
    "arr = np.arange(1,11)\n",
    "arr"
   ]
  },
  {
   "cell_type": "code",
   "execution_count": 76,
   "id": "spare-contract",
   "metadata": {},
   "outputs": [
    {
     "name": "stdout",
     "output_type": "stream",
     "text": [
      "\n",
      "단순 결정 트리 회귀 depth=1 R2: 0.2726\n",
      "\n",
      "단순 결정 트리 회귀 depth=2 R2: 0.3534\n",
      "\n",
      "단순 결정 트리 회귀 depth=3 R2: 0.3967\n",
      "\n",
      "단순 결정 트리 회귀 depth=4 R2: 0.4232\n",
      "\n",
      "단순 결정 트리 회귀 depth=5 R2: 0.3459\n",
      "\n",
      "단순 결정 트리 회귀 depth=6 R2: 0.3571\n",
      "\n",
      "단순 결정 트리 회귀 depth=7 R2: 0.3793\n",
      "\n",
      "단순 결정 트리 회귀 depth=8 R2: 0.3082\n",
      "\n",
      "단순 결정 트리 회귀 depth=9 R2: 0.2388\n",
      "\n",
      "단순 결정 트리 회귀 depth=10 R2: 0.2150\n",
      "최적의 결과는 depth=4 r2=0.4232\n"
     ]
    }
   ],
   "source": [
    "best_depth = 0\n",
    "best_r2 = 0\n",
    "\n",
    "for depth in arr:\n",
    "  dt_regr = DecisionTreeRegressor(max_depth=depth)\n",
    "  dt_regr.fit(x_train['RM'].values.reshape((-1,1)), y_train)\n",
    "  y_pred = dt_regr.predict(x_test['RM'].values.reshape(-1,1))\n",
    "  \n",
    "  temp_r2 = r2_score(y_test, y_pred)\n",
    "  print('\\n단순 결정 트리 회귀 depth={} R2: {:.4f}'.format(depth, temp_r2))\n",
    "\n",
    "  if best_r2 < temp_r2:\n",
    "    best_depth = depth\n",
    "    best_r2 = temp_r2\n",
    "\n",
    "print('최적의 결과는 depth={} r2={:.4f}'.format(best_depth, best_r2))"
   ]
  },
  {
   "cell_type": "code",
   "execution_count": 80,
   "id": "chemical-knitting",
   "metadata": {},
   "outputs": [
    {
     "name": "stdout",
     "output_type": "stream",
     "text": [
      "다중결정 트리 R2:0.8003\n"
     ]
    }
   ],
   "source": [
    "dt_regr = DecisionTreeRegressor(max_depth=5)\n",
    "dt_regr.fit(x_train, y_train)\n",
    "\n",
    "y_pred = dt_regr.predict(x_test)\n",
    "print('다중결정 트리 R2:{:.4f}'.format(r2_score(y_test, y_pred)))"
   ]
  },
  {
   "cell_type": "code",
   "execution_count": 87,
   "id": "comparative-bunch",
   "metadata": {},
   "outputs": [
    {
     "name": "stdout",
     "output_type": "stream",
     "text": [
      "단순 서포트 백터 머신 회귀 R2: 0.4266\n"
     ]
    }
   ],
   "source": [
    "#support vector machine regressor\n",
    "from sklearn.svm import SVR\n",
    "svm_regr = SVR(C=1)\n",
    "svm_regr.fit(x_train['RM'].values.reshape(-1,1), y_train)\n",
    "y_pred = svm_regr.predict(x_test['RM'].values.reshape(-1,1))\n",
    "print('단순 서포트 백터 머신 회귀 R2: {:.4f}'.format(r2_score(y_test,y_pred)))"
   ]
  },
  {
   "cell_type": "code",
   "execution_count": 93,
   "id": "editorial-reconstruction",
   "metadata": {},
   "outputs": [],
   "source": [
    "#결과의 시각화\n",
    "line_x = np.linspace(np.min(x_test['RM']), np.max(x_test['RM']),100)\n",
    "line_y = svm_regr.predict(line_x.reshape(-1,1))"
   ]
  },
  {
   "cell_type": "code",
   "execution_count": 99,
   "id": "intensive-speech",
   "metadata": {},
   "outputs": [
    {
     "data": {
      "text/plain": [
       "<matplotlib.legend.Legend at 0x2857ec994f0>"
      ]
     },
     "execution_count": 99,
     "metadata": {},
     "output_type": "execute_result"
    },
    {
     "data": {
      "image/png": "[encoded data removed]",
      "text/plain": [
       "<Figure size 432x288 with 1 Axes>"
      ]
     },
     "metadata": {
      "needs_background": "light"
     },
     "output_type": "display_data"
    }
   ],
   "source": [
    "plt.scatter(x_test['RM'], y_test, c='black')\n",
    "plt.plot(line_x, line_y, c='red')\n",
    "plt.legend(['regression line','test data samples'], loc='upper left')"
   ]
  },
  {
   "cell_type": "code",
   "execution_count": 102,
   "id": "induced-sender",
   "metadata": {},
   "outputs": [
    {
     "name": "stdout",
     "output_type": "stream",
     "text": [
      "다중 서포트 벡터 머신 회귀, R2 : 0.4086\n"
     ]
    }
   ],
   "source": [
    "svm_regr = SVR(C=20)\n",
    "svm_regr.fit(x_train, y_train)\n",
    "y_pred = svm_regr.predict(x_test)\n",
    "print('다중 서포트 벡터 머신 회귀, R2 : {:.4f}'.format(r2_score(y_test, y_pred)))"
   ]
  },
  {
   "cell_type": "code",
   "execution_count": null,
   "id": "viral-swiss",
   "metadata": {},
   "outputs": [],
   "source": []
  }
 ],
 "metadata": {
  "kernelspec": {
   "display_name": "Python 3",
   "language": "python",
   "name": "python3"
  },
  "language_info": {
   "codemirror_mode": {
    "name": "ipython",
    "version": 3
   },
   "file_extension": ".py",
   "mimetype": "text/x-python",
   "name": "python",
   "nbconvert_exporter": "python",
   "pygments_lexer": "ipython3",
   "version": "3.8.8"
  }
 },
 "nbformat": 4,
 "nbformat_minor": 5
}
