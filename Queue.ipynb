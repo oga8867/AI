{
 "cells": [
  {
   "cell_type": "code",
   "execution_count": 15,
   "id": "eight-decision",
   "metadata": {},
   "outputs": [
    {
     "name": "stdout",
     "output_type": "stream",
     "text": [
      "Requirement already satisfied: azure-storage-queue==2.1.0 in c:\\users\\oga88\\anaconda3\\lib\\site-packages (2.1.0)\n",
      "Requirement already satisfied: azure-common>=1.1.5 in c:\\users\\oga88\\anaconda3\\lib\\site-packages (from azure-storage-queue==2.1.0) (1.1.28)\n",
      "Requirement already satisfied: azure-storage-common~=2.1 in c:\\users\\oga88\\anaconda3\\lib\\site-packages (from azure-storage-queue==2.1.0) (2.1.0)\n",
      "Requirement already satisfied: requests in c:\\users\\oga88\\anaconda3\\lib\\site-packages (from azure-storage-common~=2.1->azure-storage-queue==2.1.0) (2.25.1)\n",
      "Requirement already satisfied: cryptography in c:\\users\\oga88\\anaconda3\\lib\\site-packages (from azure-storage-common~=2.1->azure-storage-queue==2.1.0) (3.4.7)\n",
      "Requirement already satisfied: python-dateutil in c:\\users\\oga88\\anaconda3\\lib\\site-packages (from azure-storage-common~=2.1->azure-storage-queue==2.1.0) (2.8.1)\n",
      "Requirement already satisfied: cffi>=1.12 in c:\\users\\oga88\\anaconda3\\lib\\site-packages (from cryptography->azure-storage-common~=2.1->azure-storage-queue==2.1.0) (1.14.5)\n",
      "Requirement already satisfied: six>=1.5 in c:\\users\\oga88\\anaconda3\\lib\\site-packages (from python-dateutil->azure-storage-common~=2.1->azure-storage-queue==2.1.0) (1.15.0)\n",
      "Requirement already satisfied: idna<3,>=2.5 in c:\\users\\oga88\\anaconda3\\lib\\site-packages (from requests->azure-storage-common~=2.1->azure-storage-queue==2.1.0) (2.10)\n",
      "Requirement already satisfied: chardet<5,>=3.0.2 in c:\\users\\oga88\\anaconda3\\lib\\site-packages (from requests->azure-storage-common~=2.1->azure-storage-queue==2.1.0) (4.0.0)\n",
      "Requirement already satisfied: certifi>=2017.4.17 in c:\\users\\oga88\\anaconda3\\lib\\site-packages (from requests->azure-storage-common~=2.1->azure-storage-queue==2.1.0) (2020.12.5)\n",
      "Requirement already satisfied: urllib3<1.27,>=1.21.1 in c:\\users\\oga88\\anaconda3\\lib\\site-packages (from requests->azure-storage-common~=2.1->azure-storage-queue==2.1.0) (1.26.4)\n",
      "Requirement already satisfied: pycparser in c:\\users\\oga88\\anaconda3\\lib\\site-packages (from cffi>=1.12->cryptography->azure-storage-common~=2.1->azure-storage-queue==2.1.0) (2.20)\n"
     ]
    },
    {
     "name": "stderr",
     "output_type": "stream",
     "text": [
      "WARNING: You are using pip version 21.3; however, version 22.3.1 is available.\n",
      "You should consider upgrading via the 'c:\\users\\oga88\\anaconda3\\python.exe -m pip install --upgrade pip' command.\n"
     ]
    }
   ],
   "source": [
    "!pip install azure-storage-queue==2.1.0"
   ]
  },
  {
   "cell_type": "code",
   "execution_count": 16,
   "id": "young-nicholas",
   "metadata": {},
   "outputs": [],
   "source": [
    "from azure.storage.queue import QueueService, QueueMessageFormat"
   ]
  },
  {
   "cell_type": "code",
   "execution_count": 17,
   "id": "premier-budapest",
   "metadata": {},
   "outputs": [],
   "source": [
    "import os,uuid"
   ]
  },
  {
   "cell_type": "code",
   "execution_count": 18,
   "id": "psychological-jamaica",
   "metadata": {},
   "outputs": [],
   "source": [
    "connect_str = 'DefaultEndpointsProtocol=https;AccountName=labuser40storage;AccountKey=m0+Axm7PWVsUMOYAvDUhWtGe2fMNcgw6WrVlwaSHSLKlkg9+3Wxwbt5gMI9cmgRFmPU7WOXQPwYn+ASt5oPnZQ==;EndpointSuffix=core.windows.net'\n",
    "queue_name = 'queue-' + str(uuid.uuid4()) # str(uuid.uuid4()) 이거가  2d5f6044-fb93-45a6-8ab5-0077b1c04359 이 난수를 만들어줌"
   ]
  },
  {
   "cell_type": "code",
   "execution_count": 19,
   "id": "hundred-producer",
   "metadata": {},
   "outputs": [
    {
     "name": "stdout",
     "output_type": "stream",
     "text": [
      "Creating Queue:queue-89c81646-ffdd-4d43-a13e-4657fb5ea5f3\n"
     ]
    },
    {
     "data": {
      "text/plain": [
       "True"
      ]
     },
     "execution_count": 19,
     "metadata": {},
     "output_type": "execute_result"
    }
   ],
   "source": [
    "print('Creating Queue:' + queue_name)\n",
    "queue_service = QueueService(connection_string=connect_str)\n",
    "\n",
    "queue_service.create_queue(queue_name)"
   ]
  },
  {
   "cell_type": "code",
   "execution_count": 29,
   "id": "single-society",
   "metadata": {},
   "outputs": [
    {
     "name": "stdout",
     "output_type": "stream",
     "text": [
      "adding message:Hello Queue\n"
     ]
    },
    {
     "data": {
      "text/plain": [
       "b'SGVsbG8gUXVldWU='"
      ]
     },
     "execution_count": 29,
     "metadata": {},
     "output_type": "execute_result"
    }
   ],
   "source": [
    "# Setup Base64 encoding and decoding functions\n",
    "queue_service.encode_function = QueueMessageFormat.binary_base64encode\n",
    "queue_service.decode_function = QueueMessageFormat.binary_base64decode\n",
    "\n",
    "import base64\n",
    "message = 'Hello Queue'\n",
    "\n",
    "#큐에 메세지 넣기\n",
    "\n",
    "print('adding message:'+message)\n",
    "message = base64.b64encode(message.encode('utf-8'))\n",
    "queue_service.put_message(queue_name, message)\n",
    "\n",
    "message"
   ]
  },
  {
   "cell_type": "code",
   "execution_count": 30,
   "id": "subsequent-course",
   "metadata": {},
   "outputs": [
    {
     "name": "stdout",
     "output_type": "stream",
     "text": [
      "Peeked message: Hello Queue\n"
     ]
    }
   ],
   "source": [
    "#메세지 보기\n",
    "\n",
    "messages = queue_service.peek_messages(queue_name)\n",
    "\n",
    "for peeked_message in messages:\n",
    "  \n",
    "  message = base64.b64decode(peeked_message.content)\n",
    "  print(\"Peeked message: \" + message.decode('utf-8'))"
   ]
  },
  {
   "cell_type": "code",
   "execution_count": 32,
   "id": "accurate-configuration",
   "metadata": {},
   "outputs": [
    {
     "name": "stdout",
     "output_type": "stream",
     "text": [
      "Message: Hello Queue\n"
     ]
    }
   ],
   "source": [
    "#메세지 큐에서 빼내기\n",
    "\n",
    "messages = queue_service.get_messages(queue_name)\n",
    "\n",
    "for msg in messages:\n",
    "  message = base64.b64decode(msg.content)\n",
    "  print('Message: ' + message.decode('utf-8'))"
   ]
  },
  {
   "cell_type": "code",
   "execution_count": 33,
   "id": "revised-arena",
   "metadata": {},
   "outputs": [
    {
     "name": "stdout",
     "output_type": "stream",
     "text": [
      "Deleting queue:queue-89c81646-ffdd-4d43-a13e-4657fb5ea5f3\n"
     ]
    },
    {
     "data": {
      "text/plain": [
       "True"
      ]
     },
     "execution_count": 33,
     "metadata": {},
     "output_type": "execute_result"
    }
   ],
   "source": [
    "#큐 삭제하기\n",
    "\n",
    "print('Deleting queue:'+ queue_name)\n",
    "queue_service.delete_queue(queue_name)"
   ]
  },
  {
   "cell_type": "code",
   "execution_count": null,
   "id": "swiss-bench",
   "metadata": {},
   "outputs": [],
   "source": []
  }
 ],
 "metadata": {
  "kernelspec": {
   "display_name": "Python 3",
   "language": "python",
   "name": "python3"
  },
  "language_info": {
   "codemirror_mode": {
    "name": "ipython",
    "version": 3
   },
   "file_extension": ".py",
   "mimetype": "text/x-python",
   "name": "python",
   "nbconvert_exporter": "python",
   "pygments_lexer": "ipython3",
   "version": "3.8.8"
  }
 },
 "nbformat": 4,
 "nbformat_minor": 5
}
