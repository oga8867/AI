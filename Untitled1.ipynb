{
 "cells": [
  {
   "cell_type": "code",
   "execution_count": 9,
   "metadata": {},
   "outputs": [
    {
     "name": "stdout",
     "output_type": "stream",
     "text": [
      "99 a: 0.5910312 b: -0.40232033 c: -0.32379505 d: 0.13583864 loss: 0.14477663\n",
      "199 a: 0.68028617 b: -0.39403293 c: -0.38306895 d: 0.13236062 loss: 0.1445348\n",
      "299 a: 0.67986363 b: -0.39396846 c: -0.38279182 d: 0.13235989 loss: 0.1445348\n",
      "399 a: 0.6798652 b: -0.39396852 c: -0.38279286 d: 0.13235989 loss: 0.1445348\n",
      "499 a: 0.6798652 b: -0.39396852 c: -0.38279286 d: 0.1323599 loss: 0.14453478\n",
      "599 a: 0.6798652 b: -0.39396855 c: -0.38279286 d: 0.1323599 loss: 0.14453478\n",
      "699 a: 0.6798652 b: -0.39396855 c: -0.38279286 d: 0.1323599 loss: 0.14453478\n",
      "799 a: 0.6798652 b: -0.39396855 c: -0.38279286 d: 0.1323599 loss: 0.14453478\n",
      "899 a: 0.6798652 b: -0.39396855 c: -0.38279286 d: 0.1323599 loss: 0.14453478\n",
      "999 a: 0.6798652 b: -0.39396855 c: -0.38279286 d: 0.1323599 loss: 0.14453478\n"
     ]
    },
    {
     "data": {
      "image/png": "[encoded data removed]",
      "text/plain": [
       "<Figure size 432x288 with 1 Axes>"
      ]
     },
     "metadata": {
      "needs_background": "light"
     },
     "output_type": "display_data"
    }
   ],
   "source": [
    "import tensorflow as tf\n",
    "import numpy as np\n",
    "import matplotlib.pyplot as plt\n",
    "import random\n",
    "X = [-1.0, -0.9, -0.8, -0.7, -0.6, -0.5, -0.4, -0.3, -0.2, -0.1, 0 ,0.1 ,0.2 ,0.3 ,0.4 ,0.5, 0.6, 0.7, 0.8, 0.9, 1.0]\n",
    "Y = [-0.96, -0.58, -0.073, 0.38, 0.64, 0.66, 0.46, 0.13, -0.20, -0.43, -0.5, -0.39, -0.16, 0.099, 0.31, 0.40, 0.35, 0.18, -0.03, -0.22, -0.32]\n",
    "\n",
    "a = tf.Variable(random.random())\n",
    "b = tf.Variable(random.random())\n",
    "c = tf.Variable(random.random())\n",
    "d = tf.Variable(random.random())\n",
    "\n",
    "\n",
    "def compute_loss():\n",
    "    y_pred = a * X*X*X + b * X*X + c * X + d\n",
    "    loss = tf.reduce_mean((Y - y_pred) ** 2)\n",
    "    return loss\n",
    "\n",
    "optimizer = tf.keras.optimizers.Adam(lr=0.07)\n",
    "for i in range(1000):\n",
    "    \n",
    "    optimizer.minimize(compute_loss, var_list=[a,b,c,d])\n",
    "    \n",
    "    if i % 100 == 99:\n",
    "        print(i, 'a:', a.numpy(), 'b:', b.numpy(), 'c:', c.numpy(), 'd:', d.numpy(), 'loss:', compute_loss().numpy())\n",
    "\n",
    "line_x = np.arange(min(X), max(X), 0.01)\n",
    "line_y = a * line_x * line_x * line_x + b * line_x * line_x + c * line_x + d\n",
    "\n",
    ".\n",
    "plt.plot(line_x,line_y,'r-')\n",
    "plt.plot(X,Y,'bo')\n",
    "plt.xlabel('Population Growth Rate (%)')\n",
    "plt.ylabel('Elderly Population Rate (%)')\n",
    "plt.show()"
   ]
  },
  {
   "cell_type": "code",
   "execution_count": 13,
   "metadata": {},
   "outputs": [
    {
     "name": "stdout",
     "output_type": "stream",
     "text": [
      "Model: \"sequential_3\"\n",
      "_________________________________________________________________\n",
      "Layer (type)                 Output Shape              Param #   \n",
      "=================================================================\n",
      "dense_6 (Dense)              (None, 6)                 12        \n",
      "_________________________________________________________________\n",
      "dense_7 (Dense)              (None, 1)                 7         \n",
      "=================================================================\n",
      "Total params: 19\n",
      "Trainable params: 19\n",
      "Non-trainable params: 0\n",
      "_________________________________________________________________\n",
      "Epoch 1/30\n",
      "1/1 [==============================] - 0s 1ms/step - loss: 0.1908\n",
      "Epoch 2/30\n",
      "1/1 [==============================] - 0s 0s/step - loss: 0.1828\n",
      "Epoch 3/30\n",
      "1/1 [==============================] - 0s 1000us/step - loss: 0.1785\n",
      "Epoch 4/30\n",
      "1/1 [==============================] - 0s 1000us/step - loss: 0.1762\n",
      "Epoch 5/30\n",
      "1/1 [==============================] - 0s 0s/step - loss: 0.1750\n",
      "Epoch 6/30\n",
      "1/1 [==============================] - 0s 1000us/step - loss: 0.1743\n",
      "Epoch 7/30\n",
      "1/1 [==============================] - 0s 0s/step - loss: 0.1739\n",
      "Epoch 8/30\n",
      "1/1 [==============================] - 0s 0s/step - loss: 0.1737\n",
      "Epoch 9/30\n",
      "1/1 [==============================] - 0s 1ms/step - loss: 0.1735\n",
      "Epoch 10/30\n",
      "1/1 [==============================] - 0s 0s/step - loss: 0.1734\n",
      "Epoch 11/30\n",
      "1/1 [==============================] - 0s 0s/step - loss: 0.1733\n",
      "Epoch 12/30\n",
      "1/1 [==============================] - 0s 0s/step - loss: 0.1733\n",
      "Epoch 13/30\n",
      "1/1 [==============================] - 0s 0s/step - loss: 0.1732\n",
      "Epoch 14/30\n",
      "1/1 [==============================] - 0s 1000us/step - loss: 0.1732\n",
      "Epoch 15/30\n",
      "1/1 [==============================] - 0s 1ms/step - loss: 0.1731\n",
      "Epoch 16/30\n",
      "1/1 [==============================] - 0s 0s/step - loss: 0.1731\n",
      "Epoch 17/30\n",
      "1/1 [==============================] - 0s 0s/step - loss: 0.1730\n",
      "Epoch 18/30\n",
      "1/1 [==============================] - 0s 0s/step - loss: 0.1730\n",
      "Epoch 19/30\n",
      "1/1 [==============================] - 0s 1000us/step - loss: 0.1729\n",
      "Epoch 20/30\n",
      "1/1 [==============================] - 0s 0s/step - loss: 0.1729\n",
      "Epoch 21/30\n",
      "1/1 [==============================] - 0s 0s/step - loss: 0.1728\n",
      "Epoch 22/30\n",
      "1/1 [==============================] - 0s 0s/step - loss: 0.1728\n",
      "Epoch 23/30\n",
      "1/1 [==============================] - 0s 0s/step - loss: 0.1727\n",
      "Epoch 24/30\n",
      "1/1 [==============================] - 0s 1ms/step - loss: 0.1727\n",
      "Epoch 25/30\n",
      "1/1 [==============================] - 0s 0s/step - loss: 0.1727\n",
      "Epoch 26/30\n",
      "1/1 [==============================] - 0s 1ms/step - loss: 0.1726\n",
      "Epoch 27/30\n",
      "1/1 [==============================] - 0s 0s/step - loss: 0.1726\n",
      "Epoch 28/30\n",
      "1/1 [==============================] - 0s 1ms/step - loss: 0.1725\n",
      "Epoch 29/30\n",
      "1/1 [==============================] - 0s 0s/step - loss: 0.1725\n",
      "Epoch 30/30\n",
      "1/1 [==============================] - 0s 0s/step - loss: 0.1724\n"
     ]
    },
    {
     "data": {
      "image/png": "[encoded data removed]",
      "text/plain": [
       "<Figure size 432x288 with 1 Axes>"
      ]
     },
     "metadata": {
      "needs_background": "light"
     },
     "output_type": "display_data"
    }
   ],
   "source": [
    "# 4.7 딥러닝 네트워크를 이용한 회귀\n",
    "import tensorflow as tf\n",
    "import numpy as np\n",
    "import matplotlib.pyplot as plt\n",
    "\n",
    "X = [-1.0, -0.9, -0.8, -0.7, -0.6, -0.5, -0.4, -0.3, -0.2, -0.1, 0 ,0.1 ,0.2 ,0.3 ,0.4 ,0.5, 0.6, 0.7, 0.8, 0.9, 1.0]\n",
    "Y = [-0.96, -0.58, -0.073, 0.38, 0.64, 0.66, 0.46, 0.13, -0.20, -0.43, -0.5, -0.39, -0.16, 0.099, 0.31, 0.40, 0.35, 0.18, -0.03, -0.22, -0.32]\n",
    "\n",
    "model = tf.keras.Sequential([\n",
    "    tf.keras.layers.Dense(units=6, activation='tanh', input_shape=(1,)),\n",
    "    tf.keras.layers.Dense(units=1)\n",
    "])\n",
    "\n",
    "model.compile(optimizer=tf.keras.optimizers.SGD(lr=0.1), loss='mse')\n",
    "\n",
    "model.summary()\n",
    "model.fit(X, Y, epochs=30)\n",
    "model.predict(X)\n",
    "\n",
    "line_x = np.arange(min(X), max(X), 0.01)\n",
    "line_y = model.predict(line_x)\n",
    "\n",
    "plt.plot(line_x,line_y,'r-')\n",
    "plt.plot(X,Y,'bo')\n",
    "plt.xlabel('X Axis')\n",
    "plt.ylabel('Y Axis')\n",
    "plt.show()"
   ]
  },
  {
   "cell_type": "code",
   "execution_count": 14,
   "metadata": {},
   "outputs": [
    {
     "name": "stdout",
     "output_type": "stream",
     "text": [
      "99 a: -0.39709944 b: 0.0634058 c: 0.12925613 loss: 0.15826654\n",
      "199 a: -0.39395475 b: 0.064558886 c: 0.13237393 loss: 0.15824692\n",
      "299 a: -0.39396858 b: 0.0645585 c: 0.13235992 loss: 0.15824693\n",
      "399 a: -0.39396855 b: 0.06455845 c: 0.1323599 loss: 0.15824693\n",
      "499 a: -0.39396855 b: 0.06455845 c: 0.1323599 loss: 0.15824693\n",
      "599 a: -0.39396855 b: 0.06455844 c: 0.1323599 loss: 0.15824695\n",
      "699 a: -0.39396855 b: 0.06455844 c: 0.1323599 loss: 0.15824695\n",
      "799 a: -0.39396855 b: 0.06455844 c: 0.1323599 loss: 0.15824695\n",
      "899 a: -0.39396855 b: 0.06455845 c: 0.1323599 loss: 0.15824693\n",
      "999 a: -0.39396855 b: 0.06455843 c: 0.1323599 loss: 0.15824695\n"
     ]
    },
    {
     "data": {
      "image/png": "[encoded data removed]",
      "text/plain": [
       "<Figure size 432x288 with 1 Axes>"
      ]
     },
     "metadata": {
      "needs_background": "light"
     },
     "output_type": "display_data"
    }
   ],
   "source": [
    "# 4.5 텐서플로우를 이용해서 2차 함수 회귀선 구하기\n",
    "import tensorflow as tf\n",
    "import numpy as np\n",
    "import matplotlib.pyplot as plt\n",
    "import random\n",
    "\n",
    "X = [-1.0, -0.9, -0.8, -0.7, -0.6, -0.5, -0.4, -0.3, -0.2, -0.1, 0 ,0.1 ,0.2 ,0.3 ,0.4 ,0.5, 0.6, 0.7, 0.8, 0.9, 1.0]\n",
    "Y = [-0.96, -0.58, -0.073, 0.38, 0.64, 0.66, 0.46, 0.13, -0.20, -0.43, -0.5, -0.39, -0.16, 0.099, 0.31, 0.40, 0.35, 0.18, -0.03, -0.22, -0.32]\n",
    "\n",
    "\n",
    "a = tf.Variable(random.random())\n",
    "b = tf.Variable(random.random())\n",
    "c = tf.Variable(random.random())\n",
    "\n",
    "\n",
    "def compute_loss():\n",
    "    y_pred = a * X*X + b * X + c\n",
    "    loss = tf.reduce_mean((Y - y_pred) ** 2)\n",
    "    return loss\n",
    "\n",
    "optimizer = tf.keras.optimizers.Adam(lr=0.07)\n",
    "for i in range(1000):\n",
    "    #\n",
    "    optimizer.minimize(compute_loss, var_list=[a,b,c])\n",
    "    \n",
    "    if i % 100 == 99:\n",
    "        print(i, 'a:', a.numpy(), 'b:', b.numpy(), 'c:', c.numpy(), 'loss:', compute_loss().numpy())\n",
    "\n",
    "line_x = np.arange(min(X), max(X), 0.01)\n",
    "line_y = a * line_x * line_x + b * line_x + c\n",
    "\n",
    "\n",
    "plt.plot(line_x,line_y,'r-')\n",
    "plt.plot(X,Y,'bo')\n",
    "plt.xlabel('X Axis')\n",
    "plt.ylabel('Y Axis')\n",
    "plt.show()"
   ]
  },
  {
   "cell_type": "code",
   "execution_count": null,
   "metadata": {},
   "outputs": [],
   "source": []
  }
 ],
 "metadata": {
  "kernelspec": {
   "display_name": "Python 3",
   "language": "python",
   "name": "python3"
  },
  "language_info": {
   "codemirror_mode": {
    "name": "ipython",
    "version": 3
   },
   "file_extension": ".py",
   "mimetype": "text/x-python",
   "name": "python",
   "nbconvert_exporter": "python",
   "pygments_lexer": "ipython3",
   "version": "3.8.8"
  }
 },
 "nbformat": 4,
 "nbformat_minor": 4
}
