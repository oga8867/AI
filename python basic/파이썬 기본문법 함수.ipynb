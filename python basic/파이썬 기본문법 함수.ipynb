{
 "cells": [
  {
   "cell_type": "code",
   "execution_count": 2,
   "id": "equivalent-polymer",
   "metadata": {},
   "outputs": [
    {
     "name": "stdout",
     "output_type": "stream",
     "text": [
      "my name is?\n"
     ]
    }
   ],
   "source": [
    "def returnname():\n",
    "    print('my name is?')\n",
    "returnname()"
   ]
  },
  {
   "cell_type": "code",
   "execution_count": 4,
   "id": "perceived-union",
   "metadata": {},
   "outputs": [
    {
     "name": "stdout",
     "output_type": "stream",
     "text": [
      "my name is me\n",
      "my name is me\n"
     ]
    }
   ],
   "source": [
    "def returnname2(name):\n",
    "    print('my name is {}'.format(name))\n",
    "    print('my name is',name)\n",
    "returnname2('me')"
   ]
  },
  {
   "cell_type": "code",
   "execution_count": 8,
   "id": "exclusive-salad",
   "metadata": {},
   "outputs": [
    {
     "data": {
      "text/plain": [
       "2"
      ]
     },
     "execution_count": 8,
     "metadata": {},
     "output_type": "execute_result"
    }
   ],
   "source": [
    "def calc(a,b):\n",
    "    c = a*b\n",
    "    return c\n",
    "calc(1,2)"
   ]
  },
  {
   "cell_type": "code",
   "execution_count": 11,
   "id": "renewable-blind",
   "metadata": {},
   "outputs": [
    {
     "data": {
      "text/plain": [
       "<function __main__.calc(a, b)>"
      ]
     },
     "execution_count": 11,
     "metadata": {},
     "output_type": "execute_result"
    }
   ],
   "source": [
    "calc"
   ]
  },
  {
   "cell_type": "code",
   "execution_count": 12,
   "id": "liberal-jason",
   "metadata": {},
   "outputs": [
    {
     "data": {
      "text/plain": [
       "2139678320240"
      ]
     },
     "execution_count": 12,
     "metadata": {},
     "output_type": "execute_result"
    }
   ],
   "source": [
    "id(calc)"
   ]
  },
  {
   "cell_type": "code",
   "execution_count": null,
   "id": "existing-situation",
   "metadata": {},
   "outputs": [],
   "source": []
  }
 ],
 "metadata": {
  "kernelspec": {
   "display_name": "Python 3",
   "language": "python",
   "name": "python3"
  },
  "language_info": {
   "codemirror_mode": {
    "name": "ipython",
    "version": 3
   },
   "file_extension": ".py",
   "mimetype": "text/x-python",
   "name": "python",
   "nbconvert_exporter": "python",
   "pygments_lexer": "ipython3",
   "version": "3.8.8"
  }
 },
 "nbformat": 4,
 "nbformat_minor": 5
}
