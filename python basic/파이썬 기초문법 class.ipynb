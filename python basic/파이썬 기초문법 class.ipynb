{
 "cells": [
  {
   "cell_type": "code",
   "execution_count": 2,
   "id": "subsequent-inclusion",
   "metadata": {},
   "outputs": [],
   "source": [
    "class myclass:\n",
    "    pass"
   ]
  },
  {
   "cell_type": "code",
   "execution_count": 4,
   "id": "exciting-delaware",
   "metadata": {},
   "outputs": [
    {
     "data": {
      "text/plain": [
       "__main__.myclass"
      ]
     },
     "execution_count": 4,
     "metadata": {},
     "output_type": "execute_result"
    }
   ],
   "source": [
    "myclass"
   ]
  },
  {
   "cell_type": "code",
   "execution_count": 5,
   "id": "understanding-package",
   "metadata": {},
   "outputs": [
    {
     "data": {
      "text/plain": [
       "type"
      ]
     },
     "execution_count": 5,
     "metadata": {},
     "output_type": "execute_result"
    }
   ],
   "source": [
    "type(myclass)"
   ]
  },
  {
   "cell_type": "code",
   "execution_count": 10,
   "id": "interracial-background",
   "metadata": {},
   "outputs": [
    {
     "name": "stdout",
     "output_type": "stream",
     "text": [
      "my name is 손흥민\n"
     ]
    }
   ],
   "source": [
    "class person:\n",
    "    name = 'default name'\n",
    "    def print(self):\n",
    "        print('my name is',self.name)\n",
    "son = person()\n",
    "son.name = '손흥민'\n",
    "son.print()"
   ]
  },
  {
   "cell_type": "code",
   "execution_count": 12,
   "id": "discrete-heath",
   "metadata": {},
   "outputs": [
    {
     "name": "stdout",
     "output_type": "stream",
     "text": [
      "my name is 프로\n",
      "my name is 기범\n"
     ]
    }
   ],
   "source": [
    "p1=person()\n",
    "p2=person()\n",
    "p1.name = '프로'\n",
    "p2.name = '기범'\n",
    "p1.print()\n",
    "p2.print()"
   ]
  },
  {
   "cell_type": "code",
   "execution_count": 20,
   "id": "proper-decimal",
   "metadata": {},
   "outputs": [
    {
     "data": {
      "text/plain": [
       "20"
      ]
     },
     "execution_count": 20,
     "metadata": {},
     "output_type": "execute_result"
    }
   ],
   "source": [
    "person.title = 'new title' ##새로운 title 이라는 기능이 person에 추가됨\n",
    "p1.title = '게이머'\n",
    "p1.age = 20\n",
    "p1.age"
   ]
  },
  {
   "cell_type": "code",
   "execution_count": 22,
   "id": "golden-announcement",
   "metadata": {},
   "outputs": [
    {
     "ename": "AttributeError",
     "evalue": "type object 'person' has no attribute 'age'",
     "output_type": "error",
     "traceback": [
      "\u001b[1;31m---------------------------------------------------------------------------\u001b[0m",
      "\u001b[1;31mAttributeError\u001b[0m                            Traceback (most recent call last)",
      "\u001b[1;32m<ipython-input-22-37fbffdc234f>\u001b[0m in \u001b[0;36m<module>\u001b[1;34m\u001b[0m\n\u001b[1;32m----> 1\u001b[1;33m \u001b[0mperson\u001b[0m\u001b[1;33m.\u001b[0m\u001b[0mage\u001b[0m \u001b[1;31m##p1에 추가된건 p1만 적용받지만 person에 추가하면 모든 요소들이 다 그 속성을 가지게됨\u001b[0m\u001b[1;33m\u001b[0m\u001b[1;33m\u001b[0m\u001b[0m\n\u001b[0m",
      "\u001b[1;31mAttributeError\u001b[0m: type object 'person' has no attribute 'age'"
     ]
    }
   ],
   "source": [
    "person.age ##p1에 추가된건 p1만 적용받지만 person에 추가하면 모든 요소들이 다 그 속성을 가지게됨"
   ]
  },
  {
   "cell_type": "code",
   "execution_count": 25,
   "id": "incomplete-slope",
   "metadata": {},
   "outputs": [
    {
     "data": {
      "text/plain": [
       "True"
      ]
     },
     "execution_count": 25,
     "metadata": {},
     "output_type": "execute_result"
    }
   ],
   "source": [
    "#클래스의 상속\n",
    "class human:\n",
    "    pass\n",
    "class bird:\n",
    "    pass\n",
    "class student(human):    ##human으로 부터 상속됨\n",
    "    pass\n",
    "p = human()\n",
    "s = student()\n",
    "isinstance(p,human)  ##instance가 human으로부터 온게 맞느냐고 물어봄"
   ]
  },
  {
   "cell_type": "code",
   "execution_count": 28,
   "id": "cardiac-restoration",
   "metadata": {},
   "outputs": [
    {
     "data": {
      "text/plain": [
       "True"
      ]
     },
     "execution_count": 28,
     "metadata": {},
     "output_type": "execute_result"
    }
   ],
   "source": [
    "isinstance(s,human)"
   ]
  },
  {
   "cell_type": "code",
   "execution_count": 31,
   "id": "amber-forward",
   "metadata": {},
   "outputs": [
    {
     "data": {
      "text/plain": [
       "True"
      ]
     },
     "execution_count": 31,
     "metadata": {},
     "output_type": "execute_result"
    }
   ],
   "source": [
    "isinstance(s,object)"
   ]
  },
  {
   "cell_type": "code",
   "execution_count": 33,
   "id": "strange-honduras",
   "metadata": {},
   "outputs": [
    {
     "data": {
      "text/plain": [
       "False"
      ]
     },
     "execution_count": 33,
     "metadata": {},
     "output_type": "execute_result"
    }
   ],
   "source": [
    "isinstance(p,bird)"
   ]
  },
  {
   "cell_type": "code",
   "execution_count": 42,
   "id": "recreational-assets",
   "metadata": {},
   "outputs": [
    {
     "name": "stdout",
     "output_type": "stream",
     "text": [
      "class is created! value =  10\n"
     ]
    }
   ],
   "source": [
    "class myclass:\n",
    "    #생성자 자동으로 value 값을 말해주고 myclass 가 생성되면 바로 반응함\n",
    "    def __init__(self,value):\n",
    "        self.Value =value\n",
    "        print('class is created! value = ',value)\n",
    "    #소멸자 사라지면 바로 아래가 실행됨\n",
    "    def __del__(self):\n",
    "        print('class is deleted!')\n",
    "m = myclass(10)"
   ]
  },
  {
   "cell_type": "code",
   "execution_count": 44,
   "id": "drawn-homework",
   "metadata": {},
   "outputs": [
    {
     "ename": "NameError",
     "evalue": "name 'm' is not defined",
     "output_type": "error",
     "traceback": [
      "\u001b[1;31m---------------------------------------------------------------------------\u001b[0m",
      "\u001b[1;31mNameError\u001b[0m                                 Traceback (most recent call last)",
      "\u001b[1;32m<ipython-input-44-e0f8da06c62d>\u001b[0m in \u001b[0;36m<module>\u001b[1;34m\u001b[0m\n\u001b[0;32m      1\u001b[0m \u001b[1;31m## 메모리상의 오브젝트를 지움\u001b[0m\u001b[1;33m\u001b[0m\u001b[1;33m\u001b[0m\u001b[1;33m\u001b[0m\u001b[0m\n\u001b[1;32m----> 2\u001b[1;33m \u001b[1;32mdel\u001b[0m \u001b[0mm\u001b[0m\u001b[1;33m\u001b[0m\u001b[1;33m\u001b[0m\u001b[0m\n\u001b[0m",
      "\u001b[1;31mNameError\u001b[0m: name 'm' is not defined"
     ]
    }
   ],
   "source": [
    "## 메모리상의 오브젝트를 지움\n",
    "del m\n"
   ]
  },
  {
   "cell_type": "code",
   "execution_count": 55,
   "id": "sonic-saturday",
   "metadata": {},
   "outputs": [],
   "source": [
    "##정적메소드\n",
    "\n",
    "class classcounter:\n",
    "    inscounter = 0\n",
    "    def __init__(self):\n",
    "        classcounter.inscounter +=1\n",
    "    def printinstancecount():\n",
    "        print('instance count:',classcounter.inscounter)\n",
    "a, b, c = classcounter(),classcounter(),classcounter()"
   ]
  },
  {
   "cell_type": "code",
   "execution_count": 57,
   "id": "specialized-compensation",
   "metadata": {},
   "outputs": [
    {
     "name": "stdout",
     "output_type": "stream",
     "text": [
      "instance count: 3\n"
     ]
    }
   ],
   "source": [
    "classcounter.printinstancecount()"
   ]
  },
  {
   "cell_type": "code",
   "execution_count": 75,
   "id": "later-luther",
   "metadata": {},
   "outputs": [],
   "source": [
    "#상속의 확장\n",
    "\n",
    "class person:\n",
    "    def __init__(self,name,phone):\n",
    "        self.name = name\n",
    "        self.phone = phone      \n",
    "    def printinfo(self):\n",
    "        print('info(name:',self.name,' phone',self.phone)\n",
    "    def printpersondata(self):\n",
    "        print('info(name:',self.name,' phone',self.phone)"
   ]
  },
  {
   "cell_type": "code",
   "execution_count": 99,
   "id": "spoken-junior",
   "metadata": {},
   "outputs": [],
   "source": [
    "class student(person):\n",
    "    \n",
    "    def __init__(self,name,phone,subject,studentid):\n",
    "        self.name = name\n",
    "        self.phone = phone\n",
    "        self.subject = subject\n",
    "        self.studentid = studentid\n",
    "    def printstudentid(self):\n",
    "        print(self,studentid)"
   ]
  },
  {
   "cell_type": "code",
   "execution_count": 82,
   "id": "accessible-criticism",
   "metadata": {},
   "outputs": [],
   "source": [
    "p = person('keybum','010-0000-0000')\n",
    "s = student('idk','010-1111-1111','computer engeineering','00000')"
   ]
  },
  {
   "cell_type": "code",
   "execution_count": 83,
   "id": "minute-provider",
   "metadata": {},
   "outputs": [
    {
     "data": {
      "text/plain": [
       "{'name': 'keybum', 'phone': '010-0000-0000'}"
      ]
     },
     "execution_count": 83,
     "metadata": {},
     "output_type": "execute_result"
    }
   ],
   "source": [
    "#p의 데이터 속성들 확인\n",
    "p.__dict__"
   ]
  },
  {
   "cell_type": "code",
   "execution_count": 84,
   "id": "posted-transaction",
   "metadata": {},
   "outputs": [
    {
     "name": "stdout",
     "output_type": "stream",
     "text": [
      "info(name: keybum  phone 010-0000-0000\n"
     ]
    }
   ],
   "source": [
    "p.printinfo()"
   ]
  },
  {
   "cell_type": "code",
   "execution_count": 86,
   "id": "filled-nursery",
   "metadata": {},
   "outputs": [
    {
     "name": "stdout",
     "output_type": "stream",
     "text": [
      "info(name: idk  phone 010-1111-1111\n"
     ]
    }
   ],
   "source": [
    "s.printinfo()"
   ]
  },
  {
   "cell_type": "code",
   "execution_count": 100,
   "id": "green-exploration",
   "metadata": {},
   "outputs": [
    {
     "ename": "NameError",
     "evalue": "name 'studentid' is not defined",
     "output_type": "error",
     "traceback": [
      "\u001b[1;31m---------------------------------------------------------------------------\u001b[0m",
      "\u001b[1;31mNameError\u001b[0m                                 Traceback (most recent call last)",
      "\u001b[1;32m<ipython-input-100-1db8ebb2a69e>\u001b[0m in \u001b[0;36m<module>\u001b[1;34m\u001b[0m\n\u001b[1;32m----> 1\u001b[1;33m \u001b[0ms\u001b[0m\u001b[1;33m.\u001b[0m\u001b[0mprintstudentid\u001b[0m\u001b[1;33m(\u001b[0m\u001b[1;33m)\u001b[0m\u001b[1;33m\u001b[0m\u001b[1;33m\u001b[0m\u001b[0m\n\u001b[0m",
      "\u001b[1;32m<ipython-input-81-9ef8c5ffb2a6>\u001b[0m in \u001b[0;36mprintstudentid\u001b[1;34m(self)\u001b[0m\n\u001b[0;32m      7\u001b[0m         \u001b[0mself\u001b[0m\u001b[1;33m.\u001b[0m\u001b[0mstudentid\u001b[0m \u001b[1;33m=\u001b[0m \u001b[0mstudentid\u001b[0m\u001b[1;33m\u001b[0m\u001b[1;33m\u001b[0m\u001b[0m\n\u001b[0;32m      8\u001b[0m     \u001b[1;32mdef\u001b[0m \u001b[0mprintstudentid\u001b[0m\u001b[1;33m(\u001b[0m\u001b[0mself\u001b[0m\u001b[1;33m)\u001b[0m\u001b[1;33m:\u001b[0m\u001b[1;33m\u001b[0m\u001b[1;33m\u001b[0m\u001b[0m\n\u001b[1;32m----> 9\u001b[1;33m         \u001b[0mprint\u001b[0m\u001b[1;33m(\u001b[0m\u001b[0mself\u001b[0m\u001b[1;33m,\u001b[0m\u001b[0mstudentid\u001b[0m\u001b[1;33m)\u001b[0m\u001b[1;33m\u001b[0m\u001b[1;33m\u001b[0m\u001b[0m\n\u001b[0m",
      "\u001b[1;31mNameError\u001b[0m: name 'studentid' is not defined"
     ]
    }
   ],
   "source": [
    "s.printstudentid()"
   ]
  },
  {
   "cell_type": "code",
   "execution_count": 93,
   "id": "ranging-lobby",
   "metadata": {},
   "outputs": [
    {
     "data": {
      "text/plain": [
       "True"
      ]
     },
     "execution_count": 93,
     "metadata": {},
     "output_type": "execute_result"
    }
   ],
   "source": [
    "#상속확인\n",
    "issubclass(student,person)"
   ]
  },
  {
   "cell_type": "code",
   "execution_count": 101,
   "id": "narrow-coordination",
   "metadata": {},
   "outputs": [
    {
     "data": {
      "text/plain": [
       "False"
      ]
     },
     "execution_count": 101,
     "metadata": {},
     "output_type": "execute_result"
    }
   ],
   "source": [
    "issubclass(person,student)"
   ]
  },
  {
   "cell_type": "code",
   "execution_count": 105,
   "id": "offshore-finger",
   "metadata": {},
   "outputs": [],
   "source": [
    "#다중상속\n",
    "class tiger:\n",
    "    def jump(self):\n",
    "        print('tiger jump!!')"
   ]
  },
  {
   "cell_type": "code",
   "execution_count": 108,
   "id": "heated-brain",
   "metadata": {},
   "outputs": [],
   "source": [
    "class lion:\n",
    "    def bite(self):\n",
    "        print('lion bite!!')\n",
    "class Liger(tiger, lion):\n",
    "    def play(self):\n",
    "        print('liger play!!')\n",
    "l = Liger()"
   ]
  },
  {
   "cell_type": "code",
   "execution_count": 111,
   "id": "ongoing-maldives",
   "metadata": {},
   "outputs": [
    {
     "name": "stdout",
     "output_type": "stream",
     "text": [
      "liger play!!\n"
     ]
    }
   ],
   "source": [
    "l.play()"
   ]
  },
  {
   "cell_type": "code",
   "execution_count": 113,
   "id": "agricultural-belle",
   "metadata": {},
   "outputs": [
    {
     "name": "stdout",
     "output_type": "stream",
     "text": [
      "lion bite!!\n"
     ]
    }
   ],
   "source": [
    "l.bite()"
   ]
  },
  {
   "cell_type": "code",
   "execution_count": 114,
   "id": "italic-edwards",
   "metadata": {},
   "outputs": [
    {
     "name": "stdout",
     "output_type": "stream",
     "text": [
      "tiger jump!!\n"
     ]
    }
   ],
   "source": [
    "l.jump()"
   ]
  }
 ],
 "metadata": {
  "kernelspec": {
   "display_name": "Python 3",
   "language": "python",
   "name": "python3"
  },
  "language_info": {
   "codemirror_mode": {
    "name": "ipython",
    "version": 3
   },
   "file_extension": ".py",
   "mimetype": "text/x-python",
   "name": "python",
   "nbconvert_exporter": "python",
   "pygments_lexer": "ipython3",
   "version": "3.8.8"
  }
 },
 "nbformat": 4,
 "nbformat_minor": 5
}
