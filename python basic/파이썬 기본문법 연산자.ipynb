{
 "cells": [
  {
   "cell_type": "code",
   "execution_count": 4,
   "id": "specialized-variation",
   "metadata": {},
   "outputs": [
    {
     "name": "stdout",
     "output_type": "stream",
     "text": [
      "-10\n",
      "30\n",
      "2.0\n",
      "200\n",
      "100\n",
      "1000\n",
      "10000\n",
      "10\n",
      "1\n"
     ]
    }
   ],
   "source": [
    "print(10-20)\n",
    "print(10+20)\n",
    "print(20/10)\n",
    "print(20*10)\n",
    "\n",
    "print(10**2)\n",
    "print(10**3)\n",
    "print(10**4) \n",
    "print(40//4)#몫\n",
    "print(40%3)#나머지"
   ]
  },
  {
   "cell_type": "code",
   "execution_count": 11,
   "id": "sonic-premiere",
   "metadata": {},
   "outputs": [
    {
     "name": "stdout",
     "output_type": "stream",
     "text": [
      "0\n",
      "1\n",
      "1\n",
      "0\n",
      "0\n",
      "1\n",
      "False\n",
      "True\n",
      "False\n",
      "False\n",
      "True\n",
      "False\n",
      "True\n",
      "False\n"
     ]
    }
   ],
   "source": [
    "print(0 or 0)\n",
    "print(0 or 1)\n",
    "print(1 or 1)\n",
    "print(0 and 0)\n",
    "print(0 and 1)\n",
    "print(1 and 1)\n",
    "print(False or False)\n",
    "print( 10 == 10)\n",
    "print (9==10)\n",
    "print(not True)\n",
    "\n",
    "print( 10 >= 10)\n",
    "print( 10 != 10)\n",
    "print( 10 <= 10)\n",
    "print( 10 < 10)"
   ]
  },
  {
   "cell_type": "code",
   "execution_count": 13,
   "id": "resident-suggestion",
   "metadata": {},
   "outputs": [
    {
     "name": "stdout",
     "output_type": "stream",
     "text": [
      "True\n",
      "False\n",
      "True\n"
     ]
    },
    {
     "data": {
      "text/plain": [
       "True"
      ]
     },
     "execution_count": 13,
     "metadata": {},
     "output_type": "execute_result"
    }
   ],
   "source": [
    "a_list=[1,'a','b']\n",
    "print('a' in a_list)\n",
    "print(2 in a_list)\n",
    "print('b' in a_list)\n",
    "'a' in a_list"
   ]
  },
  {
   "cell_type": "code",
   "execution_count": null,
   "id": "indoor-princeton",
   "metadata": {},
   "outputs": [],
   "source": []
  }
 ],
 "metadata": {
  "kernelspec": {
   "display_name": "Python 3",
   "language": "python",
   "name": "python3"
  },
  "language_info": {
   "codemirror_mode": {
    "name": "ipython",
    "version": 3
   },
   "file_extension": ".py",
   "mimetype": "text/x-python",
   "name": "python",
   "nbconvert_exporter": "python",
   "pygments_lexer": "ipython3",
   "version": "3.8.8"
  }
 },
 "nbformat": 4,
 "nbformat_minor": 5
}
