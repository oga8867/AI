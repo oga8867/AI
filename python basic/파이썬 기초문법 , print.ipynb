{
 "cells": [
  {
   "cell_type": "code",
   "execution_count": 5,
   "id": "periodic-undergraduate",
   "metadata": {},
   "outputs": [
    {
     "name": "stdout",
     "output_type": "stream",
     "text": [
      "hello world\n"
     ]
    }
   ],
   "source": [
    "print ('hello world')"
   ]
  },
  {
   "cell_type": "code",
   "execution_count": 6,
   "id": "refined-award",
   "metadata": {},
   "outputs": [
    {
     "name": "stdout",
     "output_type": "stream",
     "text": [
      " 이거 다 입력됨\n"
     ]
    }
   ],
   "source": [
    "print(''' 이거 다 입력됨''')"
   ]
  },
  {
   "cell_type": "code",
   "execution_count": 7,
   "id": "mechanical-relaxation",
   "metadata": {},
   "outputs": [
    {
     "name": "stdout",
     "output_type": "stream",
     "text": [
      "그래서 무엇을\n"
     ]
    }
   ],
   "source": [
    "print('그래서','무엇을')"
   ]
  },
  {
   "cell_type": "code",
   "execution_count": 8,
   "id": "hundred-angola",
   "metadata": {},
   "outputs": [
    {
     "name": "stdout",
     "output_type": "stream",
     "text": [
      "그래서무엇을\n"
     ]
    }
   ],
   "source": [
    "print('그래서'+'무엇을')"
   ]
  },
  {
   "cell_type": "code",
   "execution_count": 11,
   "id": "russian-unemployment",
   "metadata": {},
   "outputs": [
    {
     "name": "stdout",
     "output_type": "stream",
     "text": [
      "a =123 b=그래서\n",
      "a=123,b=그래서\n"
     ]
    }
   ],
   "source": [
    "a =123\n",
    "b = '그래서'\n",
    "print('a ={} b={}'.format(a,b))\n",
    "print(f'a={a},b={b}')"
   ]
  },
  {
   "cell_type": "code",
   "execution_count": null,
   "id": "marine-mounting",
   "metadata": {},
   "outputs": [],
   "source": []
  }
 ],
 "metadata": {
  "kernelspec": {
   "display_name": "Python 3",
   "language": "python",
   "name": "python3"
  },
  "language_info": {
   "codemirror_mode": {
    "name": "ipython",
    "version": 3
   },
   "file_extension": ".py",
   "mimetype": "text/x-python",
   "name": "python",
   "nbconvert_exporter": "python",
   "pygments_lexer": "ipython3",
   "version": "3.8.8"
  }
 },
 "nbformat": 4,
 "nbformat_minor": 5
}
