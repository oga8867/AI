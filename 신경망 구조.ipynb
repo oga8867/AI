{
 "cells": [
  {
   "cell_type": "code",
   "execution_count": 23,
   "id": "handy-telling",
   "metadata": {},
   "outputs": [],
   "source": [
    "import numpy as np\n",
    "import matplotlib.pyplot as plt\n",
    "\n",
    "# AND 게이트\n",
    "def AND(a, b):\n",
    "  input = np.array([a,b])\n",
    "\n",
    "  #가중치 설정\n",
    "  weights = np.array([0.4,0.4])\n",
    "  bias = -0.6\n",
    "\n",
    "  #출력값\n",
    "  value = np.sum(input * weights) + bias\n",
    "\n",
    "  #반환값\n",
    "  if value <= 0:\n",
    "    return 0\n",
    "  else:\n",
    "    return 1"
   ]
  },
  {
   "cell_type": "code",
   "execution_count": 24,
   "id": "appreciated-theorem",
   "metadata": {},
   "outputs": [
    {
     "name": "stdout",
     "output_type": "stream",
     "text": [
      "0\n",
      "0\n",
      "0\n",
      "1\n"
     ]
    }
   ],
   "source": [
    "print(AND(0,0))\n",
    "print(AND(1,0))\n",
    "print(AND(0,1))\n",
    "print(AND(1,1))"
   ]
  },
  {
   "cell_type": "code",
   "execution_count": 18,
   "id": "naked-brand",
   "metadata": {},
   "outputs": [
    {
     "data": {
      "image/png": "[encoded data removed]",
      "text/plain": [
       "<Figure size 432x288 with 1 Axes>"
      ]
     },
     "metadata": {
      "needs_background": "light"
     },
     "output_type": "display_data"
    }
   ],
   "source": [
    "x1 = np.arange(-2,2, 0.01)\n",
    "x2 = np.arange(-2,2, 0.01)\n",
    "bias = -0.6\n",
    "\n",
    "y = (-0.4 * x1 - bias) / 0.4\n",
    "\n",
    "plt.plot(x1, y, 'r--')\n",
    "plt.scatter(0,0, color='orange', marker='o',s=150)\n",
    "plt.scatter(0,1, color='orange', marker='o',s=150)\n",
    "plt.scatter(1,0, color='orange', marker='o',s=150)\n",
    "plt.scatter(1,1, color='black', marker='^',s=150)\n",
    "plt.xlim(-0.5,1.5)\n",
    "plt.ylim(-0.5,1.5)\n",
    "plt.grid()"
   ]
  },
  {
   "cell_type": "code",
   "execution_count": 25,
   "id": "collected-vietnam",
   "metadata": {},
   "outputs": [],
   "source": [
    "# OR 게이트\n",
    "def OR(a, b):\n",
    "  input = np.array([a,b])\n",
    "\n",
    "  #가중치 설정\n",
    "  weights = np.array([0.4,0.4])\n",
    "  bias = -0.3\n",
    "\n",
    "  #출력값\n",
    "  value = np.sum(input * weights) + bias\n",
    "\n",
    "  #반환값\n",
    "  if value <= 0:\n",
    "    return 0\n",
    "  else:\n",
    "    return 1"
   ]
  },
  {
   "cell_type": "code",
   "execution_count": 26,
   "id": "burning-withdrawal",
   "metadata": {},
   "outputs": [
    {
     "name": "stdout",
     "output_type": "stream",
     "text": [
      "0\n",
      "1\n",
      "1\n",
      "1\n"
     ]
    }
   ],
   "source": [
    "print(OR(0,0))\n",
    "print(OR(1,0))\n",
    "print(OR(0,1))\n",
    "print(OR(1,1))"
   ]
  },
  {
   "cell_type": "code",
   "execution_count": 27,
   "id": "aging-significance",
   "metadata": {},
   "outputs": [],
   "source": [
    "# NAND 게이트\n",
    "def NAND(a, b):\n",
    "  input = np.array([a,b])\n",
    "\n",
    "  #가중치 설정\n",
    "  weights = np.array([-0.6,-0.6])\n",
    "  bias = 0.7\n",
    "\n",
    "  #출력값\n",
    "  value = np.sum(input * weights) + bias\n",
    "\n",
    "  #반환값\n",
    "  if value <= 0:\n",
    "    return 0\n",
    "  else:\n",
    "    return 1"
   ]
  },
  {
   "cell_type": "code",
   "execution_count": 28,
   "id": "modular-exploration",
   "metadata": {},
   "outputs": [
    {
     "name": "stdout",
     "output_type": "stream",
     "text": [
      "1\n",
      "1\n",
      "1\n",
      "0\n"
     ]
    }
   ],
   "source": [
    "print(NAND(0,0))\n",
    "print(NAND(0,1))\n",
    "print(NAND(1,0))\n",
    "print(NAND(1,1))"
   ]
  },
  {
   "cell_type": "code",
   "execution_count": 39,
   "id": "tropical-satisfaction",
   "metadata": {},
   "outputs": [],
   "source": [
    "#Activation Function\n",
    "\n",
    "#Steop Function (계단 함수)\n",
    "def step_function(x):\n",
    "  if x > 0:\n",
    "    return 1\n",
    "  else:\n",
    "    return 0\n",
    "\n",
    "\n",
    "def step_function_for_numpy(x):\n",
    "  y = x > 0\n",
    "  value  = y.astype(np.int)\n",
    "\n",
    "  return value"
   ]
  },
  {
   "cell_type": "code",
   "execution_count": 40,
   "id": "comparative-fence",
   "metadata": {},
   "outputs": [
    {
     "name": "stdout",
     "output_type": "stream",
     "text": [
      "0\n",
      "1\n"
     ]
    }
   ],
   "source": [
    "print(step_function(-3))\n",
    "print(step_function(5))"
   ]
  },
  {
   "cell_type": "code",
   "execution_count": 41,
   "id": "amended-round",
   "metadata": {},
   "outputs": [
    {
     "name": "stdout",
     "output_type": "stream",
     "text": [
      "0.9525741268224334\n",
      "0.04742587317756678\n"
     ]
    }
   ],
   "source": [
    "# 시그모이드 함수 \n",
    "\n",
    "def sigmoid(x):\n",
    "  value = 1 / (1 + np.exp(-x))\n",
    "  return value\n",
    "\n",
    "print(sigmoid(3))\n",
    "print(sigmoid(-3))"
   ]
  },
  {
   "cell_type": "code",
   "execution_count": 42,
   "id": "disabled-white",
   "metadata": {},
   "outputs": [
    {
     "data": {
      "text/plain": [
       "[<matplotlib.lines.Line2D at 0x210c8f74550>]"
      ]
     },
     "execution_count": 42,
     "metadata": {},
     "output_type": "execute_result"
    },
    {
     "data": {
      "image/png": "[encoded data removed]",
      "text/plain": [
       "<Figure size 432x288 with 1 Axes>"
      ]
     },
     "metadata": {
      "needs_background": "light"
     },
     "output_type": "display_data"
    }
   ],
   "source": [
    "plt.grid()\n",
    "x = np.arange(-5,5,0.01)\n",
    "y1 = sigmoid(x)\n",
    "y2 = step_function_for_numpy(x)\n",
    "\n",
    "plt.plot(x, y1,'r-')\n",
    "plt.plot(x, y2, 'b--')"
   ]
  },
  {
   "cell_type": "code",
   "execution_count": 43,
   "id": "married-tonight",
   "metadata": {},
   "outputs": [],
   "source": [
    "from re import X\n",
    "# ReLu(x)\n",
    "\n",
    "def ReLu(x):\n",
    "  if x > 0:\n",
    "    return X\n",
    "  else:\n",
    "    return 0"
   ]
  },
  {
   "cell_type": "code",
   "execution_count": 44,
   "id": "moving-highland",
   "metadata": {},
   "outputs": [],
   "source": [
    "# Identity Function (항등 함수)\n",
    "def identify_function(x):\n",
    "  return x"
   ]
  },
  {
   "cell_type": "code",
   "execution_count": 45,
   "id": "sporting-producer",
   "metadata": {},
   "outputs": [],
   "source": [
    "# Softmax(a) 근데 안에있는 a의 값이 커지면 값이 너무 커짐\n",
    "def Softmax(a):\n",
    "  exp_a = np.exp(a)\n",
    "  sum_exp_a = np.sum(exp_a)\n",
    "  y = exp_a / sum_exp_a\n",
    "\n",
    "  return y"
   ]
  },
  {
   "cell_type": "code",
   "execution_count": 47,
   "id": "arabic-recognition",
   "metadata": {},
   "outputs": [
    {
     "name": "stdout",
     "output_type": "stream",
     "text": [
      "[0.0587969  0.05320164 0.8748821  0.01311936]\n"
     ]
    }
   ],
   "source": [
    "a = np.array([0.3,0.2,3.0,-1.2])\n",
    "print(Softmax(a))"
   ]
  },
  {
   "cell_type": "code",
   "execution_count": null,
   "id": "revised-harmony",
   "metadata": {},
   "outputs": [],
   "source": []
  }
 ],
 "metadata": {
  "kernelspec": {
   "display_name": "Python 3",
   "language": "python",
   "name": "python3"
  },
  "language_info": {
   "codemirror_mode": {
    "name": "ipython",
    "version": 3
   },
   "file_extension": ".py",
   "mimetype": "text/x-python",
   "name": "python",
   "nbconvert_exporter": "python",
   "pygments_lexer": "ipython3",
   "version": "3.8.8"
  }
 },
 "nbformat": 4,
 "nbformat_minor": 5
}
