{
 "cells": [
  {
   "cell_type": "code",
   "execution_count": 63,
   "id": "unauthorized-snapshot",
   "metadata": {},
   "outputs": [],
   "source": [
    "from pandas import Series"
   ]
  },
  {
   "cell_type": "code",
   "execution_count": 64,
   "id": "auburn-portugal",
   "metadata": {},
   "outputs": [],
   "source": [
    "fruit = Series([2500,3800,1200,600], index=['apple','banana','peer','cherry'])"
   ]
  },
  {
   "cell_type": "code",
   "execution_count": 65,
   "id": "naval-administration",
   "metadata": {},
   "outputs": [
    {
     "name": "stdout",
     "output_type": "stream",
     "text": [
      "apple     2500\n",
      "banana    3800\n",
      "peer      1200\n",
      "cherry     600\n",
      "dtype: int64\n"
     ]
    }
   ],
   "source": [
    "print(fruit)"
   ]
  },
  {
   "cell_type": "code",
   "execution_count": 66,
   "id": "nuclear-expression",
   "metadata": {},
   "outputs": [
    {
     "name": "stdout",
     "output_type": "stream",
     "text": [
      "[2500 3800 1200  600]\n",
      "Index(['apple', 'banana', 'peer', 'cherry'], dtype='object')\n"
     ]
    }
   ],
   "source": [
    "#값과 인덱스를 추출\n",
    "print(fruit.values)\n",
    "print(fruit.index)"
   ]
  },
  {
   "cell_type": "code",
   "execution_count": 67,
   "id": "devoted-person",
   "metadata": {},
   "outputs": [],
   "source": [
    "#Dict 표현\n",
    "fruitdata = {'apple':2500,'banana':3800,\"peer\":1200,'cherry':600}\n",
    "fruit = Series(fruitdata)"
   ]
  },
  {
   "cell_type": "code",
   "execution_count": 68,
   "id": "funky-familiar",
   "metadata": {},
   "outputs": [
    {
     "name": "stdout",
     "output_type": "stream",
     "text": [
      "<class 'dict'>\n",
      "<class 'pandas.core.series.Series'>\n"
     ]
    }
   ],
   "source": [
    "print(type(fruitdata))\n",
    "print(type(fruit))"
   ]
  },
  {
   "cell_type": "code",
   "execution_count": 69,
   "id": "optical-season",
   "metadata": {},
   "outputs": [
    {
     "data": {
      "text/plain": [
       "apple     2500\n",
       "banana    3800\n",
       "peer      1200\n",
       "cherry     600\n",
       "dtype: int64"
      ]
     },
     "execution_count": 69,
     "metadata": {},
     "output_type": "execute_result"
    }
   ],
   "source": [
    "fruit"
   ]
  },
  {
   "cell_type": "code",
   "execution_count": 70,
   "id": "local-criminal",
   "metadata": {},
   "outputs": [],
   "source": [
    "# Series 객체의 이름과 컬럼명을 설정 해 봅니다.\n",
    "fruit.name = 'fruitprice'\n",
    "fruit.index.name = 'fruitname'"
   ]
  },
  {
   "cell_type": "code",
   "execution_count": 71,
   "id": "advised-actor",
   "metadata": {},
   "outputs": [
    {
     "data": {
      "text/plain": [
       "fruitname\n",
       "apple     2500\n",
       "banana    3800\n",
       "peer      1200\n",
       "cherry     600\n",
       "Name: fruitprice, dtype: int64"
      ]
     },
     "execution_count": 71,
     "metadata": {},
     "output_type": "execute_result"
    }
   ],
   "source": [
    "fruit"
   ]
  },
  {
   "cell_type": "code",
   "execution_count": 72,
   "id": "cleared-heritage",
   "metadata": {},
   "outputs": [
    {
     "data": {
      "text/html": [
       "<div>\n",
       "<style scoped>\n",
       "    .dataframe tbody tr th:only-of-type {\n",
       "        vertical-align: middle;\n",
       "    }\n",
       "\n",
       "    .dataframe tbody tr th {\n",
       "        vertical-align: top;\n",
       "    }\n",
       "\n",
       "    .dataframe thead th {\n",
       "        text-align: right;\n",
       "    }\n",
       "</style>\n",
       "<table border=\"1\" class=\"dataframe\">\n",
       "  <thead>\n",
       "    <tr style=\"text-align: right;\">\n",
       "      <th></th>\n",
       "      <th>fruitname</th>\n",
       "      <th>fruitprice</th>\n",
       "      <th>num</th>\n",
       "    </tr>\n",
       "  </thead>\n",
       "  <tbody>\n",
       "    <tr>\n",
       "      <th>0</th>\n",
       "      <td>apple</td>\n",
       "      <td>2500</td>\n",
       "      <td>10</td>\n",
       "    </tr>\n",
       "    <tr>\n",
       "      <th>1</th>\n",
       "      <td>banana</td>\n",
       "      <td>3800</td>\n",
       "      <td>5</td>\n",
       "    </tr>\n",
       "    <tr>\n",
       "      <th>2</th>\n",
       "      <td>peer</td>\n",
       "      <td>1200</td>\n",
       "      <td>3</td>\n",
       "    </tr>\n",
       "    <tr>\n",
       "      <th>3</th>\n",
       "      <td>cherry</td>\n",
       "      <td>600</td>\n",
       "      <td>8</td>\n",
       "    </tr>\n",
       "  </tbody>\n",
       "</table>\n",
       "</div>"
      ],
      "text/plain": [
       "  fruitname  fruitprice  num\n",
       "0     apple        2500   10\n",
       "1    banana        3800    5\n",
       "2      peer        1200    3\n",
       "3    cherry         600    8"
      ]
     },
     "execution_count": 72,
     "metadata": {},
     "output_type": "execute_result"
    }
   ],
   "source": [
    "#dataframe\n",
    "fruitdata = {'fruitname':['apple','banana','peer','cherry'],'fruitprice':[2500,3800,1200,600],'num' : [10,5,3,8]}\n",
    "#딕셔너리\n",
    "from pandas import DataFrame\n",
    "\n",
    "fruitFrame = DataFrame(fruitdata)\n",
    "fruitFrame"
   ]
  },
  {
   "cell_type": "code",
   "execution_count": 73,
   "id": "automotive-tuner",
   "metadata": {},
   "outputs": [
    {
     "data": {
      "text/plain": [
       "0     apple\n",
       "1    banana\n",
       "2      peer\n",
       "3    cherry\n",
       "Name: fruitname, dtype: object"
      ]
     },
     "execution_count": 73,
     "metadata": {},
     "output_type": "execute_result"
    }
   ],
   "source": [
    "#특정 항목 추출하기\n",
    "fruitFrame['fruitname']"
   ]
  },
  {
   "cell_type": "code",
   "execution_count": 74,
   "id": "marine-mounting",
   "metadata": {},
   "outputs": [
    {
     "data": {
      "text/plain": [
       "0     apple\n",
       "1    banana\n",
       "2      peer\n",
       "3    cherry\n",
       "Name: fruitname, dtype: object"
      ]
     },
     "execution_count": 74,
     "metadata": {},
     "output_type": "execute_result"
    }
   ],
   "source": [
    "fruitFrame.fruitname\n",
    "\n",
    "# 객체.속성.동작()\n",
    "# 말.나이=20    말.달린다()"
   ]
  },
  {
   "cell_type": "code",
   "execution_count": 75,
   "id": "functional-romance",
   "metadata": {},
   "outputs": [
    {
     "data": {
      "text/html": [
       "<div>\n",
       "<style scoped>\n",
       "    .dataframe tbody tr th:only-of-type {\n",
       "        vertical-align: middle;\n",
       "    }\n",
       "\n",
       "    .dataframe tbody tr th {\n",
       "        vertical-align: top;\n",
       "    }\n",
       "\n",
       "    .dataframe thead th {\n",
       "        text-align: right;\n",
       "    }\n",
       "</style>\n",
       "<table border=\"1\" class=\"dataframe\">\n",
       "  <thead>\n",
       "    <tr style=\"text-align: right;\">\n",
       "      <th></th>\n",
       "      <th>fruitname</th>\n",
       "      <th>fruitprice</th>\n",
       "      <th>num</th>\n",
       "      <th>year</th>\n",
       "    </tr>\n",
       "  </thead>\n",
       "  <tbody>\n",
       "    <tr>\n",
       "      <th>0</th>\n",
       "      <td>apple</td>\n",
       "      <td>2500</td>\n",
       "      <td>10</td>\n",
       "      <td>2022</td>\n",
       "    </tr>\n",
       "    <tr>\n",
       "      <th>1</th>\n",
       "      <td>banana</td>\n",
       "      <td>3800</td>\n",
       "      <td>5</td>\n",
       "      <td>2022</td>\n",
       "    </tr>\n",
       "    <tr>\n",
       "      <th>2</th>\n",
       "      <td>peer</td>\n",
       "      <td>1200</td>\n",
       "      <td>3</td>\n",
       "      <td>2022</td>\n",
       "    </tr>\n",
       "    <tr>\n",
       "      <th>3</th>\n",
       "      <td>cherry</td>\n",
       "      <td>600</td>\n",
       "      <td>8</td>\n",
       "      <td>2022</td>\n",
       "    </tr>\n",
       "  </tbody>\n",
       "</table>\n",
       "</div>"
      ],
      "text/plain": [
       "  fruitname  fruitprice  num  year\n",
       "0     apple        2500   10  2022\n",
       "1    banana        3800    5  2022\n",
       "2      peer        1200    3  2022\n",
       "3    cherry         600    8  2022"
      ]
     },
     "execution_count": 75,
     "metadata": {},
     "output_type": "execute_result"
    }
   ],
   "source": [
    "#컬럼 추가하기\n",
    "fruitFrame['year'] = '2022'\n",
    "fruitFrame"
   ]
  },
  {
   "cell_type": "code",
   "execution_count": 76,
   "id": "plastic-annex",
   "metadata": {},
   "outputs": [
    {
     "data": {
      "text/html": [
       "<div>\n",
       "<style scoped>\n",
       "    .dataframe tbody tr th:only-of-type {\n",
       "        vertical-align: middle;\n",
       "    }\n",
       "\n",
       "    .dataframe tbody tr th {\n",
       "        vertical-align: top;\n",
       "    }\n",
       "\n",
       "    .dataframe thead th {\n",
       "        text-align: right;\n",
       "    }\n",
       "</style>\n",
       "<table border=\"1\" class=\"dataframe\">\n",
       "  <thead>\n",
       "    <tr style=\"text-align: right;\">\n",
       "      <th></th>\n",
       "      <th>fruitname</th>\n",
       "      <th>fruitprice</th>\n",
       "      <th>num</th>\n",
       "      <th>year</th>\n",
       "      <th>stock</th>\n",
       "    </tr>\n",
       "  </thead>\n",
       "  <tbody>\n",
       "    <tr>\n",
       "      <th>0</th>\n",
       "      <td>apple</td>\n",
       "      <td>2500</td>\n",
       "      <td>10</td>\n",
       "      <td>2022</td>\n",
       "      <td>4.0</td>\n",
       "    </tr>\n",
       "    <tr>\n",
       "      <th>1</th>\n",
       "      <td>banana</td>\n",
       "      <td>3800</td>\n",
       "      <td>5</td>\n",
       "      <td>2022</td>\n",
       "      <td>NaN</td>\n",
       "    </tr>\n",
       "    <tr>\n",
       "      <th>2</th>\n",
       "      <td>peer</td>\n",
       "      <td>1200</td>\n",
       "      <td>3</td>\n",
       "      <td>2022</td>\n",
       "      <td>2.0</td>\n",
       "    </tr>\n",
       "    <tr>\n",
       "      <th>3</th>\n",
       "      <td>cherry</td>\n",
       "      <td>600</td>\n",
       "      <td>8</td>\n",
       "      <td>2022</td>\n",
       "      <td>1.0</td>\n",
       "    </tr>\n",
       "  </tbody>\n",
       "</table>\n",
       "</div>"
      ],
      "text/plain": [
       "  fruitname  fruitprice  num  year  stock\n",
       "0     apple        2500   10  2022    4.0\n",
       "1    banana        3800    5  2022    NaN\n",
       "2      peer        1200    3  2022    2.0\n",
       "3    cherry         600    8  2022    1.0"
      ]
     },
     "execution_count": 76,
     "metadata": {},
     "output_type": "execute_result"
    }
   ],
   "source": [
    "#Series 객체의 추가\n",
    "variable = Series([4,2,1], index = [0,2,3])\n",
    "fruitFrame['stock'] = variable\n",
    "fruitFrame"
   ]
  },
  {
   "cell_type": "code",
   "execution_count": 77,
   "id": "interstate-richardson",
   "metadata": {},
   "outputs": [
    {
     "data": {
      "text/plain": [
       "fruitname\n",
       "apple     2500\n",
       "banana    3800\n",
       "peer      1200\n",
       "cherry     600\n",
       "Name: fruitprice, dtype: int64"
      ]
     },
     "execution_count": 77,
     "metadata": {},
     "output_type": "execute_result"
    }
   ],
   "source": [
    "#자료구조를 다뤄보기\n",
    "#데이터 구조의 항목을 삭제\n",
    "\n",
    "fruit.drop('banana')\n",
    "\n",
    "fruit"
   ]
  },
  {
   "cell_type": "code",
   "execution_count": 78,
   "id": "affiliated-florida",
   "metadata": {},
   "outputs": [
    {
     "data": {
      "text/plain": [
       "fruitname\n",
       "apple     2500\n",
       "peer      1200\n",
       "cherry     600\n",
       "Name: fruitprice, dtype: int64"
      ]
     },
     "execution_count": 78,
     "metadata": {},
     "output_type": "execute_result"
    }
   ],
   "source": [
    "newFruit = fruit.drop('banana')\n",
    "newFruit"
   ]
  },
  {
   "cell_type": "code",
   "execution_count": 79,
   "id": "flying-turner",
   "metadata": {},
   "outputs": [
    {
     "data": {
      "text/plain": [
       "{'fruitname': ['apple', 'banana', 'peer', 'cherry'],\n",
       " 'fruitprice': [2500, 3800, 1200, 600],\n",
       " 'num': [10, 5, 3, 8]}"
      ]
     },
     "execution_count": 79,
     "metadata": {},
     "output_type": "execute_result"
    }
   ],
   "source": [
    "fruitdata"
   ]
  },
  {
   "cell_type": "code",
   "execution_count": 80,
   "id": "viral-instruction",
   "metadata": {},
   "outputs": [
    {
     "data": {
      "text/plain": [
       "['apple', 'banana', 'peer', 'cherry']"
      ]
     },
     "execution_count": 80,
     "metadata": {},
     "output_type": "execute_result"
    }
   ],
   "source": [
    "fruitName = fruitdata['fruitname']\n",
    "fruitName"
   ]
  },
  {
   "cell_type": "code",
   "execution_count": 81,
   "id": "overhead-claim",
   "metadata": {},
   "outputs": [
    {
     "data": {
      "text/html": [
       "<div>\n",
       "<style scoped>\n",
       "    .dataframe tbody tr th:only-of-type {\n",
       "        vertical-align: middle;\n",
       "    }\n",
       "\n",
       "    .dataframe tbody tr th {\n",
       "        vertical-align: top;\n",
       "    }\n",
       "\n",
       "    .dataframe thead th {\n",
       "        text-align: right;\n",
       "    }\n",
       "</style>\n",
       "<table border=\"1\" class=\"dataframe\">\n",
       "  <thead>\n",
       "    <tr style=\"text-align: right;\">\n",
       "      <th></th>\n",
       "      <th>fruitname</th>\n",
       "      <th>fruitprice</th>\n",
       "      <th>num</th>\n",
       "      <th>year</th>\n",
       "      <th>stock</th>\n",
       "    </tr>\n",
       "  </thead>\n",
       "  <tbody>\n",
       "    <tr>\n",
       "      <th>0</th>\n",
       "      <td>apple</td>\n",
       "      <td>2500</td>\n",
       "      <td>10</td>\n",
       "      <td>2022</td>\n",
       "      <td>4.0</td>\n",
       "    </tr>\n",
       "    <tr>\n",
       "      <th>1</th>\n",
       "      <td>banana</td>\n",
       "      <td>3800</td>\n",
       "      <td>5</td>\n",
       "      <td>2022</td>\n",
       "      <td>NaN</td>\n",
       "    </tr>\n",
       "    <tr>\n",
       "      <th>2</th>\n",
       "      <td>peer</td>\n",
       "      <td>1200</td>\n",
       "      <td>3</td>\n",
       "      <td>2022</td>\n",
       "      <td>2.0</td>\n",
       "    </tr>\n",
       "    <tr>\n",
       "      <th>3</th>\n",
       "      <td>cherry</td>\n",
       "      <td>600</td>\n",
       "      <td>8</td>\n",
       "      <td>2022</td>\n",
       "      <td>1.0</td>\n",
       "    </tr>\n",
       "  </tbody>\n",
       "</table>\n",
       "</div>"
      ],
      "text/plain": [
       "  fruitname  fruitprice  num  year  stock\n",
       "0     apple        2500   10  2022    4.0\n",
       "1    banana        3800    5  2022    NaN\n",
       "2      peer        1200    3  2022    2.0\n",
       "3    cherry         600    8  2022    1.0"
      ]
     },
     "execution_count": 81,
     "metadata": {},
     "output_type": "execute_result"
    }
   ],
   "source": [
    "fruitname = DataFrame(fruitdata, index=fruitName, columns =['fruitPrice','num'])\n",
    "fruitFrame"
   ]
  },
  {
   "cell_type": "code",
   "execution_count": 82,
   "id": "regular-wonder",
   "metadata": {},
   "outputs": [
    {
     "data": {
      "text/html": [
       "<div>\n",
       "<style scoped>\n",
       "    .dataframe tbody tr th:only-of-type {\n",
       "        vertical-align: middle;\n",
       "    }\n",
       "\n",
       "    .dataframe tbody tr th {\n",
       "        vertical-align: top;\n",
       "    }\n",
       "\n",
       "    .dataframe thead th {\n",
       "        text-align: right;\n",
       "    }\n",
       "</style>\n",
       "<table border=\"1\" class=\"dataframe\">\n",
       "  <thead>\n",
       "    <tr style=\"text-align: right;\">\n",
       "      <th></th>\n",
       "      <th>fruitname</th>\n",
       "      <th>fruitprice</th>\n",
       "      <th>year</th>\n",
       "      <th>stock</th>\n",
       "    </tr>\n",
       "  </thead>\n",
       "  <tbody>\n",
       "    <tr>\n",
       "      <th>0</th>\n",
       "      <td>apple</td>\n",
       "      <td>2500</td>\n",
       "      <td>2022</td>\n",
       "      <td>4.0</td>\n",
       "    </tr>\n",
       "    <tr>\n",
       "      <th>1</th>\n",
       "      <td>banana</td>\n",
       "      <td>3800</td>\n",
       "      <td>2022</td>\n",
       "      <td>NaN</td>\n",
       "    </tr>\n",
       "    <tr>\n",
       "      <th>2</th>\n",
       "      <td>peer</td>\n",
       "      <td>1200</td>\n",
       "      <td>2022</td>\n",
       "      <td>2.0</td>\n",
       "    </tr>\n",
       "    <tr>\n",
       "      <th>3</th>\n",
       "      <td>cherry</td>\n",
       "      <td>600</td>\n",
       "      <td>2022</td>\n",
       "      <td>1.0</td>\n",
       "    </tr>\n",
       "  </tbody>\n",
       "</table>\n",
       "</div>"
      ],
      "text/plain": [
       "  fruitname  fruitprice  year  stock\n",
       "0     apple        2500  2022    4.0\n",
       "1    banana        3800  2022    NaN\n",
       "2      peer        1200  2022    2.0\n",
       "3    cherry         600  2022    1.0"
      ]
     },
     "execution_count": 82,
     "metadata": {},
     "output_type": "execute_result"
    }
   ],
   "source": [
    "fruitFrame.drop(['num'],axis=1)"
   ]
  },
  {
   "cell_type": "code",
   "execution_count": 83,
   "id": "composed-frontier",
   "metadata": {},
   "outputs": [
    {
     "data": {
      "text/plain": [
       "fruitname\n",
       "apple     2500\n",
       "banana    3800\n",
       "peer      1200\n",
       "cherry     600\n",
       "Name: fruitprice, dtype: int64"
      ]
     },
     "execution_count": 83,
     "metadata": {},
     "output_type": "execute_result"
    }
   ],
   "source": [
    "#pandas slice\n",
    "fruit"
   ]
  },
  {
   "cell_type": "code",
   "execution_count": 84,
   "id": "pending-ceremony",
   "metadata": {},
   "outputs": [
    {
     "data": {
      "text/plain": [
       "fruitname\n",
       "apple     2500\n",
       "banana    3800\n",
       "peer      1200\n",
       "Name: fruitprice, dtype: int64"
      ]
     },
     "execution_count": 84,
     "metadata": {},
     "output_type": "execute_result"
    }
   ],
   "source": [
    "fruit[:'peer']"
   ]
  },
  {
   "cell_type": "code",
   "execution_count": 85,
   "id": "returning-stevens",
   "metadata": {},
   "outputs": [],
   "source": [
    "fruit1 = Series([5,9,10,3],index=['apple','banana','peer','cherry'])\n",
    "fruit2 = Series([3,2,9,5,10],index=['apple','orange','banana','cherry','mango'])"
   ]
  },
  {
   "cell_type": "code",
   "execution_count": 86,
   "id": "korean-reconstruction",
   "metadata": {},
   "outputs": [
    {
     "data": {
      "text/plain": [
       "apple      8.0\n",
       "banana    18.0\n",
       "cherry     8.0\n",
       "mango      NaN\n",
       "orange     NaN\n",
       "peer       NaN\n",
       "dtype: float64"
      ]
     },
     "execution_count": 86,
     "metadata": {},
     "output_type": "execute_result"
    }
   ],
   "source": [
    "newFruit = fruit1 + fruit2\n",
    "newFruit"
   ]
  },
  {
   "cell_type": "code",
   "execution_count": 87,
   "id": "unavailable-desktop",
   "metadata": {},
   "outputs": [],
   "source": [
    "# DataFrame 객체의 기본 연산\n",
    "fruitData1 = {'Ohio':[4,8,3,5],'Texas':[0,1,2,3]}\n",
    "fruitData2 = {'Ohio':[3,0,2,1,7],'Colorado':[5,4,3,6,0]}\n",
    "fruitFrame1 = DataFrame(fruitData1, columns=['Ohio','Texas'], \n",
    "              index=['apple','banana','cherry','peer'])\n",
    "fruitFrame2 = DataFrame(fruitData2, columns=['Ohio','Colorado'],\n",
    "              index=['apple','orange','banana','cherry','mango'])"
   ]
  },
  {
   "cell_type": "code",
   "execution_count": 88,
   "id": "terminal-cover",
   "metadata": {},
   "outputs": [
    {
     "data": {
      "text/html": [
       "<div>\n",
       "<style scoped>\n",
       "    .dataframe tbody tr th:only-of-type {\n",
       "        vertical-align: middle;\n",
       "    }\n",
       "\n",
       "    .dataframe tbody tr th {\n",
       "        vertical-align: top;\n",
       "    }\n",
       "\n",
       "    .dataframe thead th {\n",
       "        text-align: right;\n",
       "    }\n",
       "</style>\n",
       "<table border=\"1\" class=\"dataframe\">\n",
       "  <thead>\n",
       "    <tr style=\"text-align: right;\">\n",
       "      <th></th>\n",
       "      <th>Ohio</th>\n",
       "      <th>Texas</th>\n",
       "    </tr>\n",
       "  </thead>\n",
       "  <tbody>\n",
       "    <tr>\n",
       "      <th>apple</th>\n",
       "      <td>4</td>\n",
       "      <td>0</td>\n",
       "    </tr>\n",
       "    <tr>\n",
       "      <th>banana</th>\n",
       "      <td>8</td>\n",
       "      <td>1</td>\n",
       "    </tr>\n",
       "    <tr>\n",
       "      <th>cherry</th>\n",
       "      <td>3</td>\n",
       "      <td>2</td>\n",
       "    </tr>\n",
       "    <tr>\n",
       "      <th>peer</th>\n",
       "      <td>5</td>\n",
       "      <td>3</td>\n",
       "    </tr>\n",
       "  </tbody>\n",
       "</table>\n",
       "</div>"
      ],
      "text/plain": [
       "        Ohio  Texas\n",
       "apple      4      0\n",
       "banana     8      1\n",
       "cherry     3      2\n",
       "peer       5      3"
      ]
     },
     "execution_count": 88,
     "metadata": {},
     "output_type": "execute_result"
    }
   ],
   "source": [
    "fruitFrame1"
   ]
  },
  {
   "cell_type": "code",
   "execution_count": 89,
   "id": "private-webcam",
   "metadata": {},
   "outputs": [
    {
     "data": {
      "text/html": [
       "<div>\n",
       "<style scoped>\n",
       "    .dataframe tbody tr th:only-of-type {\n",
       "        vertical-align: middle;\n",
       "    }\n",
       "\n",
       "    .dataframe tbody tr th {\n",
       "        vertical-align: top;\n",
       "    }\n",
       "\n",
       "    .dataframe thead th {\n",
       "        text-align: right;\n",
       "    }\n",
       "</style>\n",
       "<table border=\"1\" class=\"dataframe\">\n",
       "  <thead>\n",
       "    <tr style=\"text-align: right;\">\n",
       "      <th></th>\n",
       "      <th>Ohio</th>\n",
       "      <th>Colorado</th>\n",
       "    </tr>\n",
       "  </thead>\n",
       "  <tbody>\n",
       "    <tr>\n",
       "      <th>apple</th>\n",
       "      <td>3</td>\n",
       "      <td>5</td>\n",
       "    </tr>\n",
       "    <tr>\n",
       "      <th>orange</th>\n",
       "      <td>0</td>\n",
       "      <td>4</td>\n",
       "    </tr>\n",
       "    <tr>\n",
       "      <th>banana</th>\n",
       "      <td>2</td>\n",
       "      <td>3</td>\n",
       "    </tr>\n",
       "    <tr>\n",
       "      <th>cherry</th>\n",
       "      <td>1</td>\n",
       "      <td>6</td>\n",
       "    </tr>\n",
       "    <tr>\n",
       "      <th>mango</th>\n",
       "      <td>7</td>\n",
       "      <td>0</td>\n",
       "    </tr>\n",
       "  </tbody>\n",
       "</table>\n",
       "</div>"
      ],
      "text/plain": [
       "        Ohio  Colorado\n",
       "apple      3         5\n",
       "orange     0         4\n",
       "banana     2         3\n",
       "cherry     1         6\n",
       "mango      7         0"
      ]
     },
     "execution_count": 89,
     "metadata": {},
     "output_type": "execute_result"
    }
   ],
   "source": [
    "fruitFrame2"
   ]
  },
  {
   "cell_type": "code",
   "execution_count": 90,
   "id": "corrected-shannon",
   "metadata": {},
   "outputs": [
    {
     "data": {
      "text/html": [
       "<div>\n",
       "<style scoped>\n",
       "    .dataframe tbody tr th:only-of-type {\n",
       "        vertical-align: middle;\n",
       "    }\n",
       "\n",
       "    .dataframe tbody tr th {\n",
       "        vertical-align: top;\n",
       "    }\n",
       "\n",
       "    .dataframe thead th {\n",
       "        text-align: right;\n",
       "    }\n",
       "</style>\n",
       "<table border=\"1\" class=\"dataframe\">\n",
       "  <thead>\n",
       "    <tr style=\"text-align: right;\">\n",
       "      <th></th>\n",
       "      <th>Colorado</th>\n",
       "      <th>Ohio</th>\n",
       "      <th>Texas</th>\n",
       "    </tr>\n",
       "  </thead>\n",
       "  <tbody>\n",
       "    <tr>\n",
       "      <th>apple</th>\n",
       "      <td>NaN</td>\n",
       "      <td>7.0</td>\n",
       "      <td>NaN</td>\n",
       "    </tr>\n",
       "    <tr>\n",
       "      <th>banana</th>\n",
       "      <td>NaN</td>\n",
       "      <td>10.0</td>\n",
       "      <td>NaN</td>\n",
       "    </tr>\n",
       "    <tr>\n",
       "      <th>cherry</th>\n",
       "      <td>NaN</td>\n",
       "      <td>4.0</td>\n",
       "      <td>NaN</td>\n",
       "    </tr>\n",
       "    <tr>\n",
       "      <th>mango</th>\n",
       "      <td>NaN</td>\n",
       "      <td>NaN</td>\n",
       "      <td>NaN</td>\n",
       "    </tr>\n",
       "    <tr>\n",
       "      <th>orange</th>\n",
       "      <td>NaN</td>\n",
       "      <td>NaN</td>\n",
       "      <td>NaN</td>\n",
       "    </tr>\n",
       "    <tr>\n",
       "      <th>peer</th>\n",
       "      <td>NaN</td>\n",
       "      <td>NaN</td>\n",
       "      <td>NaN</td>\n",
       "    </tr>\n",
       "  </tbody>\n",
       "</table>\n",
       "</div>"
      ],
      "text/plain": [
       "        Colorado  Ohio  Texas\n",
       "apple        NaN   7.0    NaN\n",
       "banana       NaN  10.0    NaN\n",
       "cherry       NaN   4.0    NaN\n",
       "mango        NaN   NaN    NaN\n",
       "orange       NaN   NaN    NaN\n",
       "peer         NaN   NaN    NaN"
      ]
     },
     "execution_count": 90,
     "metadata": {},
     "output_type": "execute_result"
    }
   ],
   "source": [
    "fruitFrame1+fruitFrame2\n",
    "\n"
   ]
  },
  {
   "cell_type": "code",
   "execution_count": 91,
   "id": "pacific-unemployment",
   "metadata": {},
   "outputs": [
    {
     "data": {
      "text/plain": [
       "fruitname\n",
       "apple     2500\n",
       "banana    3800\n",
       "peer      1200\n",
       "cherry     600\n",
       "Name: fruitprice, dtype: int64"
      ]
     },
     "execution_count": 91,
     "metadata": {},
     "output_type": "execute_result"
    }
   ],
   "source": [
    "# 데이터의 정렬\n",
    "\n",
    "# Series의 정렬\n",
    "fruit"
   ]
  },
  {
   "cell_type": "code",
   "execution_count": 92,
   "id": "enhanced-toyota",
   "metadata": {},
   "outputs": [
    {
     "data": {
      "text/plain": [
       "fruitname\n",
       "cherry     600\n",
       "peer      1200\n",
       "apple     2500\n",
       "banana    3800\n",
       "Name: fruitprice, dtype: int64"
      ]
     },
     "execution_count": 92,
     "metadata": {},
     "output_type": "execute_result"
    }
   ],
   "source": [
    "fruit.sort_values() #fruit.sort_values(ascending=True)\n"
   ]
  },
  {
   "cell_type": "code",
   "execution_count": 93,
   "id": "global-salad",
   "metadata": {},
   "outputs": [
    {
     "data": {
      "text/plain": [
       "fruitname\n",
       "banana    3800\n",
       "apple     2500\n",
       "peer      1200\n",
       "cherry     600\n",
       "Name: fruitprice, dtype: int64"
      ]
     },
     "execution_count": 93,
     "metadata": {},
     "output_type": "execute_result"
    }
   ],
   "source": [
    "fruit.sort_values(ascending=False)"
   ]
  },
  {
   "cell_type": "code",
   "execution_count": 94,
   "id": "prescription-computer",
   "metadata": {},
   "outputs": [
    {
     "ename": "NameError",
     "evalue": "name 'fruitData' is not defined",
     "output_type": "error",
     "traceback": [
      "\u001b[1;31m---------------------------------------------------------------------------\u001b[0m",
      "\u001b[1;31mNameError\u001b[0m                                 Traceback (most recent call last)",
      "\u001b[1;32m<ipython-input-94-2b6fcdff3ff8>\u001b[0m in \u001b[0;36m<module>\u001b[1;34m\u001b[0m\n\u001b[1;32m----> 1\u001b[1;33m \u001b[0mfruitName\u001b[0m \u001b[1;33m=\u001b[0m \u001b[0mfruitData\u001b[0m\u001b[1;33m[\u001b[0m\u001b[1;34m'fruitName'\u001b[0m\u001b[1;33m]\u001b[0m\u001b[1;33m\u001b[0m\u001b[1;33m\u001b[0m\u001b[0m\n\u001b[0m",
      "\u001b[1;31mNameError\u001b[0m: name 'fruitData' is not defined"
     ]
    }
   ],
   "source": [
    "fruitName = fruitData['fruitName']"
   ]
  },
  {
   "cell_type": "code",
   "execution_count": 95,
   "id": "refined-prison",
   "metadata": {},
   "outputs": [
    {
     "ename": "NameError",
     "evalue": "name 'fruitData' is not defined",
     "output_type": "error",
     "traceback": [
      "\u001b[1;31m---------------------------------------------------------------------------\u001b[0m",
      "\u001b[1;31mNameError\u001b[0m                                 Traceback (most recent call last)",
      "\u001b[1;32m<ipython-input-95-c5de0a45b9ff>\u001b[0m in \u001b[0;36m<module>\u001b[1;34m\u001b[0m\n\u001b[1;32m----> 1\u001b[1;33m \u001b[0mfruitFrame\u001b[0m \u001b[1;33m=\u001b[0m \u001b[0mDataFrame\u001b[0m\u001b[1;33m(\u001b[0m\u001b[0mfruitData\u001b[0m\u001b[1;33m,\u001b[0m \u001b[0mindex\u001b[0m\u001b[1;33m=\u001b[0m\u001b[0mfruitName\u001b[0m\u001b[1;33m,\u001b[0m \u001b[0mcolumns\u001b[0m\u001b[1;33m=\u001b[0m\u001b[1;33m[\u001b[0m\u001b[1;34m'num'\u001b[0m\u001b[1;33m,\u001b[0m\u001b[1;34m'fruitPrice'\u001b[0m\u001b[1;33m]\u001b[0m\u001b[1;33m)\u001b[0m\u001b[1;33m\u001b[0m\u001b[1;33m\u001b[0m\u001b[0m\n\u001b[0m",
      "\u001b[1;31mNameError\u001b[0m: name 'fruitData' is not defined"
     ]
    }
   ],
   "source": [
    "fruitFrame = DataFrame(fruitData, index=fruitName, columns=['num','fruitPrice'])"
   ]
  },
  {
   "cell_type": "code",
   "execution_count": null,
   "id": "muslim-university",
   "metadata": {},
   "outputs": [],
   "source": []
  }
 ],
 "metadata": {
  "kernelspec": {
   "display_name": "Python 3",
   "language": "python",
   "name": "python3"
  },
  "language_info": {
   "codemirror_mode": {
    "name": "ipython",
    "version": 3
   },
   "file_extension": ".py",
   "mimetype": "text/x-python",
   "name": "python",
   "nbconvert_exporter": "python",
   "pygments_lexer": "ipython3",
   "version": "3.8.8"
  }
 },
 "nbformat": 4,
 "nbformat_minor": 5
}
