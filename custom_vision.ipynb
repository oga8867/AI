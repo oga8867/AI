{
  "nbformat": 4,
  "nbformat_minor": 0,
  "metadata": {
    "colab": {
      "provenance": [],
      "collapsed_sections": [],
      "authorship_tag": "ABX9TyPdU7sONMzpYvSodKzx6CH0",
      "include_colab_link": true
    },
    "kernelspec": {
      "name": "python3",
      "display_name": "Python 3"
    },
    "language_info": {
      "name": "python"
    }
  },
  "cells": [
    {
      "cell_type": "markdown",
      "metadata": {
        "id": "view-in-github",
        "colab_type": "text"
      },
      "source": [
        "<a href=\"https://colab.research.google.com/github/oga8867/AI/blob/main/custom_vision.ipynb\" target=\"_parent\"><img src=\"https://colab.research.google.com/assets/colab-badge.svg\" alt=\"Open In Colab\"/></a>"
      ]
    },
    {
      "cell_type": "code",
      "execution_count": 2,
      "metadata": {
        "colab": {
          "base_uri": "https://localhost:8080/"
        },
        "id": "LA6ZhM7h3zUP",
        "outputId": "202a2873-59ff-4ad0-ac63-e13030ffb929"
      },
      "outputs": [
        {
          "output_type": "stream",
          "name": "stdout",
          "text": [
            "Looking in indexes: https://pypi.org/simple, https://us-python.pkg.dev/colab-wheels/public/simple/\n",
            "Collecting azure-cognitiveservices-vision-customvision\n",
            "  Downloading azure_cognitiveservices_vision_customvision-3.1.0-py2.py3-none-any.whl (62 kB)\n",
            "\u001b[K     |████████████████████████████████| 62 kB 543 kB/s \n",
            "\u001b[?25hCollecting azure-common~=1.1\n",
            "  Downloading azure_common-1.1.28-py2.py3-none-any.whl (14 kB)\n",
            "Collecting msrest>=0.5.0\n",
            "  Downloading msrest-0.7.1-py3-none-any.whl (85 kB)\n",
            "\u001b[K     |████████████████████████████████| 85 kB 3.4 MB/s \n",
            "\u001b[?25hCollecting isodate>=0.6.0\n",
            "  Downloading isodate-0.6.1-py2.py3-none-any.whl (41 kB)\n",
            "\u001b[K     |████████████████████████████████| 41 kB 445 kB/s \n",
            "\u001b[?25hRequirement already satisfied: requests-oauthlib>=0.5.0 in /usr/local/lib/python3.7/dist-packages (from msrest>=0.5.0->azure-cognitiveservices-vision-customvision) (1.3.1)\n",
            "Requirement already satisfied: requests~=2.16 in /usr/local/lib/python3.7/dist-packages (from msrest>=0.5.0->azure-cognitiveservices-vision-customvision) (2.23.0)\n",
            "Collecting azure-core>=1.24.0\n",
            "  Downloading azure_core-1.26.0-py3-none-any.whl (178 kB)\n",
            "\u001b[K     |████████████████████████████████| 178 kB 33.8 MB/s \n",
            "\u001b[?25hRequirement already satisfied: certifi>=2017.4.17 in /usr/local/lib/python3.7/dist-packages (from msrest>=0.5.0->azure-cognitiveservices-vision-customvision) (2022.9.24)\n",
            "Requirement already satisfied: typing-extensions>=4.0.1 in /usr/local/lib/python3.7/dist-packages (from azure-core>=1.24.0->msrest>=0.5.0->azure-cognitiveservices-vision-customvision) (4.1.1)\n",
            "Requirement already satisfied: six>=1.11.0 in /usr/local/lib/python3.7/dist-packages (from azure-core>=1.24.0->msrest>=0.5.0->azure-cognitiveservices-vision-customvision) (1.15.0)\n",
            "Requirement already satisfied: chardet<4,>=3.0.2 in /usr/local/lib/python3.7/dist-packages (from requests~=2.16->msrest>=0.5.0->azure-cognitiveservices-vision-customvision) (3.0.4)\n",
            "Requirement already satisfied: idna<3,>=2.5 in /usr/local/lib/python3.7/dist-packages (from requests~=2.16->msrest>=0.5.0->azure-cognitiveservices-vision-customvision) (2.10)\n",
            "Requirement already satisfied: urllib3!=1.25.0,!=1.25.1,<1.26,>=1.21.1 in /usr/local/lib/python3.7/dist-packages (from requests~=2.16->msrest>=0.5.0->azure-cognitiveservices-vision-customvision) (1.24.3)\n",
            "Requirement already satisfied: oauthlib>=3.0.0 in /usr/local/lib/python3.7/dist-packages (from requests-oauthlib>=0.5.0->msrest>=0.5.0->azure-cognitiveservices-vision-customvision) (3.2.1)\n",
            "Installing collected packages: isodate, azure-core, msrest, azure-common, azure-cognitiveservices-vision-customvision\n",
            "Successfully installed azure-cognitiveservices-vision-customvision-3.1.0 azure-common-1.1.28 azure-core-1.26.0 isodate-0.6.1 msrest-0.7.1\n"
          ]
        }
      ],
      "source": [
        "!pip install azure-cognitiveservices-vision-customvision"
      ]
    },
    {
      "cell_type": "code",
      "source": [
        "from azure.cognitiveservices.vision.customvision.training import CustomVisionTrainingClient\n",
        "from azure.cognitiveservices.vision.customvision.training.models import ImageFileCreateEntry\n",
        "from azure.cognitiveservices.vision.customvision.training.models import ImageFileCreateBatch, ImageFileCreateEntry, Region\n",
        "from msrest.authentication import ApiKeyCredentials\n",
        "import os, time, uuid"
      ],
      "metadata": {
        "id": "QfvAh0lX4HwK"
      },
      "execution_count": 3,
      "outputs": []
    },
    {
      "cell_type": "code",
      "source": [
        "ENDPOINT_training  = 'https://labuser40custom.cognitiveservices.azure.com/'\n",
        "ENDPOINT_predictive = 'https://labuser40custom-prediction.cognitiveservices.azure.com/'\n",
        "\n",
        "\n",
        "training_kerasdfy = '4da4407fdea24d78be494dea72e352bc'\n",
        "training_key = '4da4407fdea24d78be494dea72e352bc'\n",
        "prediction_key = '7958cf9fdddc4538a3e18ccf77f1e791'\n",
        "prediction_resource_id = '/subscriptions/7ae06d59-97e1-4a36-bbfe-efb081b9b03b/resourceGroups/RG40/providers/Microsoft.CognitiveServices/accounts/labuser40custom'"
      ],
      "metadata": {
        "id": "T4j8h62j6tMc"
      },
      "execution_count": 7,
      "outputs": []
    },
    {
      "cell_type": "code",
      "source": [
        "credentials = ApiKeyCredentials(in_headers={\"Training-key\": training_key})\n",
        "trainer = CustomVisionTrainingClient(ENDPOINT_training, credentials)"
      ],
      "metadata": {
        "id": "8cXwmclq7BuK"
      },
      "execution_count": 8,
      "outputs": []
    },
    {
      "cell_type": "code",
      "source": [
        "print (\"Creating project...\")\n",
        "project = trainer.create_project(\"Labuser40 Project\")"
      ],
      "metadata": {
        "colab": {
          "base_uri": "https://localhost:8080/"
        },
        "id": "_m28CICrBxXX",
        "outputId": "8fe971a0-4d5b-4c07-a1e2-70879ccbd08a"
      },
      "execution_count": 9,
      "outputs": [
        {
          "output_type": "stream",
          "name": "stdout",
          "text": [
            "Creating project...\n"
          ]
        }
      ]
    },
    {
      "cell_type": "code",
      "source": [
        "Jajangmyeon_tag = trainer.create_tag(project.id, \"짜장면\")\n",
        "Champon_tag = trainer.create_tag(project.id, \"짬뽕\")\n",
        "Tangsuyug_tag = trainer.create_tag(project.id, \"탕수육\")"
      ],
      "metadata": {
        "id": "s8R8x7PqCQOg",
        "colab": {
          "base_uri": "https://localhost:8080/",
          "height": 340
        },
        "outputId": "166a0387-f99d-43b6-9115-1e5dddbdba37"
      },
      "execution_count": 10,
      "outputs": [
        {
          "output_type": "error",
          "ename": "CustomVisionErrorException",
          "evalue": "ignored",
          "traceback": [
            "\u001b[0;31m---------------------------------------------------------------------------\u001b[0m",
            "\u001b[0;31mCustomVisionErrorException\u001b[0m                Traceback (most recent call last)",
            "\u001b[0;32m<ipython-input-10-bea4044c99ff>\u001b[0m in \u001b[0;36m<module>\u001b[0;34m\u001b[0m\n\u001b[0;32m----> 1\u001b[0;31m \u001b[0mJajangmyeon_tag\u001b[0m \u001b[0;34m=\u001b[0m \u001b[0mtrainer\u001b[0m\u001b[0;34m.\u001b[0m\u001b[0mcreate_tag\u001b[0m\u001b[0;34m(\u001b[0m\u001b[0mproject\u001b[0m\u001b[0;34m.\u001b[0m\u001b[0mid\u001b[0m\u001b[0;34m,\u001b[0m \u001b[0;34m\"짜장면\"\u001b[0m\u001b[0;34m)\u001b[0m\u001b[0;34m\u001b[0m\u001b[0;34m\u001b[0m\u001b[0m\n\u001b[0m\u001b[1;32m      2\u001b[0m \u001b[0mChampon_tag\u001b[0m \u001b[0;34m=\u001b[0m \u001b[0mtrainer\u001b[0m\u001b[0;34m.\u001b[0m\u001b[0mcreate_tag\u001b[0m\u001b[0;34m(\u001b[0m\u001b[0mproject\u001b[0m\u001b[0;34m.\u001b[0m\u001b[0mid\u001b[0m\u001b[0;34m,\u001b[0m \u001b[0;34m\"짬뽕\"\u001b[0m\u001b[0;34m)\u001b[0m\u001b[0;34m\u001b[0m\u001b[0;34m\u001b[0m\u001b[0m\n\u001b[1;32m      3\u001b[0m \u001b[0mTangsuyug_tag\u001b[0m \u001b[0;34m=\u001b[0m \u001b[0mtrainer\u001b[0m\u001b[0;34m.\u001b[0m\u001b[0mcreate_tag\u001b[0m\u001b[0;34m(\u001b[0m\u001b[0mproject\u001b[0m\u001b[0;34m.\u001b[0m\u001b[0mid\u001b[0m\u001b[0;34m,\u001b[0m \u001b[0;34m\"탕수육\"\u001b[0m\u001b[0;34m)\u001b[0m\u001b[0;34m\u001b[0m\u001b[0;34m\u001b[0m\u001b[0m\n",
            "\u001b[0;32m/usr/local/lib/python3.7/dist-packages/azure/cognitiveservices/vision/customvision/training/operations/_custom_vision_training_client_operations.py\u001b[0m in \u001b[0;36mcreate_tag\u001b[0;34m(self, project_id, name, description, type, custom_headers, raw, **operation_config)\u001b[0m\n\u001b[1;32m   2943\u001b[0m \u001b[0;34m\u001b[0m\u001b[0m\n\u001b[1;32m   2944\u001b[0m         \u001b[0;32mif\u001b[0m \u001b[0mresponse\u001b[0m\u001b[0;34m.\u001b[0m\u001b[0mstatus_code\u001b[0m \u001b[0;32mnot\u001b[0m \u001b[0;32min\u001b[0m \u001b[0;34m[\u001b[0m\u001b[0;36m200\u001b[0m\u001b[0;34m]\u001b[0m\u001b[0;34m:\u001b[0m\u001b[0;34m\u001b[0m\u001b[0;34m\u001b[0m\u001b[0m\n\u001b[0;32m-> 2945\u001b[0;31m             \u001b[0;32mraise\u001b[0m \u001b[0mmodels\u001b[0m\u001b[0;34m.\u001b[0m\u001b[0mCustomVisionErrorException\u001b[0m\u001b[0;34m(\u001b[0m\u001b[0mself\u001b[0m\u001b[0;34m.\u001b[0m\u001b[0m_deserialize\u001b[0m\u001b[0;34m,\u001b[0m \u001b[0mresponse\u001b[0m\u001b[0;34m)\u001b[0m\u001b[0;34m\u001b[0m\u001b[0;34m\u001b[0m\u001b[0m\n\u001b[0m\u001b[1;32m   2946\u001b[0m \u001b[0;34m\u001b[0m\u001b[0m\n\u001b[1;32m   2947\u001b[0m         \u001b[0mdeserialized\u001b[0m \u001b[0;34m=\u001b[0m \u001b[0;32mNone\u001b[0m\u001b[0;34m\u001b[0m\u001b[0;34m\u001b[0m\u001b[0m\n",
            "\u001b[0;31mCustomVisionErrorException\u001b[0m: Name not unique: 짜장면, Project: ffe4bb19-232a-4d5b-ade3-a4bdd7a530b7"
          ]
        }
      ]
    },
    {
      "cell_type": "code",
      "source": [
        "print('Training....')\n",
        "iteration = trainer.train_project(project.id)\n",
        "while (iteration.status != 'Completed'):\n",
        "  iteration = trainer.get_iteration(project.id, iteration.id)\n",
        "  print('Training status' + iteration.status)\n",
        "\n",
        "  time.sleep(5)\n",
        "\n",
        "print('Done!')"
      ],
      "metadata": {
        "colab": {
          "base_uri": "https://localhost:8080/"
        },
        "id": "EjMsum-yD9H1",
        "outputId": "dcec4273-d032-4bb2-83b4-fdce2611a3ab"
      },
      "execution_count": 11,
      "outputs": [
        {
          "output_type": "stream",
          "name": "stdout",
          "text": [
            "Training....\n",
            "Training statusTraining\n",
            "Training statusTraining\n",
            "Training statusTraining\n",
            "Training statusTraining\n",
            "Training statusTraining\n",
            "Training statusTraining\n",
            "Training statusTraining\n",
            "Training statusTraining\n",
            "Training statusTraining\n",
            "Training statusTraining\n",
            "Training statusTraining\n",
            "Training statusTraining\n",
            "Training statusTraining\n",
            "Training statusTraining\n",
            "Training statusTraining\n",
            "Training statusTraining\n",
            "Training statusTraining\n",
            "Training statusTraining\n",
            "Training statusTraining\n",
            "Training statusTraining\n",
            "Training statusTraining\n",
            "Training statusTraining\n",
            "Training statusTraining\n",
            "Training statusTraining\n",
            "Training statusTraining\n",
            "Training statusTraining\n",
            "Training statusTraining\n",
            "Training statusTraining\n",
            "Training statusTraining\n",
            "Training statusTraining\n",
            "Training statusTraining\n",
            "Training statusTraining\n",
            "Training statusTraining\n",
            "Training statusTraining\n",
            "Training statusTraining\n",
            "Training statusTraining\n",
            "Training statusTraining\n",
            "Training statusTraining\n",
            "Training statusTraining\n",
            "Training statusTraining\n",
            "Training statusTraining\n",
            "Training statusTraining\n",
            "Training statusTraining\n",
            "Training statusTraining\n",
            "Training statusTraining\n",
            "Training statusTraining\n",
            "Training statusTraining\n",
            "Training statusTraining\n",
            "Training statusTraining\n",
            "Training statusTraining\n",
            "Training statusTraining\n",
            "Training statusTraining\n",
            "Training statusTraining\n",
            "Training statusTraining\n",
            "Training statusTraining\n",
            "Training statusTraining\n",
            "Training statusTraining\n",
            "Training statusTraining\n",
            "Training statusTraining\n",
            "Training statusTraining\n",
            "Training statusTraining\n",
            "Training statusTraining\n",
            "Training statusTraining\n",
            "Training statusTraining\n",
            "Training statusTraining\n",
            "Training statusTraining\n",
            "Training statusTraining\n",
            "Training statusTraining\n",
            "Training statusTraining\n",
            "Training statusTraining\n",
            "Training statusTraining\n",
            "Training statusTraining\n",
            "Training statusTraining\n",
            "Training statusTraining\n",
            "Training statusTraining\n",
            "Training statusTraining\n",
            "Training statusTraining\n",
            "Training statusTraining\n",
            "Training statusTraining\n",
            "Training statusTraining\n",
            "Training statusTraining\n",
            "Training statusTraining\n",
            "Training statusTraining\n",
            "Training statusTraining\n",
            "Training statusTraining\n",
            "Training statusTraining\n",
            "Training statusTraining\n",
            "Training statusTraining\n",
            "Training statusTraining\n",
            "Training statusTraining\n",
            "Training statusTraining\n",
            "Training statusTraining\n",
            "Training statusTraining\n",
            "Training statusTraining\n",
            "Training statusTraining\n",
            "Training statusCompleted\n",
            "Done!\n"
          ]
        }
      ]
    },
    {
      "cell_type": "code",
      "source": [
        "from azure.cognitiveservices.vision.customvision.prediction import CustomVisionPredictionClient\n",
        "prediction_credentials = ApiKeyCredentials(in_headers={\"Prediction-key\" : prediction_key})\n",
        "predictor = CustomVisionPredictionClient(ENDPOINT_predictive, prediction_credentials)"
      ],
      "metadata": {
        "id": "abk4yC6DcJJE"
      },
      "execution_count": 14,
      "outputs": []
    },
    {
      "cell_type": "code",
      "source": [
        "target_image_url = 'https://upload.wikimedia.org/wikipedia/commons/b/bb/Jjamppong.jpg'\n",
        "result = predictor.classify_image_url(project.id,'great wall',target_image_url)"
      ],
      "metadata": {
        "id": "-WwGjS6fgVWt"
      },
      "execution_count": 15,
      "outputs": []
    },
    {
      "cell_type": "code",
      "source": [
        "result"
      ],
      "metadata": {
        "colab": {
          "base_uri": "https://localhost:8080/"
        },
        "id": "xlxGFwSehFnL",
        "outputId": "03d96ac0-79fa-4b62-db11-00a8b321acff"
      },
      "execution_count": 16,
      "outputs": [
        {
          "output_type": "execute_result",
          "data": {
            "text/plain": [
              "<azure.cognitiveservices.vision.customvision.prediction.models._models_py3.ImagePrediction at 0x7f505272a190>"
            ]
          },
          "metadata": {},
          "execution_count": 16
        }
      ]
    },
    {
      "cell_type": "code",
      "source": [
        "for prediction in result.predictions:\n",
        "  print(\"\\t\"+prediction.tag_name + \": {0:.2f}%\".format(prediction.probability *100))"
      ],
      "metadata": {
        "colab": {
          "base_uri": "https://localhost:8080/"
        },
        "id": "elzfT-lZhJyn",
        "outputId": "52c75992-308d-4357-e40c-840f19ee9380"
      },
      "execution_count": 20,
      "outputs": [
        {
          "output_type": "stream",
          "name": "stdout",
          "text": [
            "\t짬뽕: 99.91%\n",
            "\t짜장면: 0.77%\n",
            "\t탕수육: 0.01%\n"
          ]
        }
      ]
    }
  ]
}