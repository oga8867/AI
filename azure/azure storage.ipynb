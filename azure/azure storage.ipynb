{
 "cells": [
  {
   "cell_type": "code",
   "execution_count": 28,
   "id": "defensive-adobe",
   "metadata": {},
   "outputs": [
    {
     "name": "stdout",
     "output_type": "stream",
     "text": [
      "Requirement already satisfied: azure-storage-blob in c:\\users\\oga88\\anaconda3\\lib\\site-packages (12.14.1)\n",
      "Requirement already satisfied: azure-core<2.0.0,>=1.24.2 in c:\\users\\oga88\\anaconda3\\lib\\site-packages (from azure-storage-blob) (1.26.1)\n",
      "Requirement already satisfied: cryptography>=2.1.4 in c:\\users\\oga88\\anaconda3\\lib\\site-packages (from azure-storage-blob) (3.4.7)\n",
      "Requirement already satisfied: msrest>=0.7.1 in c:\\users\\oga88\\anaconda3\\lib\\site-packages (from azure-storage-blob) (0.7.1)\n",
      "Requirement already satisfied: typing-extensions>=4.0.1 in c:\\users\\oga88\\anaconda3\\lib\\site-packages (from azure-core<2.0.0,>=1.24.2->azure-storage-blob) (4.4.0)\n",
      "Requirement already satisfied: requests>=2.18.4 in c:\\users\\oga88\\anaconda3\\lib\\site-packages (from azure-core<2.0.0,>=1.24.2->azure-storage-blob) (2.25.1)\n",
      "Requirement already satisfied: six>=1.11.0 in c:\\users\\oga88\\anaconda3\\lib\\site-packages (from azure-core<2.0.0,>=1.24.2->azure-storage-blob) (1.15.0)\n",
      "Requirement already satisfied: cffi>=1.12 in c:\\users\\oga88\\anaconda3\\lib\\site-packages (from cryptography>=2.1.4->azure-storage-blob) (1.14.5)\n",
      "Requirement already satisfied: requests-oauthlib>=0.5.0 in c:\\users\\oga88\\anaconda3\\lib\\site-packages (from msrest>=0.7.1->azure-storage-blob) (1.3.0)\n",
      "Requirement already satisfied: isodate>=0.6.0 in c:\\users\\oga88\\anaconda3\\lib\\site-packages (from msrest>=0.7.1->azure-storage-blob) (0.6.1)\n",
      "Requirement already satisfied: certifi>=2017.4.17 in c:\\users\\oga88\\anaconda3\\lib\\site-packages (from msrest>=0.7.1->azure-storage-blob) (2020.12.5)\n",
      "Requirement already satisfied: pycparser in c:\\users\\oga88\\anaconda3\\lib\\site-packages (from cffi>=1.12->cryptography>=2.1.4->azure-storage-blob) (2.20)\n",
      "Requirement already satisfied: idna<3,>=2.5 in c:\\users\\oga88\\anaconda3\\lib\\site-packages (from requests>=2.18.4->azure-core<2.0.0,>=1.24.2->azure-storage-blob) (2.10)\n",
      "Requirement already satisfied: chardet<5,>=3.0.2 in c:\\users\\oga88\\anaconda3\\lib\\site-packages (from requests>=2.18.4->azure-core<2.0.0,>=1.24.2->azure-storage-blob) (4.0.0)\n",
      "Requirement already satisfied: urllib3<1.27,>=1.21.1 in c:\\users\\oga88\\anaconda3\\lib\\site-packages (from requests>=2.18.4->azure-core<2.0.0,>=1.24.2->azure-storage-blob) (1.26.4)\n",
      "Requirement already satisfied: oauthlib>=3.0.0 in c:\\users\\oga88\\anaconda3\\lib\\site-packages (from requests-oauthlib>=0.5.0->msrest>=0.7.1->azure-storage-blob) (3.1.0)\n"
     ]
    },
    {
     "name": "stderr",
     "output_type": "stream",
     "text": [
      "WARNING: You are using pip version 21.3; however, version 22.3.1 is available.\n",
      "You should consider upgrading via the 'c:\\users\\oga88\\anaconda3\\python.exe -m pip install --upgrade pip' command.\n"
     ]
    }
   ],
   "source": [
    "!pip install azure-storage-blob"
   ]
  },
  {
   "cell_type": "code",
   "execution_count": 29,
   "id": "nearby-mentor",
   "metadata": {},
   "outputs": [],
   "source": [
    "# 필요한 패키지를 불러옵니다. \n",
    "import os, uuid\n",
    "from azure.storage.blob import BlobServiceClient, BlobClient, ContainerClient"
   ]
  },
  {
   "cell_type": "code",
   "execution_count": 30,
   "id": "worth-yahoo",
   "metadata": {},
   "outputs": [],
   "source": [
    "# Blob 서비스에 연결합니다. \n",
    "connect_string = 'DefaultEndpointsProtocol=https;AccountName=labuser40storage2;AccountKey=x/h+uMbchuZS9lcfctzUnoayJ9jMd8GcG6OWKOY+4wSd4mGeeKShvzTYcj9x0+FuNscbrhsBPUCX+AStRgDGfQ==;EndpointSuffix=core.windows.net'\n",
    "\n",
    "blob_service_client = BlobServiceClient.from_connection_string(connect_string)"
   ]
  },
  {
   "cell_type": "code",
   "execution_count": 31,
   "id": "simplified-mongolia",
   "metadata": {},
   "outputs": [
    {
     "name": "stdout",
     "output_type": "stream",
     "text": [
      "15f70b91-a7c8-48f6-b580-64cee11d0eaa\n"
     ]
    }
   ],
   "source": [
    "# Container 생성한다. \n",
    "container_name = str(uuid.uuid4())\n",
    "print(container_name)\n",
    "\n",
    "container_client = blob_service_client.create_container(container_name)"
   ]
  },
  {
   "cell_type": "code",
   "execution_count": 32,
   "id": "skilled-separation",
   "metadata": {
    "scrolled": true
   },
   "outputs": [],
   "source": [
    "# 데이터를 업로드 한다. \n",
    "\n",
    "local_path ='./data'\n",
    "os.mkdir(local_path)\n",
    "\n",
    "local_file_name = str(uuid.uuid4()) + '.txt'\n",
    "upload_file_path = os.path.join(local_path, local_file_name)"
   ]
  },
  {
   "cell_type": "code",
   "execution_count": 34,
   "id": "designed-growth",
   "metadata": {},
   "outputs": [],
   "source": [
    "# 업로드 할 파일을 준비한다. \n",
    "file = open(file=upload_file_path, mode='w')\n",
    "file.write('Hello Azure Storaege')\n",
    "file.close()\n",
    "\n",
    "upload_file_path = os.path.join(local_path, local_file_name)\n",
    "\n",
    "blob_client = blob_service_client.get_blob_client(container=container_name,\n",
    "                                                  blob=local_file_name)\n",
    "with open(file=upload_file_path, mode='rb') as data:\n",
    "  blob_client.upload_blob(data)"
   ]
  },
  {
   "cell_type": "code",
   "execution_count": 35,
   "id": "reduced-excitement",
   "metadata": {},
   "outputs": [
    {
     "name": "stdout",
     "output_type": "stream",
     "text": [
      "\t2240942b-934b-41a9-9649-f3215d1cad0c.txt\n"
     ]
    }
   ],
   "source": [
    "# 파일의 목록의 확인 \n",
    "blob_list = container_client.list_blobs()\n",
    "for blob in blob_list:\n",
    "  print('\\t' + blob.name)"
   ]
  },
  {
   "cell_type": "code",
   "execution_count": 38,
   "id": "clinical-healthcare",
   "metadata": {},
   "outputs": [],
   "source": [
    "#업로드된 파일의 다운로드 \n",
    "\n",
    "download_file_path = os.path.join(local_path, \n",
    "                                  str.replace(local_file_name,'.txt','DOWNLOAD.txt'))\n",
    "container_client = blob_service_client.get_container_client(container= container_name) \n",
    "\n",
    "with open(file=download_file_path, mode='wb') as download_file:\n",
    "  download_file.write(container_client.download_blob(blob.name).readall())"
   ]
  },
  {
   "cell_type": "code",
   "execution_count": 39,
   "id": "coastal-pendant",
   "metadata": {},
   "outputs": [
    {
     "name": "stdout",
     "output_type": "stream",
     "text": [
      "Press the Enter key to begin clean up\n",
      "\n",
      "Deleting blob container...\n",
      "Deleting the local source and downloaded files...\n",
      "Done\n"
     ]
    }
   ],
   "source": [
    "# 실습한 자원의 정리\n",
    "print('Press the Enter key to begin clean up')\n",
    "input()\n",
    "\n",
    "print('Deleting blob container...')\n",
    "container_client.delete_container()\n",
    "\n",
    "print('Deleting the local source and downloaded files...')\n",
    "os.remove(upload_file_path)\n",
    "os.remove(download_file_path)\n",
    "os.rmdir(local_path)\n",
    "\n",
    "print('Done')"
   ]
  },
  {
   "cell_type": "code",
   "execution_count": null,
   "id": "working-officer",
   "metadata": {},
   "outputs": [],
   "source": []
  }
 ],
 "metadata": {
  "kernelspec": {
   "display_name": "Python 3",
   "language": "python",
   "name": "python3"
  },
  "language_info": {
   "codemirror_mode": {
    "name": "ipython",
    "version": 3
   },
   "file_extension": ".py",
   "mimetype": "text/x-python",
   "name": "python",
   "nbconvert_exporter": "python",
   "pygments_lexer": "ipython3",
   "version": "3.8.8"
  }
 },
 "nbformat": 4,
 "nbformat_minor": 5
}
