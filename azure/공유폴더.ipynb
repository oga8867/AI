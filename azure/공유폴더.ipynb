{
 "cells": [
  {
   "cell_type": "code",
   "execution_count": 1,
   "id": "private-nightlife",
   "metadata": {},
   "outputs": [
    {
     "name": "stdout",
     "output_type": "stream",
     "text": [
      "Collecting azure-storage-file"
     ]
    },
    {
     "name": "stderr",
     "output_type": "stream",
     "text": [
      "WARNING: You are using pip version 21.3; however, version 22.3.1 is available.\n",
      "You should consider upgrading via the 'c:\\users\\oga88\\anaconda3\\python.exe -m pip install --upgrade pip' command.\n"
     ]
    },
    {
     "name": "stdout",
     "output_type": "stream",
     "text": [
      "\n",
      "  Downloading azure_storage_file-2.1.0-py2.py3-none-any.whl (36 kB)\n",
      "Collecting azure-storage-common~=2.1\n",
      "  Downloading azure_storage_common-2.1.0-py2.py3-none-any.whl (47 kB)\n",
      "Collecting azure-common>=1.1.5\n",
      "  Downloading azure_common-1.1.28-py2.py3-none-any.whl (14 kB)\n",
      "Requirement already satisfied: cryptography in c:\\users\\oga88\\anaconda3\\lib\\site-packages (from azure-storage-common~=2.1->azure-storage-file) (3.4.7)\n",
      "Requirement already satisfied: requests in c:\\users\\oga88\\anaconda3\\lib\\site-packages (from azure-storage-common~=2.1->azure-storage-file) (2.25.1)\n",
      "Requirement already satisfied: python-dateutil in c:\\users\\oga88\\anaconda3\\lib\\site-packages (from azure-storage-common~=2.1->azure-storage-file) (2.8.1)\n",
      "Requirement already satisfied: cffi>=1.12 in c:\\users\\oga88\\anaconda3\\lib\\site-packages (from cryptography->azure-storage-common~=2.1->azure-storage-file) (1.14.5)\n",
      "Requirement already satisfied: six>=1.5 in c:\\users\\oga88\\anaconda3\\lib\\site-packages (from python-dateutil->azure-storage-common~=2.1->azure-storage-file) (1.15.0)\n",
      "Requirement already satisfied: chardet<5,>=3.0.2 in c:\\users\\oga88\\anaconda3\\lib\\site-packages (from requests->azure-storage-common~=2.1->azure-storage-file) (4.0.0)\n",
      "Requirement already satisfied: certifi>=2017.4.17 in c:\\users\\oga88\\anaconda3\\lib\\site-packages (from requests->azure-storage-common~=2.1->azure-storage-file) (2020.12.5)\n",
      "Requirement already satisfied: urllib3<1.27,>=1.21.1 in c:\\users\\oga88\\anaconda3\\lib\\site-packages (from requests->azure-storage-common~=2.1->azure-storage-file) (1.26.4)\n",
      "Requirement already satisfied: idna<3,>=2.5 in c:\\users\\oga88\\anaconda3\\lib\\site-packages (from requests->azure-storage-common~=2.1->azure-storage-file) (2.10)\n",
      "Requirement already satisfied: pycparser in c:\\users\\oga88\\anaconda3\\lib\\site-packages (from cffi>=1.12->cryptography->azure-storage-common~=2.1->azure-storage-file) (2.20)\n",
      "Installing collected packages: azure-common, azure-storage-common, azure-storage-file\n",
      "Successfully installed azure-common-1.1.28 azure-storage-common-2.1.0 azure-storage-file-2.1.0\n"
     ]
    }
   ],
   "source": [
    "!pip install azure-storage-file"
   ]
  },
  {
   "cell_type": "code",
   "execution_count": 2,
   "id": "processed-toyota",
   "metadata": {},
   "outputs": [],
   "source": [
    "from azure.storage.file import FileService\n",
    "file_service = FileService(account_name='labuser40storage2', account_key = 'x/h+uMbchuZS9lcfctzUnoayJ9jMd8GcG6OWKOY+4wSd4mGeeKShvzTYcj9x0+FuNscbrhsBPUCX+AStRgDGfQ==')\n",
    "\n"
   ]
  },
  {
   "cell_type": "code",
   "execution_count": 3,
   "id": "careful-bobby",
   "metadata": {},
   "outputs": [
    {
     "data": {
      "text/plain": [
       "True"
      ]
     },
     "execution_count": 3,
     "metadata": {},
     "output_type": "execute_result"
    }
   ],
   "source": [
    "file_service.create_share('myshare')"
   ]
  },
  {
   "cell_type": "code",
   "execution_count": 4,
   "id": "median-immune",
   "metadata": {},
   "outputs": [
    {
     "data": {
      "text/plain": [
       "True"
      ]
     },
     "execution_count": 4,
     "metadata": {},
     "output_type": "execute_result"
    }
   ],
   "source": [
    "file_service.create_directory('myshare','sampledir')"
   ]
  },
  {
   "cell_type": "code",
   "execution_count": 6,
   "id": "french-school",
   "metadata": {},
   "outputs": [],
   "source": [
    "from azure.storage.file import ContentSettings\n",
    "\n",
    "file_service.create_file_from_path('myshare',\n",
    "                                   None,\n",
    "                                   'myfile',\n",
    "                                   'blackCat.jpg',\n",
    "                                   content_settings=ContentSettings(content_type='image/jpg'))"
   ]
  },
  {
   "cell_type": "code",
   "execution_count": 7,
   "id": "expensive-participation",
   "metadata": {},
   "outputs": [
    {
     "name": "stdout",
     "output_type": "stream",
     "text": [
      "<azure.storage.file.models.File object at 0x0000027904CB5A00>\n",
      "<azure.storage.file.models.Directory object at 0x0000027904CF1490>\n"
     ]
    }
   ],
   "source": [
    "generator = file_service.list_directories_and_files('myshare')\n",
    "for file_or_dir in generator:\n",
    "  print(file_or_dir)"
   ]
  },
  {
   "cell_type": "code",
   "execution_count": 8,
   "id": "unique-right",
   "metadata": {},
   "outputs": [
    {
     "data": {
      "text/plain": [
       "<azure.storage.file.models.File at 0x27904cf1d60>"
      ]
     },
     "execution_count": 8,
     "metadata": {},
     "output_type": "execute_result"
    }
   ],
   "source": [
    "file_service.get_file_to_path('myshare',None,'myfile','out-IU.jpg')"
   ]
  },
  {
   "cell_type": "code",
   "execution_count": null,
   "id": "accepted-development",
   "metadata": {},
   "outputs": [],
   "source": []
  }
 ],
 "metadata": {
  "kernelspec": {
   "display_name": "Python 3",
   "language": "python",
   "name": "python3"
  },
  "language_info": {
   "codemirror_mode": {
    "name": "ipython",
    "version": 3
   },
   "file_extension": ".py",
   "mimetype": "text/x-python",
   "name": "python",
   "nbconvert_exporter": "python",
   "pygments_lexer": "ipython3",
   "version": "3.8.8"
  }
 },
 "nbformat": 4,
 "nbformat_minor": 5
}
